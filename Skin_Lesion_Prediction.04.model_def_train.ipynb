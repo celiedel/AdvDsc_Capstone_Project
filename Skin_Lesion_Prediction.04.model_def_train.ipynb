{
 "cells": [
  {
   "cell_type": "markdown",
   "id": "dfe04bbc",
   "metadata": {},
   "source": [
    "# Skin Lesion Prediction - Modeling\n",
    "After feature engineering - model definition and training.\n",
    "\n",
    "* Choose, justify and apply a model performance indicator (e.g. F1 score, true positive rate, within cluster sum of squared error, …) to assess your model and justify the choice of an algorithm\n",
    "* Implement your algorithm in at least one deep learning and at least one non-deep learning algorithm, compare and document model performance\n",
    "* Apply at least one additional iteration in the process model involving at least the feature creation task and record impact on model performance (e.g. data normalizing, PCA, …)\n"
   ]
  },
  {
   "cell_type": "markdown",
   "id": "a5e9e083",
   "metadata": {},
   "source": [
    "### Metric\n",
    "We have a multiclass classification task so the metric will be *Accuracy.* We will also look at *Precision, Recall/Sensitivity, and Specificity*\n",
    "This is also a medical classification; *Sensitivity and Specificity* are used for evaluation in this field. "
   ]
  },
  {
   "cell_type": "markdown",
   "id": "151aa670",
   "metadata": {},
   "source": [
    "### Algorithms\n",
    "Non-Deep Learning:\n",
    "* 1.Dummy Classifier\n",
    "* 2.Logistic Regression (Altered for multiclass classification)\n",
    "* 3.Decision Tree\n",
    "* 4.Random Forest\n",
    "* 5.XGBoost Classifier\n",
    "    \n",
    "Neural Networks with loss function: (sparse_categorical_crossentropy)\n",
    "* 1.Single fully connected layer with same number of neurons as the input variables,\n",
    "     one hidden layer with 512 neurons and softmax output layer.\n",
    "* 2.Second model is the same as the first with an additional hidden layer of 64 neurons and a dropout           layer at (0.2) \n",
    "\n",
    "  "
   ]
  },
  {
   "cell_type": "code",
   "execution_count": 37,
   "id": "bbcc20ee",
   "metadata": {},
   "outputs": [],
   "source": [
    "# imports\n",
    "import numpy as np\n",
    "import pandas as pd\n",
    "#!pip install pandas-profiling\n",
    "import pandas_profiling\n",
    "from pandas_profiling import ProfileReport\n",
    "import matplotlib.pyplot as plt\n",
    "import seaborn as sns\n",
    "from collections import Counter\n",
    "from imblearn.over_sampling import SMOTE\n",
    "import graphviz\n",
    "%matplotlib inline\n",
    "\n",
    "np.random.seed(123)\n",
    "\n",
    "#!pip install scikit-learn\n",
    "import sklearn\n",
    "import scikitplot as skplt\n",
    "import sklearn.feature_selection\n",
    "from sklearn.preprocessing import label_binarize,OneHotEncoder\n",
    "from sklearn.metrics import confusion_matrix, classification_report\n",
    "from sklearn.metrics import accuracy_score\n",
    "from sklearn.model_selection import train_test_split\n",
    "from sklearn.model_selection import cross_val_score\n",
    "from sklearn.model_selection import StratifiedKFold\n",
    "from sklearn.preprocessing import StandardScaler\n",
    "from sklearn.pipeline import Pipeline\n",
    "\n",
    "\n",
    "import tensorflow as tf\n",
    "import keras\n",
    "from keras import regularizers\n",
    "from keras.models import Model\n",
    "from keras.layers import Input\n",
    "from keras.layers import Dense, Dropout, Flatten\n",
    "from keras.layers import Conv2D, MaxPooling2D,AveragePooling2D\n",
    "from keras.models import Sequential, load_model\n",
    "from keras.utils.np_utils import to_categorical\n",
    "from keras.optimizers import RMSprop, Adam\n",
    "from keras.callbacks import ReduceLROnPlateau\n",
    "from keras.layers import LeakyReLU\n",
    "from keras.preprocessing.image import ImageDataGenerator\n",
    "from keras.layers.normalization import BatchNormalization\n",
    "from keras.layers.convolutional import SeparableConv2D\n",
    "from keras.layers.core import Activation\n",
    "from keras import backend as K\n",
    "from keras.callbacks import EarlyStopping\n",
    "from keras.wrappers.scikit_learn import KerasClassifier"
   ]
  },
  {
   "cell_type": "markdown",
   "id": "35f641ce",
   "metadata": {},
   "source": [
    "## Load dataset"
   ]
  },
  {
   "cell_type": "code",
   "execution_count": 59,
   "id": "9735c62e",
   "metadata": {},
   "outputs": [
    {
     "data": {
      "text/html": [
       "<div>\n",
       "<style scoped>\n",
       "    .dataframe tbody tr th:only-of-type {\n",
       "        vertical-align: middle;\n",
       "    }\n",
       "\n",
       "    .dataframe tbody tr th {\n",
       "        vertical-align: top;\n",
       "    }\n",
       "\n",
       "    .dataframe thead th {\n",
       "        text-align: right;\n",
       "    }\n",
       "</style>\n",
       "<table border=\"1\" class=\"dataframe\">\n",
       "  <thead>\n",
       "    <tr style=\"text-align: right;\">\n",
       "      <th></th>\n",
       "      <th>pixel0000</th>\n",
       "      <th>pixel0001</th>\n",
       "      <th>pixel0002</th>\n",
       "      <th>pixel0003</th>\n",
       "      <th>pixel0004</th>\n",
       "      <th>pixel0005</th>\n",
       "      <th>pixel0006</th>\n",
       "      <th>pixel0007</th>\n",
       "      <th>pixel0008</th>\n",
       "      <th>pixel0009</th>\n",
       "      <th>...</th>\n",
       "      <th>pixel2346</th>\n",
       "      <th>pixel2347</th>\n",
       "      <th>pixel2348</th>\n",
       "      <th>pixel2349</th>\n",
       "      <th>pixel2350</th>\n",
       "      <th>pixel2351</th>\n",
       "      <th>label</th>\n",
       "      <th>sex</th>\n",
       "      <th>localization</th>\n",
       "      <th>age</th>\n",
       "    </tr>\n",
       "  </thead>\n",
       "  <tbody>\n",
       "    <tr>\n",
       "      <th>0</th>\n",
       "      <td>192</td>\n",
       "      <td>153</td>\n",
       "      <td>193</td>\n",
       "      <td>195</td>\n",
       "      <td>155</td>\n",
       "      <td>192</td>\n",
       "      <td>197</td>\n",
       "      <td>154</td>\n",
       "      <td>185</td>\n",
       "      <td>202</td>\n",
       "      <td>...</td>\n",
       "      <td>183</td>\n",
       "      <td>147</td>\n",
       "      <td>166</td>\n",
       "      <td>185</td>\n",
       "      <td>154</td>\n",
       "      <td>177</td>\n",
       "      <td>2</td>\n",
       "      <td>0</td>\n",
       "      <td>0</td>\n",
       "      <td>80</td>\n",
       "    </tr>\n",
       "    <tr>\n",
       "      <th>1</th>\n",
       "      <td>25</td>\n",
       "      <td>14</td>\n",
       "      <td>30</td>\n",
       "      <td>68</td>\n",
       "      <td>48</td>\n",
       "      <td>75</td>\n",
       "      <td>123</td>\n",
       "      <td>93</td>\n",
       "      <td>126</td>\n",
       "      <td>158</td>\n",
       "      <td>...</td>\n",
       "      <td>25</td>\n",
       "      <td>14</td>\n",
       "      <td>28</td>\n",
       "      <td>25</td>\n",
       "      <td>14</td>\n",
       "      <td>27</td>\n",
       "      <td>2</td>\n",
       "      <td>0</td>\n",
       "      <td>0</td>\n",
       "      <td>80</td>\n",
       "    </tr>\n",
       "    <tr>\n",
       "      <th>2</th>\n",
       "      <td>192</td>\n",
       "      <td>138</td>\n",
       "      <td>153</td>\n",
       "      <td>200</td>\n",
       "      <td>145</td>\n",
       "      <td>163</td>\n",
       "      <td>201</td>\n",
       "      <td>142</td>\n",
       "      <td>160</td>\n",
       "      <td>206</td>\n",
       "      <td>...</td>\n",
       "      <td>159</td>\n",
       "      <td>124</td>\n",
       "      <td>142</td>\n",
       "      <td>136</td>\n",
       "      <td>104</td>\n",
       "      <td>117</td>\n",
       "      <td>2</td>\n",
       "      <td>0</td>\n",
       "      <td>0</td>\n",
       "      <td>80</td>\n",
       "    </tr>\n",
       "  </tbody>\n",
       "</table>\n",
       "<p>3 rows × 2356 columns</p>\n",
       "</div>"
      ],
      "text/plain": [
       "   pixel0000  pixel0001  pixel0002  pixel0003  pixel0004  pixel0005  \\\n",
       "0        192        153        193        195        155        192   \n",
       "1         25         14         30         68         48         75   \n",
       "2        192        138        153        200        145        163   \n",
       "\n",
       "   pixel0006  pixel0007  pixel0008  pixel0009  ...  pixel2346  pixel2347  \\\n",
       "0        197        154        185        202  ...        183        147   \n",
       "1        123         93        126        158  ...         25         14   \n",
       "2        201        142        160        206  ...        159        124   \n",
       "\n",
       "   pixel2348  pixel2349  pixel2350  pixel2351  label  sex  localization  age  \n",
       "0        166        185        154        177      2    0             0   80  \n",
       "1         28         25         14         27      2    0             0   80  \n",
       "2        142        136        104        117      2    0             0   80  \n",
       "\n",
       "[3 rows x 2356 columns]"
      ]
     },
     "execution_count": 59,
     "metadata": {},
     "output_type": "execute_result"
    }
   ],
   "source": [
    "skindf = pd.read_csv('skindf.csv')\n",
    "skindf.head(3)"
   ]
  },
  {
   "cell_type": "code",
   "execution_count": 60,
   "id": "f2f080bd",
   "metadata": {},
   "outputs": [],
   "source": [
    "#Split features and targets and make copy of df\n",
    "X = skindf.drop('label',axis=1).copy() \n",
    "y = skindf['label'].copy()"
   ]
  },
  {
   "cell_type": "code",
   "execution_count": 61,
   "id": "1b2481a0",
   "metadata": {},
   "outputs": [
    {
     "name": "stdout",
     "output_type": "stream",
     "text": [
      "0.7.0\n",
      "Counter({4: 6705, 6: 1113, 2: 1099, 1: 514, 0: 327, 5: 142, 3: 115})\n"
     ]
    }
   ],
   "source": [
    "import imblearn\n",
    "from collections import Counter\n",
    "print(imblearn.__version__)\n",
    "counter = Counter(y)\n",
    "print(counter)"
   ]
  },
  {
   "cell_type": "code",
   "execution_count": 62,
   "id": "2d57a14f",
   "metadata": {
    "scrolled": true
   },
   "outputs": [
    {
     "name": "stdout",
     "output_type": "stream",
     "text": [
      "Class=2, n=1099 (10.974%)\n",
      "Class=4, n=6705 (66.950%)\n",
      "Class=3, n=115 (1.148%)\n",
      "Class=6, n=1113 (11.113%)\n",
      "Class=5, n=142 (1.418%)\n",
      "Class=1, n=514 (5.132%)\n",
      "Class=0, n=327 (3.265%)\n"
     ]
    }
   ],
   "source": [
    "#Class distributions\n",
    "import matplotlib.pyplot as pyplot\n",
    "from imblearn.over_sampling import SMOTE\n",
    "from sklearn.preprocessing import LabelEncoder\n",
    "\n",
    "# label encode the target variable\n",
    "y = LabelEncoder().fit_transform(y)\n",
    "\n",
    "# summarize distribution\n",
    "counter = Counter(y)\n",
    "for k,v in counter.items():\n",
    "    per = v / len(y) * 100\n",
    "    print('Class=%d, n=%d (%.3f%%)' % (k, v, per))"
   ]
  },
  {
   "cell_type": "markdown",
   "id": "6634f5b8",
   "metadata": {},
   "source": [
    "#### Balance the dataset\n",
    "SMOTE\n",
    "\n",
    "Note: Not used in first iterations of ML algorithms"
   ]
  },
  {
   "cell_type": "code",
   "execution_count": 63,
   "id": "9cc2c8be",
   "metadata": {},
   "outputs": [
    {
     "name": "stdout",
     "output_type": "stream",
     "text": [
      "Class=2, n=6705 (14.286%)\n",
      "Class=4, n=6705 (14.286%)\n",
      "Class=3, n=6705 (14.286%)\n",
      "Class=6, n=6705 (14.286%)\n",
      "Class=5, n=6705 (14.286%)\n",
      "Class=1, n=6705 (14.286%)\n",
      "Class=0, n=6705 (14.286%)\n"
     ]
    }
   ],
   "source": [
    "#SMOTE\n",
    "# label encode the target variable\n",
    "y = LabelEncoder().fit_transform(y)\n",
    "\n",
    "# transform the dataset\n",
    "oversample = SMOTE()\n",
    "X, y = oversample.fit_resample(X, y)\n",
    "\n",
    "# summarize distribution\n",
    "counter = Counter(y)\n",
    "for k,v in counter.items():\n",
    "    per = v / len(y) * 100\n",
    "    print('Class=%d, n=%d (%.3f%%)' % (k, v, per))"
   ]
  },
  {
   "cell_type": "code",
   "execution_count": 64,
   "id": "4ac3bc1c",
   "metadata": {},
   "outputs": [
    {
     "data": {
      "text/plain": [
       "(46935, 2355)"
      ]
     },
     "execution_count": 64,
     "metadata": {},
     "output_type": "execute_result"
    }
   ],
   "source": [
    "X.shape"
   ]
  },
  {
   "cell_type": "code",
   "execution_count": 65,
   "id": "0adef65d",
   "metadata": {},
   "outputs": [
    {
     "data": {
      "text/plain": [
       "(46935,)"
      ]
     },
     "execution_count": 65,
     "metadata": {},
     "output_type": "execute_result"
    }
   ],
   "source": [
    "y.shape"
   ]
  },
  {
   "cell_type": "markdown",
   "id": "f61c08fa",
   "metadata": {},
   "source": [
    "## Scaling and PCA"
   ]
  },
  {
   "cell_type": "code",
   "execution_count": 66,
   "id": "d191d2df",
   "metadata": {},
   "outputs": [],
   "source": [
    "# Using 90% for training and 10% for testing\n",
    "from sklearn.model_selection import train_test_split\n",
    "\n",
    "X_train,X_test, y_train,y_test = train_test_split(X,y,train_size=0.9,random_state=0)\n",
    "X_train = X_train.astype('float32')\n",
    "X_test = X_test.astype('float32')"
   ]
  },
  {
   "cell_type": "code",
   "execution_count": 67,
   "id": "c4e2a8cf",
   "metadata": {},
   "outputs": [
    {
     "data": {
      "text/plain": [
       "(42241, 2355)"
      ]
     },
     "execution_count": 67,
     "metadata": {},
     "output_type": "execute_result"
    }
   ],
   "source": [
    "X_train.shape"
   ]
  },
  {
   "cell_type": "code",
   "execution_count": 68,
   "id": "640afc15",
   "metadata": {},
   "outputs": [
    {
     "data": {
      "text/plain": [
       "(4694, 2355)"
      ]
     },
     "execution_count": 68,
     "metadata": {},
     "output_type": "execute_result"
    }
   ],
   "source": [
    "X_test.shape"
   ]
  },
  {
   "cell_type": "code",
   "execution_count": 69,
   "id": "6b55e989",
   "metadata": {},
   "outputs": [],
   "source": [
    "#Standard Scaler\n",
    "from sklearn.preprocessing import StandardScaler\n",
    "scaler = StandardScaler()\n",
    "\n",
    "# Fit on training set only.\n",
    "scaler.fit(X_train)\n",
    "\n",
    "# Apply transform to both the training set and the test set.\n",
    "X_train = scaler.transform(X_train)\n",
    "X_test = scaler.transform(X_test)"
   ]
  },
  {
   "cell_type": "code",
   "execution_count": 70,
   "id": "209630b4",
   "metadata": {},
   "outputs": [],
   "source": [
    "#PCA\n",
    "from sklearn.decomposition import PCA\n",
    "\n",
    "#Make an instance of the Model\n",
    "pca = PCA(.95)"
   ]
  },
  {
   "cell_type": "code",
   "execution_count": 71,
   "id": "afe02f98",
   "metadata": {},
   "outputs": [
    {
     "data": {
      "text/plain": [
       "PCA(n_components=0.95)"
      ]
     },
     "execution_count": 71,
     "metadata": {},
     "output_type": "execute_result"
    }
   ],
   "source": [
    "#Fit PCA on training set\n",
    "pca.fit(X_train)"
   ]
  },
  {
   "cell_type": "code",
   "execution_count": 72,
   "id": "02ccdae8",
   "metadata": {},
   "outputs": [
    {
     "data": {
      "text/plain": [
       "59"
      ]
     },
     "execution_count": 72,
     "metadata": {},
     "output_type": "execute_result"
    }
   ],
   "source": [
    "pca.n_components_"
   ]
  },
  {
   "cell_type": "code",
   "execution_count": 73,
   "id": "0753fa41",
   "metadata": {},
   "outputs": [],
   "source": [
    "#Apply the mapping (transform) to both the training set and the test set\n",
    "X_train = pca.transform(X_train)\n",
    "X_test = pca.transform(X_test)"
   ]
  },
  {
   "cell_type": "code",
   "execution_count": 74,
   "id": "075771fa",
   "metadata": {},
   "outputs": [
    {
     "data": {
      "text/plain": [
       "(4694, 59)"
      ]
     },
     "execution_count": 74,
     "metadata": {},
     "output_type": "execute_result"
    }
   ],
   "source": [
    "X_test.shape"
   ]
  },
  {
   "cell_type": "code",
   "execution_count": 75,
   "id": "e306f5e4",
   "metadata": {
    "scrolled": true
   },
   "outputs": [
    {
     "data": {
      "text/plain": [
       "(42241, 59)"
      ]
     },
     "execution_count": 75,
     "metadata": {},
     "output_type": "execute_result"
    }
   ],
   "source": [
    "X_train.shape"
   ]
  },
  {
   "cell_type": "markdown",
   "id": "ddb8f5cb",
   "metadata": {},
   "source": [
    "# Model Definition and Training"
   ]
  },
  {
   "cell_type": "markdown",
   "id": "451fd584",
   "metadata": {},
   "source": [
    "### Baseline \n",
    "#### Dummy Classifier (Imbalanced data)"
   ]
  },
  {
   "cell_type": "code",
   "execution_count": 190,
   "id": "1e439cd1",
   "metadata": {},
   "outputs": [
    {
     "name": "stdout",
     "output_type": "stream",
     "text": [
      "Accuracy on train: 0.47930766670365027\n",
      "Accuracy on test: 0.4940119760479042\n",
      "Confusion Matrix:\n",
      "[[  0   1   1   0  22   1   3]\n",
      " [  0   4   3   1  39   0  10]\n",
      " [  3   5  11   2  70   1  16]\n",
      " [  0   0   2   0   9   0   4]\n",
      " [ 19  29  84   5 471  10  60]\n",
      " [  0   2   1   0   5   1   5]\n",
      " [  1  13  15   0  64   1   8]]\n"
     ]
    }
   ],
   "source": [
    "# Dummy Classifier for baseline \n",
    "from sklearn.dummy import DummyClassifier\n",
    "\n",
    "dummy= DummyClassifier(strategy='stratified',random_state=1)\n",
    "dummy.fit(X_train,y_train)\n",
    " \n",
    "predicted_dummy= dummy.predict(X_test)\n",
    "\n",
    "print('Accuracy on train:',dummy.score(X_train,y_train))\n",
    "print('Accuracy on test:',dummy.score(X_test,y_test))\n",
    "print('Confusion Matrix:\\n{}'.format(confusion_matrix(y_test,predicted_dummy)))"
   ]
  },
  {
   "cell_type": "code",
   "execution_count": 191,
   "id": "d4d28dcb",
   "metadata": {},
   "outputs": [
    {
     "data": {
      "text/plain": [
       "Text(0.5, 15.0, 'Predicted Class')"
      ]
     },
     "execution_count": 191,
     "metadata": {},
     "output_type": "execute_result"
    },
    {
     "data": {
      "image/png": "[encoded data removed]",
      "text/plain": [
       "<Figure size 432x288 with 2 Axes>"
      ]
     },
     "metadata": {
      "needs_background": "light"
     },
     "output_type": "display_data"
    }
   ],
   "source": [
    "cm = confusion_matrix(y_test,predicted_dummy)\n",
    "\n",
    "#plt.figure(figsize=(10, 10))\n",
    "sns.heatmap(cm, annot=True, fmt='g', vmin=0, cbar=True, cmap='icefire')\n",
    "plt.ylabel('True Class')\n",
    "plt.xlabel('Predicted Class')"
   ]
  },
  {
   "cell_type": "code",
   "execution_count": 192,
   "id": "a994001c",
   "metadata": {
    "scrolled": true
   },
   "outputs": [
    {
     "name": "stdout",
     "output_type": "stream",
     "text": [
      "dummy:               precision    recall  f1-score   support\n",
      "\n",
      "           0       0.00      0.00      0.00        28\n",
      "           1       0.07      0.07      0.07        57\n",
      "           2       0.09      0.10      0.10       108\n",
      "           3       0.00      0.00      0.00        15\n",
      "           4       0.69      0.69      0.69       678\n",
      "           5       0.07      0.07      0.07        14\n",
      "           6       0.08      0.08      0.08       102\n",
      "\n",
      "    accuracy                           0.49      1002\n",
      "   macro avg       0.14      0.15      0.14      1002\n",
      "weighted avg       0.49      0.49      0.49      1002\n",
      "\n"
     ]
    }
   ],
   "source": [
    "print(\"dummy:\",classification_report(y_test, predicted_dummy))"
   ]
  },
  {
   "cell_type": "code",
   "execution_count": 54,
   "id": "5a59a193",
   "metadata": {},
   "outputs": [],
   "source": [
    "# For class label mapping\n",
    "\n",
    "class_label = {\n",
    "    0: 'nv',\n",
    "    1: 'mel',\n",
    "    2: 'bkl',\n",
    "    3: 'bcc',\n",
    "    4: 'akiec',\n",
    "    5: 'vasc',\n",
    "    6: 'df'\n",
    "}"
   ]
  },
  {
   "cell_type": "code",
   "execution_count": 194,
   "id": "32c94766",
   "metadata": {
    "scrolled": true
   },
   "outputs": [
    {
     "name": "stdout",
     "output_type": "stream",
     "text": [
      "Class: {0: 'nv', 1: 'mel', 2: 'bkl', 3: 'bcc', 4: 'akiec', 5: 'vasc', 6: 'df'}\n",
      "Specificity: [0.97638604 0.94708995 0.88143177 0.99189463 0.35493827 0.98684211\n",
      " 0.89111111]\n",
      "Specificity Mean: 0.8613848385086357\n",
      "Class: {0: 'nv', 1: 'mel', 2: 'bkl', 3: 'bcc', 4: 'akiec', 5: 'vasc', 6: 'df'}\n",
      "Recall/Sensitivity: [0.         0.07017544 0.10185185 0.         0.69469027 0.07142857\n",
      " 0.07843137]\n",
      "Recall/Sensitivity Mean: 0.14522535713037996\n",
      "Class: {0: 'nv', 1: 'mel', 2: 'bkl', 3: 'bcc', 4: 'akiec', 5: 'vasc', 6: 'df'}\n",
      "Precision: [0.         0.07407407 0.09401709 0.         0.69264706 0.07142857\n",
      " 0.0754717 ]\n",
      "Precision Mean: 0.1439483566366395\n"
     ]
    }
   ],
   "source": [
    "#Performance metrics from confusion matrix \n",
    "\n",
    "FP = cm.sum(axis=0) - np.diag(cm) \n",
    "FN = cm.sum(axis=1) - np.diag(cm)\n",
    "TP = np.diag(cm)\n",
    "TN = cm.sum() - (FP + FN + TP)\n",
    "\n",
    "FP = FP.astype(float)\n",
    "FN = FN.astype(float)\n",
    "TP = TP.astype(float)\n",
    "TN = TN.astype(float)\n",
    "\n",
    "# Sensitivity, hit rate, Recall, or true positive rate\n",
    "TPR = TP/(TP+FN)\n",
    "\n",
    "# Specificity or true negative rate\n",
    "TNR = TN/(TN+FP) \n",
    "\n",
    "# Precision or positive predictive value\n",
    "PPV = TP/(TP+FP)\n",
    "\n",
    "# Negative predictive value\n",
    "NPV = TN/(TN+FN)\n",
    "\n",
    "# Fall out or false positive rate\n",
    "FPR = FP/(FP+TN)\n",
    "\n",
    "# False negative rate\n",
    "FNR = FN/(TP+FN)\n",
    "\n",
    "# False discovery rate\n",
    "FDR = FP/(TP+FP)\n",
    "\n",
    "\n",
    "print('Class:',class_label)\n",
    "\n",
    "print('Specificity:',TNR)\n",
    "print('Specificity Mean:',TNR.mean())\n",
    "\n",
    "print('Class:',class_label)\n",
    "\n",
    "print('Recall/Sensitivity:',TPR)\n",
    "print('Recall/Sensitivity Mean:',TPR.mean())\n",
    "\n",
    "print('Class:',class_label)\n",
    "\n",
    "print('Precision:',PPV)\n",
    "print('Precision Mean:',PPV.mean())\n"
   ]
  },
  {
   "cell_type": "markdown",
   "id": "a8221baf",
   "metadata": {},
   "source": [
    "### Dummy Classifier (Balanced data)"
   ]
  },
  {
   "cell_type": "code",
   "execution_count": 116,
   "id": "7dcad283",
   "metadata": {},
   "outputs": [
    {
     "name": "stdout",
     "output_type": "stream",
     "text": [
      "Accuracy on test: 0.14507882403067746\n",
      "Confusion Matrix:\n",
      "[[ 95  97  92 108  79 102  92]\n",
      " [106 109  93 106  96  76  90]\n",
      " [ 85  96 102  85  84 109 109]\n",
      " [ 90  91 104  75  80  94  87]\n",
      " [106  80 101 101  94 103 110]\n",
      " [107  96 101 106 100 100  95]\n",
      " [103  83  91  91  90  98 106]]\n"
     ]
    }
   ],
   "source": [
    "# Dummy Classifier for baseline \n",
    "from sklearn.dummy import DummyClassifier\n",
    "\n",
    "dummy= DummyClassifier(strategy='stratified',random_state=1)\n",
    "dummy.fit(X_train,y_train)\n",
    " \n",
    "predicted_dummy= dummy.predict(X_test)\n",
    "\n",
    "#print('Accuracy on train:',dummy.score(X_train,y_train))\n",
    "print('Accuracy on test:',dummy.score(X_test,y_test))\n",
    "print('Confusion Matrix:\\n{}'.format(confusion_matrix(y_test,predicted_dummy)))"
   ]
  },
  {
   "cell_type": "code",
   "execution_count": 117,
   "id": "527d48d8",
   "metadata": {},
   "outputs": [
    {
     "data": {
      "text/plain": [
       "Text(0.5, 15.0, 'Predicted Class')"
      ]
     },
     "execution_count": 117,
     "metadata": {},
     "output_type": "execute_result"
    },
    {
     "data": {
      "image/png": "[encoded data removed]",
      "text/plain": [
       "<Figure size 432x288 with 2 Axes>"
      ]
     },
     "metadata": {
      "needs_background": "light"
     },
     "output_type": "display_data"
    }
   ],
   "source": [
    "cm = confusion_matrix(y_test,predicted_dummy)\n",
    "\n",
    "#plt.figure(figsize=(10, 10))\n",
    "sns.heatmap(cm, annot=True, fmt='g', vmin=0, cbar=True, cmap='icefire')\n",
    "plt.ylabel('True Class')\n",
    "plt.xlabel('Predicted Class')"
   ]
  },
  {
   "cell_type": "code",
   "execution_count": 118,
   "id": "e7ab1bf8",
   "metadata": {},
   "outputs": [
    {
     "name": "stdout",
     "output_type": "stream",
     "text": [
      "dummy:               precision    recall  f1-score   support\n",
      "\n",
      "           0       0.14      0.14      0.14       665\n",
      "           1       0.17      0.16      0.16       676\n",
      "           2       0.15      0.15      0.15       670\n",
      "           3       0.11      0.12      0.12       621\n",
      "           4       0.15      0.14      0.14       695\n",
      "           5       0.15      0.14      0.14       705\n",
      "           6       0.15      0.16      0.16       662\n",
      "\n",
      "    accuracy                           0.15      4694\n",
      "   macro avg       0.15      0.14      0.14      4694\n",
      "weighted avg       0.15      0.15      0.15      4694\n",
      "\n"
     ]
    }
   ],
   "source": [
    "print(\"dummy:\",classification_report(y_test, predicted_dummy))"
   ]
  },
  {
   "cell_type": "code",
   "execution_count": 119,
   "id": "379ae16f",
   "metadata": {},
   "outputs": [],
   "source": [
    "# For class label mapping\n",
    "\n",
    "class_label = {\n",
    "    0: 'nv',\n",
    "    1: 'mel',\n",
    "    2: 'bkl',\n",
    "    3: 'bcc',\n",
    "    4: 'akiec',\n",
    "    5: 'vasc',\n",
    "    6: 'df'\n",
    "}"
   ]
  },
  {
   "cell_type": "code",
   "execution_count": 120,
   "id": "0e55ff02",
   "metadata": {},
   "outputs": [
    {
     "name": "stdout",
     "output_type": "stream",
     "text": [
      "Class: {0: 'nv', 1: 'mel', 2: 'bkl', 3: 'bcc', 4: 'akiec', 5: 'vasc', 6: 'df'}\n",
      "Specificity: [0.85182427 0.86485814 0.85536779 0.85342499 0.86771693 0.85409877\n",
      " 0.85540675]\n",
      "Specificity Mean: 0.857528235197042\n",
      "Class: {0: 'nv', 1: 'mel', 2: 'bkl', 3: 'bcc', 4: 'akiec', 5: 'vasc', 6: 'df'}\n",
      "Recall/Sensitivity: [0.14285714 0.1612426  0.15223881 0.12077295 0.1352518  0.14184397\n",
      " 0.16012085]\n",
      "Recall/Sensitivity Mean: 0.1449040164787569\n",
      "Class: {0: 'nv', 1: 'mel', 2: 'bkl', 3: 'bcc', 4: 'akiec', 5: 'vasc', 6: 'df'}\n",
      "Precision: [0.13728324 0.16717791 0.14912281 0.11160714 0.15088283 0.14662757\n",
      " 0.15384615]\n",
      "Precision Mean: 0.14522109226400323\n"
     ]
    }
   ],
   "source": [
    "#Performance metrics from confusion matrix \n",
    "\n",
    "FP = cm.sum(axis=0) - np.diag(cm) \n",
    "FN = cm.sum(axis=1) - np.diag(cm)\n",
    "TP = np.diag(cm)\n",
    "TN = cm.sum() - (FP + FN + TP)\n",
    "\n",
    "FP = FP.astype(float)\n",
    "FN = FN.astype(float)\n",
    "TP = TP.astype(float)\n",
    "TN = TN.astype(float)\n",
    "\n",
    "# Sensitivity, hit rate, Recall, or true positive rate\n",
    "TPR = TP/(TP+FN)\n",
    "\n",
    "# Specificity or true negative rate\n",
    "TNR = TN/(TN+FP) \n",
    "\n",
    "# Precision or positive predictive value\n",
    "PPV = TP/(TP+FP)\n",
    "\n",
    "# Negative predictive value\n",
    "NPV = TN/(TN+FN)\n",
    "\n",
    "# Fall out or false positive rate\n",
    "FPR = FP/(FP+TN)\n",
    "\n",
    "# False negative rate\n",
    "FNR = FN/(TP+FN)\n",
    "\n",
    "# False discovery rate\n",
    "FDR = FP/(TP+FP)\n",
    "\n",
    "\n",
    "print('Class:',class_label)\n",
    "\n",
    "print('Specificity:',TNR)\n",
    "print('Specificity Mean:',TNR.mean())\n",
    "\n",
    "print('Class:',class_label)\n",
    "\n",
    "print('Recall/Sensitivity:',TPR)\n",
    "print('Recall/Sensitivity Mean:',TPR.mean())\n",
    "\n",
    "print('Class:',class_label)\n",
    "\n",
    "print('Precision:',PPV)\n",
    "print('Precision Mean:',PPV.mean())"
   ]
  },
  {
   "cell_type": "markdown",
   "id": "987f242c",
   "metadata": {},
   "source": [
    "## Logistic Regression (Imbalanced data)"
   ]
  },
  {
   "cell_type": "code",
   "execution_count": 195,
   "id": "d4d43936",
   "metadata": {},
   "outputs": [
    {
     "name": "stdout",
     "output_type": "stream",
     "text": [
      "Accuracy on train: 0.715\n",
      "Accuracy on test: 0.690\n",
      "Confusion Matrix:\n",
      "[[  3   6   5   0  14   0   0]\n",
      " [  1  23   4   0  26   2   1]\n",
      " [  0   4  35   0  57   0  12]\n",
      " [  1   5   4   0   5   0   0]\n",
      " [  2   5  30   0 617   1  23]\n",
      " [  1   5   1   0   4   3   0]\n",
      " [  0   2  15   0  74   1  10]]\n"
     ]
    }
   ],
   "source": [
    "#Altered for multiclass classification\n",
    "from sklearn.linear_model import LogisticRegression\n",
    "from sklearn.metrics import accuracy_score,f1_score\n",
    "\n",
    "lr = LogisticRegression(n_jobs=-1,multi_class='multinomial', solver='lbfgs').fit(X_train,y_train)\n",
    "#Added: multi_class='multinomial', solver='lbfgs'\n",
    "\n",
    "pred_lr= lr.predict(X_test)\n",
    "pred2= lr.predict(X_train)\n",
    "print(\"Accuracy on train: {:.3f}\".format(accuracy_score(y_train,pred2)))\n",
    "print(\"Accuracy on test: {:.3f}\".format(accuracy_score(y_test,pred_lr)))\n",
    "print('Confusion Matrix:\\n{}'.format(confusion_matrix(y_test,pred_lr)))"
   ]
  },
  {
   "cell_type": "code",
   "execution_count": 196,
   "id": "60bb24a6",
   "metadata": {},
   "outputs": [
    {
     "name": "stdout",
     "output_type": "stream",
     "text": [
      "lr:               precision    recall  f1-score   support\n",
      "\n",
      "           0       0.38      0.11      0.17        28\n",
      "           1       0.46      0.40      0.43        57\n",
      "           2       0.37      0.32      0.35       108\n",
      "           3       0.00      0.00      0.00        15\n",
      "           4       0.77      0.91      0.84       678\n",
      "           5       0.43      0.21      0.29        14\n",
      "           6       0.22      0.10      0.14       102\n",
      "\n",
      "    accuracy                           0.69      1002\n",
      "   macro avg       0.38      0.29      0.31      1002\n",
      "weighted avg       0.63      0.69      0.65      1002\n",
      "\n"
     ]
    },
    {
     "name": "stderr",
     "output_type": "stream",
     "text": [
      "C:\\Users\\celie\\Anaconda3\\lib\\site-packages\\sklearn\\metrics\\_classification.py:1245: UndefinedMetricWarning: Precision and F-score are ill-defined and being set to 0.0 in labels with no predicted samples. Use `zero_division` parameter to control this behavior.\n",
      "  _warn_prf(average, modifier, msg_start, len(result))\n",
      "C:\\Users\\celie\\Anaconda3\\lib\\site-packages\\sklearn\\metrics\\_classification.py:1245: UndefinedMetricWarning: Precision and F-score are ill-defined and being set to 0.0 in labels with no predicted samples. Use `zero_division` parameter to control this behavior.\n",
      "  _warn_prf(average, modifier, msg_start, len(result))\n",
      "C:\\Users\\celie\\Anaconda3\\lib\\site-packages\\sklearn\\metrics\\_classification.py:1245: UndefinedMetricWarning: Precision and F-score are ill-defined and being set to 0.0 in labels with no predicted samples. Use `zero_division` parameter to control this behavior.\n",
      "  _warn_prf(average, modifier, msg_start, len(result))\n"
     ]
    }
   ],
   "source": [
    "print(\"lr:\",classification_report(y_test, pred_lr))"
   ]
  },
  {
   "cell_type": "code",
   "execution_count": 197,
   "id": "412a5cdd",
   "metadata": {},
   "outputs": [
    {
     "data": {
      "text/plain": [
       "Text(0.5, 15.0, 'Predicted Class')"
      ]
     },
     "execution_count": 197,
     "metadata": {},
     "output_type": "execute_result"
    },
    {
     "data": {
      "image/png": "[encoded data removed]",
      "text/plain": [
       "<Figure size 432x288 with 2 Axes>"
      ]
     },
     "metadata": {
      "needs_background": "light"
     },
     "output_type": "display_data"
    }
   ],
   "source": [
    "cm = confusion_matrix(y_test,pred_lr)\n",
    "#sns.heatmap(cm, annot=True)\n",
    "sns.heatmap(cm, annot=True, fmt='g', vmin=0, cbar=True, cmap='icefire') #removed 'crest_r'\n",
    "plt.ylabel('True Class')\n",
    "plt.xlabel('Predicted Class')"
   ]
  },
  {
   "cell_type": "code",
   "execution_count": 198,
   "id": "9a87507f",
   "metadata": {
    "scrolled": true
   },
   "outputs": [
    {
     "name": "stdout",
     "output_type": "stream",
     "text": [
      "Class: {0: 'nv', 1: 'mel', 2: 'bkl', 3: 'bcc', 4: 'akiec', 5: 'vasc', 6: 'df'}\n",
      "Specificity: [0.99486653 0.97142857 0.93400447 1.         0.44444444 0.99595142\n",
      " 0.96      ]\n",
      "Specificity Mean: 0.9000993481320175\n",
      "Class: {0: 'nv', 1: 'mel', 2: 'bkl', 3: 'bcc', 4: 'akiec', 5: 'vasc', 6: 'df'}\n",
      "Recall/Sensitivity: [0.10714286 0.40350877 0.32407407 0.         0.9100295  0.21428571\n",
      " 0.09803922]\n",
      "Recall/Sensitivity Mean: 0.29386859023483114\n",
      "Class: {0: 'nv', 1: 'mel', 2: 'bkl', 3: 'bcc', 4: 'akiec', 5: 'vasc', 6: 'df'}\n",
      "Precision: [0.375      0.46       0.37234043        nan 0.77415307 0.42857143\n",
      " 0.2173913 ]\n",
      "Precision Mean: nan\n"
     ]
    },
    {
     "name": "stderr",
     "output_type": "stream",
     "text": [
      "C:\\Users\\celie\\Anaconda3\\lib\\site-packages\\ipykernel_launcher.py:20: RuntimeWarning: invalid value encountered in true_divide\n",
      "C:\\Users\\celie\\Anaconda3\\lib\\site-packages\\ipykernel_launcher.py:32: RuntimeWarning: invalid value encountered in true_divide\n"
     ]
    }
   ],
   "source": [
    "#Performance metrics from confusion matrix \n",
    "\n",
    "FP = cm.sum(axis=0) - np.diag(cm) \n",
    "FN = cm.sum(axis=1) - np.diag(cm)\n",
    "TP = np.diag(cm)\n",
    "TN = cm.sum() - (FP + FN + TP)\n",
    "\n",
    "FP = FP.astype(float)\n",
    "FN = FN.astype(float)\n",
    "TP = TP.astype(float)\n",
    "TN = TN.astype(float)\n",
    "\n",
    "# Sensitivity, hit rate, Recall, or true positive rate\n",
    "TPR = TP/(TP+FN)\n",
    "\n",
    "# Specificity or true negative rate\n",
    "TNR = TN/(TN+FP) \n",
    "\n",
    "# Precision or positive predictive value\n",
    "PPV = TP/(TP+FP)\n",
    "\n",
    "# Negative predictive value\n",
    "NPV = TN/(TN+FN)\n",
    "\n",
    "# Fall out or false positive rate\n",
    "FPR = FP/(FP+TN)\n",
    "\n",
    "# False negative rate\n",
    "FNR = FN/(TP+FN)\n",
    "\n",
    "# False discovery rate\n",
    "FDR = FP/(TP+FP)\n",
    "\n",
    "\n",
    "print('Class:',class_label)\n",
    "\n",
    "print('Specificity:',TNR)\n",
    "print('Specificity Mean:',TNR.mean())\n",
    "\n",
    "print('Class:',class_label)\n",
    "\n",
    "print('Recall/Sensitivity:',TPR)\n",
    "print('Recall/Sensitivity Mean:',TPR.mean())\n",
    "\n",
    "print('Class:',class_label)\n",
    "\n",
    "print('Precision:',PPV)\n",
    "print('Precision Mean:',PPV.mean())"
   ]
  },
  {
   "cell_type": "markdown",
   "id": "d23d0825",
   "metadata": {},
   "source": [
    "## Logistic Regression (Balanced data)"
   ]
  },
  {
   "cell_type": "code",
   "execution_count": 123,
   "id": "93a38f3f",
   "metadata": {},
   "outputs": [
    {
     "name": "stdout",
     "output_type": "stream",
     "text": [
      "Accuracy on train: 0.639\n",
      "Accuracy on test: 0.645\n",
      "Confusion Matrix:\n",
      "[[418  74  52  79  16  12  14]\n",
      " [ 78 429  47  54  13  47   8]\n",
      " [ 78  41 330  20  68  18 115]\n",
      " [ 32  32  12 453  43  20  29]\n",
      " [ 38  21  59  34 406  28 109]\n",
      " [ 46  30   3   7  11 605   3]\n",
      " [ 18  17 112  29  80  21 385]]\n"
     ]
    }
   ],
   "source": [
    "#Altered for multiclass classification\n",
    "from sklearn.linear_model import LogisticRegression\n",
    "from sklearn.metrics import accuracy_score,f1_score\n",
    "\n",
    "lr = LogisticRegression(n_jobs=-1,multi_class='multinomial', solver='lbfgs').fit(X_train,y_train)\n",
    "#Added: multi_class='multinomial', solver='lbfgs'\n",
    "\n",
    "pred_lr= lr.predict(X_test)\n",
    "pred2= lr.predict(X_train)\n",
    "print(\"Accuracy on train: {:.3f}\".format(accuracy_score(y_train,pred2)))\n",
    "print(\"Accuracy on test: {:.3f}\".format(accuracy_score(y_test,pred_lr)))\n",
    "print('Confusion Matrix:\\n{}'.format(confusion_matrix(y_test,pred_lr)))"
   ]
  },
  {
   "cell_type": "code",
   "execution_count": 124,
   "id": "b6388b60",
   "metadata": {},
   "outputs": [
    {
     "name": "stdout",
     "output_type": "stream",
     "text": [
      "lr:               precision    recall  f1-score   support\n",
      "\n",
      "           0       0.59      0.63      0.61       665\n",
      "           1       0.67      0.63      0.65       676\n",
      "           2       0.54      0.49      0.51       670\n",
      "           3       0.67      0.73      0.70       621\n",
      "           4       0.64      0.58      0.61       695\n",
      "           5       0.81      0.86      0.83       705\n",
      "           6       0.58      0.58      0.58       662\n",
      "\n",
      "    accuracy                           0.64      4694\n",
      "   macro avg       0.64      0.64      0.64      4694\n",
      "weighted avg       0.64      0.64      0.64      4694\n",
      "\n"
     ]
    }
   ],
   "source": [
    "print(\"lr:\",classification_report(y_test, pred_lr))"
   ]
  },
  {
   "cell_type": "code",
   "execution_count": 125,
   "id": "c9a0fa6e",
   "metadata": {},
   "outputs": [
    {
     "data": {
      "text/plain": [
       "Text(0.5, 15.0, 'Predicted Class')"
      ]
     },
     "execution_count": 125,
     "metadata": {},
     "output_type": "execute_result"
    },
    {
     "data": {
      "image/png": "[encoded data removed]",
      "text/plain": [
       "<Figure size 432x288 with 2 Axes>"
      ]
     },
     "metadata": {
      "needs_background": "light"
     },
     "output_type": "display_data"
    }
   ],
   "source": [
    "cm = confusion_matrix(y_test,pred_lr)\n",
    "#sns.heatmap(cm, annot=True)\n",
    "sns.heatmap(cm, annot=True, fmt='g', vmin=0, cbar=True, cmap='icefire') #removed 'crest_r'\n",
    "plt.ylabel('True Class')\n",
    "plt.xlabel('Predicted Class')"
   ]
  },
  {
   "cell_type": "code",
   "execution_count": 126,
   "id": "4624316f",
   "metadata": {},
   "outputs": [
    {
     "name": "stdout",
     "output_type": "stream",
     "text": [
      "Class: {0: 'nv', 1: 'mel', 2: 'bkl', 3: 'bcc', 4: 'akiec', 5: 'vasc', 6: 'df'}\n",
      "Specificity: [0.92802184 0.94649079 0.92917495 0.9452492  0.94223556 0.96339935\n",
      " 0.93105159]\n",
      "Specificity Mean: 0.9408033256922902\n",
      "Class: {0: 'nv', 1: 'mel', 2: 'bkl', 3: 'bcc', 4: 'akiec', 5: 'vasc', 6: 'df'}\n",
      "Recall/Sensitivity: [0.62857143 0.63461538 0.49253731 0.7294686  0.58417266 0.85815603\n",
      " 0.581571  ]\n",
      "Recall/Sensitivity Mean: 0.6441560589816593\n",
      "Class: {0: 'nv', 1: 'mel', 2: 'bkl', 3: 'bcc', 4: 'akiec', 5: 'vasc', 6: 'df'}\n",
      "Precision: [0.59039548 0.66614907 0.53658537 0.67011834 0.63736264 0.80559254\n",
      " 0.58069382]\n",
      "Precision Mean: 0.6409853220320141\n"
     ]
    }
   ],
   "source": [
    "#Performance metrics from confusion matrix \n",
    "\n",
    "FP = cm.sum(axis=0) - np.diag(cm) \n",
    "FN = cm.sum(axis=1) - np.diag(cm)\n",
    "TP = np.diag(cm)\n",
    "TN = cm.sum() - (FP + FN + TP)\n",
    "\n",
    "FP = FP.astype(float)\n",
    "FN = FN.astype(float)\n",
    "TP = TP.astype(float)\n",
    "TN = TN.astype(float)\n",
    "\n",
    "# Sensitivity, hit rate, Recall, or true positive rate\n",
    "TPR = TP/(TP+FN)\n",
    "\n",
    "# Specificity or true negative rate\n",
    "TNR = TN/(TN+FP) \n",
    "\n",
    "# Precision or positive predictive value\n",
    "PPV = TP/(TP+FP)\n",
    "\n",
    "# Negative predictive value\n",
    "NPV = TN/(TN+FN)\n",
    "\n",
    "# Fall out or false positive rate\n",
    "FPR = FP/(FP+TN)\n",
    "\n",
    "# False negative rate\n",
    "FNR = FN/(TP+FN)\n",
    "\n",
    "# False discovery rate\n",
    "FDR = FP/(TP+FP)\n",
    "\n",
    "\n",
    "print('Class:',class_label)\n",
    "\n",
    "print('Specificity:',TNR)\n",
    "print('Specificity Mean:',TNR.mean())\n",
    "\n",
    "print('Class:',class_label)\n",
    "\n",
    "print('Recall/Sensitivity:',TPR)\n",
    "print('Recall/Sensitivity Mean:',TPR.mean())\n",
    "\n",
    "print('Class:',class_label)\n",
    "\n",
    "print('Precision:',PPV)\n",
    "print('Precision Mean:',PPV.mean())"
   ]
  },
  {
   "cell_type": "markdown",
   "id": "44f94265",
   "metadata": {},
   "source": [
    "## Decision Tree (imbalanced data)"
   ]
  },
  {
   "cell_type": "code",
   "execution_count": 27,
   "id": "964f487e",
   "metadata": {},
   "outputs": [
    {
     "name": "stdout",
     "output_type": "stream",
     "text": [
      "Accuracy on train: 1.000\n",
      "Accuracy on test: 0.629\n",
      "Confusion Matrix:\n",
      "[[  3   5   6   1   9   3   1]\n",
      " [ 10  15   9   1  14   2   6]\n",
      " [  8   9  33   0  39   0  19]\n",
      " [  2   4   2   1   5   1   0]\n",
      " [  7  10  38   3 549  12  59]\n",
      " [  0   3   1   0   5   2   3]\n",
      " [  2   4  23   0  45   1  27]]\n"
     ]
    }
   ],
   "source": [
    "from sklearn.metrics import f1_score\n",
    "from sklearn.tree import DecisionTreeClassifier\n",
    "dt = DecisionTreeClassifier(random_state=0).fit(X_train,y_train)\n",
    "pred_dt = dt.predict(X_test)\n",
    "pred2 = dt.predict(X_train)\n",
    "print(\"Accuracy on train: {:.3f}\".format(accuracy_score(y_train,pred2)))\n",
    "print(\"Accuracy on test: {:.3f}\".format(accuracy_score(y_test,pred_dt)))\n",
    "print('Confusion Matrix:\\n{}'.format(confusion_matrix(y_test,pred_dt)))"
   ]
  },
  {
   "cell_type": "code",
   "execution_count": 28,
   "id": "32a1337b",
   "metadata": {},
   "outputs": [
    {
     "name": "stdout",
     "output_type": "stream",
     "text": [
      "dt:               precision    recall  f1-score   support\n",
      "\n",
      "           0       0.09      0.11      0.10        28\n",
      "           1       0.30      0.26      0.28        57\n",
      "           2       0.29      0.31      0.30       108\n",
      "           3       0.17      0.07      0.10        15\n",
      "           4       0.82      0.81      0.82       678\n",
      "           5       0.10      0.14      0.11        14\n",
      "           6       0.23      0.26      0.25       102\n",
      "\n",
      "    accuracy                           0.63      1002\n",
      "   macro avg       0.29      0.28      0.28      1002\n",
      "weighted avg       0.64      0.63      0.63      1002\n",
      "\n"
     ]
    }
   ],
   "source": [
    "print(\"dt:\",classification_report(y_test, pred_dt))"
   ]
  },
  {
   "cell_type": "code",
   "execution_count": 29,
   "id": "ebd17150",
   "metadata": {},
   "outputs": [
    {
     "data": {
      "text/plain": [
       "Text(0.5, 15.0, 'Predicted Class')"
      ]
     },
     "execution_count": 29,
     "metadata": {},
     "output_type": "execute_result"
    },
    {
     "data": {
      "image/png": "[encoded data removed]",
      "text/plain": [
       "<Figure size 432x288 with 2 Axes>"
      ]
     },
     "metadata": {
      "needs_background": "light"
     },
     "output_type": "display_data"
    }
   ],
   "source": [
    "cm = confusion_matrix(y_test,pred_dt)\n",
    "#sns.heatmap(cm, annot=True)\n",
    "sns.heatmap(cm, annot=True, fmt='g', vmin=0, cbar=True, cmap='twilight_r')\n",
    "plt.ylabel('True Class')\n",
    "plt.xlabel('Predicted Class')"
   ]
  },
  {
   "cell_type": "code",
   "execution_count": 30,
   "id": "2bc30d05",
   "metadata": {},
   "outputs": [
    {
     "name": "stdout",
     "output_type": "stream",
     "text": [
      "Class: {0: 'nv', 1: 'mel', 2: 'bkl', 3: 'bcc', 4: 'akiec', 5: 'vasc', 6: 'df'}\n",
      "Specificity: [0.97022587 0.96296296 0.91163311 0.99493414 0.63888889 0.98076923\n",
      " 0.90222222]\n",
      "Specificity Mean: 0.908805204431892\n",
      "Class: {0: 'nv', 1: 'mel', 2: 'bkl', 3: 'bcc', 4: 'akiec', 5: 'vasc', 6: 'df'}\n",
      "Recall/Sensitivity: [0.10714286 0.26315789 0.30555556 0.06666667 0.80973451 0.14285714\n",
      " 0.26470588]\n",
      "Recall/Sensitivity Mean: 0.27997435894090594\n",
      "Class: {0: 'nv', 1: 'mel', 2: 'bkl', 3: 'bcc', 4: 'akiec', 5: 'vasc', 6: 'df'}\n",
      "Precision: [0.09375    0.3        0.29464286 0.16666667 0.82432432 0.0952381\n",
      " 0.23478261]\n",
      "Precision Mean: 0.2870577931525137\n"
     ]
    }
   ],
   "source": [
    "#Performance metrics from confusion matrix \n",
    "\n",
    "FP = cm.sum(axis=0) - np.diag(cm) \n",
    "FN = cm.sum(axis=1) - np.diag(cm)\n",
    "TP = np.diag(cm)\n",
    "TN = cm.sum() - (FP + FN + TP)\n",
    "\n",
    "FP = FP.astype(float)\n",
    "FN = FN.astype(float)\n",
    "TP = TP.astype(float)\n",
    "TN = TN.astype(float)\n",
    "\n",
    "# Sensitivity, hit rate, Recall, or true positive rate\n",
    "TPR = TP/(TP+FN)\n",
    "\n",
    "# Specificity or true negative rate\n",
    "TNR = TN/(TN+FP) \n",
    "\n",
    "# Precision or positive predictive value\n",
    "PPV = TP/(TP+FP)\n",
    "\n",
    "# Negative predictive value\n",
    "NPV = TN/(TN+FN)\n",
    "\n",
    "# Fall out or false positive rate\n",
    "FPR = FP/(FP+TN)\n",
    "\n",
    "# False negative rate\n",
    "FNR = FN/(TP+FN)\n",
    "\n",
    "# False discovery rate\n",
    "FDR = FP/(TP+FP)\n",
    "\n",
    "\n",
    "print('Class:',class_label)\n",
    "\n",
    "print('Specificity:',TNR)\n",
    "print('Specificity Mean:',TNR.mean())\n",
    "\n",
    "print('Class:',class_label)\n",
    "\n",
    "print('Recall/Sensitivity:',TPR)\n",
    "print('Recall/Sensitivity Mean:',TPR.mean())\n",
    "\n",
    "print('Class:',class_label)\n",
    "\n",
    "print('Precision:',PPV)\n",
    "print('Precision Mean:',PPV.mean())"
   ]
  },
  {
   "cell_type": "markdown",
   "id": "47c73d74",
   "metadata": {},
   "source": [
    "## Decision Tree (Balanced data)"
   ]
  },
  {
   "cell_type": "code",
   "execution_count": 127,
   "id": "a1cdc0f6",
   "metadata": {},
   "outputs": [
    {
     "name": "stdout",
     "output_type": "stream",
     "text": [
      "Accuracy on train: 1.000\n",
      "Accuracy on test: 0.846\n",
      "Confusion Matrix:\n",
      "[[598  18  14   7  12   3  13]\n",
      " [ 22 586  22   6  22   8  10]\n",
      " [ 23  18 529   6  48   5  41]\n",
      " [  3   2   1 604   8   3   0]\n",
      " [ 23  36  69  19 447  13  88]\n",
      " [  3   8   3   1  13 673   4]\n",
      " [  8  12  38   6  55   8 535]]\n"
     ]
    }
   ],
   "source": [
    "from sklearn.metrics import f1_score\n",
    "from sklearn.tree import DecisionTreeClassifier\n",
    "dt = DecisionTreeClassifier(random_state=0).fit(X_train,y_train)\n",
    "pred_dt = dt.predict(X_test)\n",
    "pred2 = dt.predict(X_train)\n",
    "print(\"Accuracy on train: {:.3f}\".format(accuracy_score(y_train,pred2)))\n",
    "print(\"Accuracy on test: {:.3f}\".format(accuracy_score(y_test,pred_dt)))\n",
    "print('Confusion Matrix:\\n{}'.format(confusion_matrix(y_test,pred_dt)))"
   ]
  },
  {
   "cell_type": "code",
   "execution_count": 128,
   "id": "d3daa14e",
   "metadata": {},
   "outputs": [
    {
     "name": "stdout",
     "output_type": "stream",
     "text": [
      "dt:               precision    recall  f1-score   support\n",
      "\n",
      "           0       0.88      0.90      0.89       665\n",
      "           1       0.86      0.87      0.86       676\n",
      "           2       0.78      0.79      0.79       670\n",
      "           3       0.93      0.97      0.95       621\n",
      "           4       0.74      0.64      0.69       695\n",
      "           5       0.94      0.95      0.95       705\n",
      "           6       0.77      0.81      0.79       662\n",
      "\n",
      "    accuracy                           0.85      4694\n",
      "   macro avg       0.84      0.85      0.85      4694\n",
      "weighted avg       0.84      0.85      0.84      4694\n",
      "\n"
     ]
    }
   ],
   "source": [
    "print(\"dt:\",classification_report(y_test, pred_dt))"
   ]
  },
  {
   "cell_type": "code",
   "execution_count": 129,
   "id": "37ce0ee2",
   "metadata": {},
   "outputs": [
    {
     "data": {
      "text/plain": [
       "Text(0.5, 15.0, 'Predicted Class')"
      ]
     },
     "execution_count": 129,
     "metadata": {},
     "output_type": "execute_result"
    },
    {
     "data": {
      "image/png": "[encoded data removed]",
      "text/plain": [
       "<Figure size 432x288 with 2 Axes>"
      ]
     },
     "metadata": {
      "needs_background": "light"
     },
     "output_type": "display_data"
    }
   ],
   "source": [
    "cm = confusion_matrix(y_test,pred_dt)\n",
    "#sns.heatmap(cm, annot=True)\n",
    "sns.heatmap(cm, annot=True, fmt='g', vmin=0, cbar=True, cmap='twilight_r')\n",
    "plt.ylabel('True Class')\n",
    "plt.xlabel('Predicted Class')"
   ]
  },
  {
   "cell_type": "code",
   "execution_count": 130,
   "id": "b0ac3c23",
   "metadata": {},
   "outputs": [
    {
     "name": "stdout",
     "output_type": "stream",
     "text": [
      "Class: {0: 'nv', 1: 'mel', 2: 'bkl', 3: 'bcc', 4: 'akiec', 5: 'vasc', 6: 'df'}\n",
      "Specificity: [0.97964756 0.97660528 0.96346918 0.98895163 0.96049012 0.98997242\n",
      " 0.96130952]\n",
      "Specificity Mean: 0.9743493885117004\n",
      "Class: {0: 'nv', 1: 'mel', 2: 'bkl', 3: 'bcc', 4: 'akiec', 5: 'vasc', 6: 'df'}\n",
      "Recall/Sensitivity: [0.89924812 0.86686391 0.78955224 0.9726248  0.64316547 0.95460993\n",
      " 0.8081571 ]\n",
      "Recall/Sensitivity Mean: 0.8477459370779599\n",
      "Class: {0: 'nv', 1: 'mel', 2: 'bkl', 3: 'bcc', 4: 'akiec', 5: 'vasc', 6: 'df'}\n",
      "Precision: [0.87941176 0.86176471 0.78254438 0.93066256 0.73884298 0.94389902\n",
      " 0.77424023]\n",
      "Precision Mean: 0.8444808045793676\n"
     ]
    }
   ],
   "source": [
    "#Performance metrics from confusion matrix \n",
    "\n",
    "FP = cm.sum(axis=0) - np.diag(cm) \n",
    "FN = cm.sum(axis=1) - np.diag(cm)\n",
    "TP = np.diag(cm)\n",
    "TN = cm.sum() - (FP + FN + TP)\n",
    "\n",
    "FP = FP.astype(float)\n",
    "FN = FN.astype(float)\n",
    "TP = TP.astype(float)\n",
    "TN = TN.astype(float)\n",
    "\n",
    "# Sensitivity, hit rate, Recall, or true positive rate\n",
    "TPR = TP/(TP+FN)\n",
    "\n",
    "# Specificity or true negative rate\n",
    "TNR = TN/(TN+FP) \n",
    "\n",
    "# Precision or positive predictive value\n",
    "PPV = TP/(TP+FP)\n",
    "\n",
    "# Negative predictive value\n",
    "NPV = TN/(TN+FN)\n",
    "\n",
    "# Fall out or false positive rate\n",
    "FPR = FP/(FP+TN)\n",
    "\n",
    "# False negative rate\n",
    "FNR = FN/(TP+FN)\n",
    "\n",
    "# False discovery rate\n",
    "FDR = FP/(TP+FP)\n",
    "\n",
    "\n",
    "print('Class:',class_label)\n",
    "\n",
    "print('Specificity:',TNR)\n",
    "print('Specificity Mean:',TNR.mean())\n",
    "\n",
    "print('Class:',class_label)\n",
    "\n",
    "print('Recall/Sensitivity:',TPR)\n",
    "print('Recall/Sensitivity Mean:',TPR.mean())\n",
    "\n",
    "print('Class:',class_label)\n",
    "\n",
    "print('Precision:',PPV)\n",
    "print('Precision Mean:',PPV.mean())"
   ]
  },
  {
   "cell_type": "markdown",
   "id": "b6ec39b0",
   "metadata": {},
   "source": [
    "## Random Forest Classifier (Imbalanced data)"
   ]
  },
  {
   "cell_type": "code",
   "execution_count": 31,
   "id": "16905f21",
   "metadata": {},
   "outputs": [
    {
     "name": "stdout",
     "output_type": "stream",
     "text": [
      "Accuracy on train: 0.992\n",
      "Accuracy on test: 0.681\n",
      "Confusion Matrix:\n",
      "[[  2   4   8   0  14   0   0]\n",
      " [  8  12  13   1  22   0   1]\n",
      " [  2   6  24   0  68   0   8]\n",
      " [  2   3   1   0   8   0   1]\n",
      " [  2   5  29   0 623   0  19]\n",
      " [  2   0   1   0  10   1   0]\n",
      " [  4   0   6   0  72   0  20]]\n"
     ]
    }
   ],
   "source": [
    "from sklearn.ensemble import RandomForestClassifier\n",
    "rf = RandomForestClassifier(n_estimators=10,n_jobs=-1,criterion='gini')# removed , oob_score=True for too few estimators\n",
    "rf.fit(X_train,y_train)\n",
    "pred_rf= rf.predict(X_test)\n",
    "pred2= rf.predict(X_train)\n",
    "print(\"Accuracy on train: {:.3f}\".format(accuracy_score(y_train,pred2)))\n",
    "print(\"Accuracy on test: {:.3f}\".format(accuracy_score(y_test,pred_rf)))\n",
    "print('Confusion Matrix:\\n{}'.format(confusion_matrix(y_test,pred_rf)))"
   ]
  },
  {
   "cell_type": "code",
   "execution_count": 32,
   "id": "e00c9fdf",
   "metadata": {},
   "outputs": [
    {
     "name": "stdout",
     "output_type": "stream",
     "text": [
      "rf:               precision    recall  f1-score   support\n",
      "\n",
      "           0       0.09      0.07      0.08        28\n",
      "           1       0.40      0.21      0.28        57\n",
      "           2       0.29      0.22      0.25       108\n",
      "           3       0.00      0.00      0.00        15\n",
      "           4       0.76      0.92      0.83       678\n",
      "           5       1.00      0.07      0.13        14\n",
      "           6       0.41      0.20      0.26       102\n",
      "\n",
      "    accuracy                           0.68      1002\n",
      "   macro avg       0.42      0.24      0.26      1002\n",
      "weighted avg       0.63      0.68      0.64      1002\n",
      "\n"
     ]
    }
   ],
   "source": [
    "print(\"rf:\",classification_report(y_test, pred_rf))"
   ]
  },
  {
   "cell_type": "code",
   "execution_count": 33,
   "id": "bf80bfa5",
   "metadata": {},
   "outputs": [
    {
     "data": {
      "text/plain": [
       "Text(0.5, 15.0, 'Predicted Class')"
      ]
     },
     "execution_count": 33,
     "metadata": {},
     "output_type": "execute_result"
    },
    {
     "data": {
      "image/png": "[encoded data removed]",
      "text/plain": [
       "<Figure size 432x288 with 2 Axes>"
      ]
     },
     "metadata": {
      "needs_background": "light"
     },
     "output_type": "display_data"
    }
   ],
   "source": [
    "cm = confusion_matrix(y_test,pred_rf)\n",
    "#sns.heatmap(cm, annot=True)\n",
    "sns.heatmap(cm, annot=True, fmt='g', vmin=0, cbar=True, cmap='icefire')\n",
    "plt.ylabel('True Class')\n",
    "plt.xlabel('Predicted Class')"
   ]
  },
  {
   "cell_type": "code",
   "execution_count": 34,
   "id": "b5325ad3",
   "metadata": {},
   "outputs": [
    {
     "name": "stdout",
     "output_type": "stream",
     "text": [
      "Class: {0: 'nv', 1: 'mel', 2: 'bkl', 3: 'bcc', 4: 'akiec', 5: 'vasc', 6: 'df'}\n",
      "Specificity: [0.97946612 0.98095238 0.93512304 0.99898683 0.40123457 1.\n",
      " 0.96777778]\n",
      "Specificity Mean: 0.8947915310010798\n",
      "Class: {0: 'nv', 1: 'mel', 2: 'bkl', 3: 'bcc', 4: 'akiec', 5: 'vasc', 6: 'df'}\n",
      "Recall/Sensitivity: [0.07142857 0.21052632 0.22222222 0.         0.91887906 0.07142857\n",
      " 0.19607843]\n",
      "Recall/Sensitivity Mean: 0.24150902404122648\n",
      "Class: {0: 'nv', 1: 'mel', 2: 'bkl', 3: 'bcc', 4: 'akiec', 5: 'vasc', 6: 'df'}\n",
      "Precision: [0.09090909 0.4        0.29268293 0.         0.7625459  1.\n",
      " 0.40816327]\n",
      "Precision Mean: 0.4220430260967549\n"
     ]
    }
   ],
   "source": [
    "#Performance metrics from confusion matrix \n",
    "\n",
    "FP = cm.sum(axis=0) - np.diag(cm) \n",
    "FN = cm.sum(axis=1) - np.diag(cm)\n",
    "TP = np.diag(cm)\n",
    "TN = cm.sum() - (FP + FN + TP)\n",
    "\n",
    "FP = FP.astype(float)\n",
    "FN = FN.astype(float)\n",
    "TP = TP.astype(float)\n",
    "TN = TN.astype(float)\n",
    "\n",
    "# Sensitivity, hit rate, Recall, or true positive rate\n",
    "TPR = TP/(TP+FN)\n",
    "\n",
    "# Specificity or true negative rate\n",
    "TNR = TN/(TN+FP) \n",
    "\n",
    "# Precision or positive predictive value\n",
    "PPV = TP/(TP+FP)\n",
    "\n",
    "# Negative predictive value\n",
    "NPV = TN/(TN+FN)\n",
    "\n",
    "# Fall out or false positive rate\n",
    "FPR = FP/(FP+TN)\n",
    "\n",
    "# False negative rate\n",
    "FNR = FN/(TP+FN)\n",
    "\n",
    "# False discovery rate\n",
    "FDR = FP/(TP+FP)\n",
    "\n",
    "\n",
    "print('Class:',class_label)\n",
    "\n",
    "print('Specificity:',TNR)\n",
    "print('Specificity Mean:',TNR.mean())\n",
    "\n",
    "print('Class:',class_label)\n",
    "\n",
    "print('Recall/Sensitivity:',TPR)\n",
    "print('Recall/Sensitivity Mean:',TPR.mean())\n",
    "\n",
    "print('Class:',class_label)\n",
    "\n",
    "print('Precision:',PPV)\n",
    "print('Precision Mean:',PPV.mean())"
   ]
  },
  {
   "cell_type": "markdown",
   "id": "9bf13aa7",
   "metadata": {},
   "source": [
    "## Random Forest Classifier (Balanced data)"
   ]
  },
  {
   "cell_type": "code",
   "execution_count": 131,
   "id": "dd13af48",
   "metadata": {},
   "outputs": [
    {
     "name": "stdout",
     "output_type": "stream",
     "text": [
      "Accuracy on train: 0.999\n",
      "Accuracy on test: 0.928\n",
      "Confusion Matrix:\n",
      "[[656   4   2   0   2   0   1]\n",
      " [  7 657   3   0   6   1   2]\n",
      " [  8  15 603   0  25   0  19]\n",
      " [  0   0   0 621   0   0   0]\n",
      " [ 19  27  65   2 513   5  64]\n",
      " [  0   0   0   0   0 705   0]\n",
      " [  6   6  19   0  27   1 603]]\n"
     ]
    }
   ],
   "source": [
    "from sklearn.ensemble import RandomForestClassifier\n",
    "rf = RandomForestClassifier(n_estimators=10,n_jobs=-1,criterion='gini')# removed , oob_score=True for too few estimators\n",
    "rf.fit(X_train,y_train)\n",
    "pred_rf= rf.predict(X_test)\n",
    "pred2= rf.predict(X_train)\n",
    "print(\"Accuracy on train: {:.3f}\".format(accuracy_score(y_train,pred2)))\n",
    "print(\"Accuracy on test: {:.3f}\".format(accuracy_score(y_test,pred_rf)))\n",
    "print('Confusion Matrix:\\n{}'.format(confusion_matrix(y_test,pred_rf)))"
   ]
  },
  {
   "cell_type": "code",
   "execution_count": 132,
   "id": "87c50cae",
   "metadata": {},
   "outputs": [
    {
     "name": "stdout",
     "output_type": "stream",
     "text": [
      "rf:               precision    recall  f1-score   support\n",
      "\n",
      "           0       0.94      0.99      0.96       665\n",
      "           1       0.93      0.97      0.95       676\n",
      "           2       0.87      0.90      0.89       670\n",
      "           3       1.00      1.00      1.00       621\n",
      "           4       0.90      0.74      0.81       695\n",
      "           5       0.99      1.00      1.00       705\n",
      "           6       0.88      0.91      0.89       662\n",
      "\n",
      "    accuracy                           0.93      4694\n",
      "   macro avg       0.93      0.93      0.93      4694\n",
      "weighted avg       0.93      0.93      0.93      4694\n",
      "\n"
     ]
    }
   ],
   "source": [
    "print(\"rf:\",classification_report(y_test, pred_rf))"
   ]
  },
  {
   "cell_type": "code",
   "execution_count": 133,
   "id": "9a066c13",
   "metadata": {},
   "outputs": [
    {
     "data": {
      "text/plain": [
       "Text(0.5, 15.0, 'Predicted Class')"
      ]
     },
     "execution_count": 133,
     "metadata": {},
     "output_type": "execute_result"
    },
    {
     "data": {
      "image/png": "[encoded data removed]",
      "text/plain": [
       "<Figure size 432x288 with 2 Axes>"
      ]
     },
     "metadata": {
      "needs_background": "light"
     },
     "output_type": "display_data"
    }
   ],
   "source": [
    "cm = confusion_matrix(y_test,pred_rf)\n",
    "#sns.heatmap(cm, annot=True)\n",
    "sns.heatmap(cm, annot=True, fmt='g', vmin=0, cbar=True, cmap='icefire')\n",
    "plt.ylabel('True Class')\n",
    "plt.xlabel('Predicted Class')"
   ]
  },
  {
   "cell_type": "code",
   "execution_count": 134,
   "id": "9863ce76",
   "metadata": {},
   "outputs": [
    {
     "name": "stdout",
     "output_type": "stream",
     "text": [
      "Class: {0: 'nv', 1: 'mel', 2: 'bkl', 3: 'bcc', 4: 'akiec', 5: 'vasc', 6: 'df'}\n",
      "Specificity: [0.99007198 0.98705824 0.9778827  0.99950896 0.98499625 0.99824517\n",
      " 0.97867063]\n",
      "Specificity Mean: 0.9880619913615014\n",
      "Class: {0: 'nv', 1: 'mel', 2: 'bkl', 3: 'bcc', 4: 'akiec', 5: 'vasc', 6: 'df'}\n",
      "Recall/Sensitivity: [0.98646617 0.97189349 0.9        1.         0.7381295  1.\n",
      " 0.91087613]\n",
      "Recall/Sensitivity Mean: 0.9296236122673122\n",
      "Class: {0: 'nv', 1: 'mel', 2: 'bkl', 3: 'bcc', 4: 'akiec', 5: 'vasc', 6: 'df'}\n",
      "Precision: [0.94252874 0.92665726 0.87138728 0.99678973 0.89528796 0.99016854\n",
      " 0.87518142]\n",
      "Precision Mean: 0.9282858470771437\n"
     ]
    }
   ],
   "source": [
    "#Performance metrics from confusion matrix \n",
    "\n",
    "FP = cm.sum(axis=0) - np.diag(cm) \n",
    "FN = cm.sum(axis=1) - np.diag(cm)\n",
    "TP = np.diag(cm)\n",
    "TN = cm.sum() - (FP + FN + TP)\n",
    "\n",
    "FP = FP.astype(float)\n",
    "FN = FN.astype(float)\n",
    "TP = TP.astype(float)\n",
    "TN = TN.astype(float)\n",
    "\n",
    "# Sensitivity, hit rate, Recall, or true positive rate\n",
    "TPR = TP/(TP+FN)\n",
    "\n",
    "# Specificity or true negative rate\n",
    "TNR = TN/(TN+FP) \n",
    "\n",
    "# Precision or positive predictive value\n",
    "PPV = TP/(TP+FP)\n",
    "\n",
    "# Negative predictive value\n",
    "NPV = TN/(TN+FN)\n",
    "\n",
    "# Fall out or false positive rate\n",
    "FPR = FP/(FP+TN)\n",
    "\n",
    "# False negative rate\n",
    "FNR = FN/(TP+FN)\n",
    "\n",
    "# False discovery rate\n",
    "FDR = FP/(TP+FP)\n",
    "\n",
    "\n",
    "print('Class:',class_label)\n",
    "\n",
    "print('Specificity:',TNR)\n",
    "print('Specificity Mean:',TNR.mean())\n",
    "\n",
    "print('Class:',class_label)\n",
    "\n",
    "print('Recall/Sensitivity:',TPR)\n",
    "print('Recall/Sensitivity Mean:',TPR.mean())\n",
    "\n",
    "print('Class:',class_label)\n",
    "\n",
    "print('Precision:',PPV)\n",
    "print('Precision Mean:',PPV.mean())"
   ]
  },
  {
   "cell_type": "markdown",
   "id": "53c74158",
   "metadata": {},
   "source": [
    "## XGBoost (Imbalanced data)"
   ]
  },
  {
   "cell_type": "code",
   "execution_count": 35,
   "id": "186d7e64",
   "metadata": {},
   "outputs": [
    {
     "name": "stdout",
     "output_type": "stream",
     "text": [
      "Accuracy on train: 0.995\n",
      "Accuracy on test: 0.715\n",
      "\n",
      "[[  6   7   7   0   5   0   3]\n",
      " [  5  22   5   0  22   0   3]\n",
      " [  3   5  33   0  56   0  11]\n",
      " [  0   7   3   0   5   0   0]\n",
      " [  0   8  18   0 633   0  19]\n",
      " [  0   1   0   0   7   5   1]\n",
      " [  0   1  12   0  72   0  17]]\n"
     ]
    }
   ],
   "source": [
    "from xgboost import XGBClassifier\n",
    "xgb = XGBClassifier(max_depth=7,n_jobs=-1,booster = \"gbtree\",num_class = 7,\n",
    "                    eval_metric = \"mlogloss\",objective = \"multi:softprob\")\n",
    "xgb.fit(X_train, y_train)\n",
    "pred_xgb = xgb.predict(X_test)\n",
    "pred2 = xgb.predict(X_train)\n",
    "print(\"Accuracy on train: {:.3f}\".format(accuracy_score(y_train,pred2)))\n",
    "print(\"Accuracy on test: {:.3f}\".format(accuracy_score(y_test,pred_xgb)))\n",
    "print('\\n{}'.format(confusion_matrix(y_test,pred_xgb)))"
   ]
  },
  {
   "cell_type": "code",
   "execution_count": 36,
   "id": "8e0f2fe2",
   "metadata": {},
   "outputs": [
    {
     "name": "stdout",
     "output_type": "stream",
     "text": [
      "xgb:               precision    recall  f1-score   support\n",
      "\n",
      "           0       0.43      0.21      0.29        28\n",
      "           1       0.43      0.39      0.41        57\n",
      "           2       0.42      0.31      0.35       108\n",
      "           3       0.00      0.00      0.00        15\n",
      "           4       0.79      0.93      0.86       678\n",
      "           5       1.00      0.36      0.53        14\n",
      "           6       0.31      0.17      0.22       102\n",
      "\n",
      "    accuracy                           0.71      1002\n",
      "   macro avg       0.48      0.34      0.38      1002\n",
      "weighted avg       0.66      0.71      0.68      1002\n",
      "\n"
     ]
    },
    {
     "name": "stderr",
     "output_type": "stream",
     "text": [
      "C:\\Users\\celie\\Anaconda3\\lib\\site-packages\\sklearn\\metrics\\_classification.py:1245: UndefinedMetricWarning: Precision and F-score are ill-defined and being set to 0.0 in labels with no predicted samples. Use `zero_division` parameter to control this behavior.\n",
      "  _warn_prf(average, modifier, msg_start, len(result))\n",
      "C:\\Users\\celie\\Anaconda3\\lib\\site-packages\\sklearn\\metrics\\_classification.py:1245: UndefinedMetricWarning: Precision and F-score are ill-defined and being set to 0.0 in labels with no predicted samples. Use `zero_division` parameter to control this behavior.\n",
      "  _warn_prf(average, modifier, msg_start, len(result))\n",
      "C:\\Users\\celie\\Anaconda3\\lib\\site-packages\\sklearn\\metrics\\_classification.py:1245: UndefinedMetricWarning: Precision and F-score are ill-defined and being set to 0.0 in labels with no predicted samples. Use `zero_division` parameter to control this behavior.\n",
      "  _warn_prf(average, modifier, msg_start, len(result))\n"
     ]
    }
   ],
   "source": [
    "print(\"xgb:\",classification_report(y_test, pred_xgb))"
   ]
  },
  {
   "cell_type": "code",
   "execution_count": 37,
   "id": "aa18d98a",
   "metadata": {},
   "outputs": [
    {
     "data": {
      "text/plain": [
       "Text(0.5, 15.0, 'Predicted Class')"
      ]
     },
     "execution_count": 37,
     "metadata": {},
     "output_type": "execute_result"
    },
    {
     "data": {
      "image/png": "[encoded data removed]",
      "text/plain": [
       "<Figure size 432x288 with 2 Axes>"
      ]
     },
     "metadata": {
      "needs_background": "light"
     },
     "output_type": "display_data"
    }
   ],
   "source": [
    "cm = confusion_matrix(y_test,pred_xgb)\n",
    "#sns.heatmap(cm, annot=True)\n",
    "sns.heatmap(cm, annot=True, fmt='g', vmin=0, cbar=True, cmap='Greys')\n",
    "plt.title('Confusion Matrix')\n",
    "plt.ylabel('True Class')\n",
    "plt.xlabel('Predicted Class')"
   ]
  },
  {
   "cell_type": "code",
   "execution_count": 38,
   "id": "134b4fc7",
   "metadata": {},
   "outputs": [
    {
     "name": "stdout",
     "output_type": "stream",
     "text": [
      "Class: {0: 'nv', 1: 'mel', 2: 'bkl', 3: 'bcc', 4: 'akiec', 5: 'vasc', 6: 'df'}\n",
      "Specificity: [0.99178645 0.96931217 0.94966443 1.         0.4845679  1.\n",
      " 0.95888889]\n",
      "Specificity Mean: 0.9077456909434901\n",
      "Class: {0: 'nv', 1: 'mel', 2: 'bkl', 3: 'bcc', 4: 'akiec', 5: 'vasc', 6: 'df'}\n",
      "Recall/Sensitivity: [0.21428571 0.38596491 0.30555556 0.         0.93362832 0.35714286\n",
      " 0.16666667]\n",
      "Recall/Sensitivity Mean: 0.3376062892165094\n",
      "Class: {0: 'nv', 1: 'mel', 2: 'bkl', 3: 'bcc', 4: 'akiec', 5: 'vasc', 6: 'df'}\n",
      "Precision: [0.42857143 0.43137255 0.42307692        nan 0.79125    1.\n",
      " 0.31481481]\n",
      "Precision Mean: nan\n"
     ]
    },
    {
     "name": "stderr",
     "output_type": "stream",
     "text": [
      "C:\\Users\\celie\\Anaconda3\\lib\\site-packages\\ipykernel_launcher.py:20: RuntimeWarning: invalid value encountered in true_divide\n",
      "C:\\Users\\celie\\Anaconda3\\lib\\site-packages\\ipykernel_launcher.py:32: RuntimeWarning: invalid value encountered in true_divide\n"
     ]
    }
   ],
   "source": [
    "#Performance metrics from confusion matrix \n",
    "\n",
    "FP = cm.sum(axis=0) - np.diag(cm) \n",
    "FN = cm.sum(axis=1) - np.diag(cm)\n",
    "TP = np.diag(cm)\n",
    "TN = cm.sum() - (FP + FN + TP)\n",
    "\n",
    "FP = FP.astype(float)\n",
    "FN = FN.astype(float)\n",
    "TP = TP.astype(float)\n",
    "TN = TN.astype(float)\n",
    "\n",
    "# Sensitivity, hit rate, Recall, or true positive rate\n",
    "TPR = TP/(TP+FN)\n",
    "\n",
    "# Specificity or true negative rate\n",
    "TNR = TN/(TN+FP) \n",
    "\n",
    "# Precision or positive predictive value\n",
    "PPV = TP/(TP+FP)\n",
    "\n",
    "# Negative predictive value\n",
    "NPV = TN/(TN+FN)\n",
    "\n",
    "# Fall out or false positive rate\n",
    "FPR = FP/(FP+TN)\n",
    "\n",
    "# False negative rate\n",
    "FNR = FN/(TP+FN)\n",
    "\n",
    "# False discovery rate\n",
    "FDR = FP/(TP+FP)\n",
    "\n",
    "\n",
    "print('Class:',class_label)\n",
    "\n",
    "print('Specificity:',TNR)\n",
    "print('Specificity Mean:',TNR.mean())\n",
    "\n",
    "print('Class:',class_label)\n",
    "\n",
    "print('Recall/Sensitivity:',TPR)\n",
    "print('Recall/Sensitivity Mean:',TPR.mean())\n",
    "\n",
    "print('Class:',class_label)\n",
    "\n",
    "print('Precision:',PPV)\n",
    "print('Precision Mean:',PPV.mean())"
   ]
  },
  {
   "cell_type": "markdown",
   "id": "93f0c100",
   "metadata": {},
   "source": [
    "### ROC for multi-class classification model, Imbalanced data"
   ]
  },
  {
   "cell_type": "code",
   "execution_count": 43,
   "id": "7376f99f",
   "metadata": {},
   "outputs": [
    {
     "name": "stdout",
     "output_type": "stream",
     "text": [
      "One-vs-One ROC AUC scores:\n",
      "0.821607 (macro),\n",
      "0.886018 (weighted by prevalence)\n",
      "One-vs-Rest ROC AUC scores:\n",
      "0.902199 (macro),\n",
      "0.891376 (weighted by prevalence)\n"
     ]
    }
   ],
   "source": [
    "from itertools import cycle\n",
    "from sklearn.metrics import roc_curve, auc\n",
    "from sklearn.multiclass import OneVsRestClassifier\n",
    "from scipy import interp\n",
    "from sklearn.metrics import roc_auc_score\n",
    "\n",
    "\n",
    "#y_prob = classifier.predict_proba(X_test)\n",
    "\n",
    "prediction_cplx = xgb.predict_proba(X_test)\n",
    "\n",
    "macro_roc_auc_ovo = roc_auc_score(y_test, prediction_cplx, multi_class=\"ovo\",\n",
    "                                  average=\"macro\")\n",
    "weighted_roc_auc_ovo = roc_auc_score(y_test, prediction_cplx, multi_class=\"ovo\",\n",
    "                                     average=\"weighted\")\n",
    "macro_roc_auc_ovr = roc_auc_score(y_test,prediction_cplx, multi_class=\"ovr\",\n",
    "                                  average=\"macro\")\n",
    "weighted_roc_auc_ovr = roc_auc_score(y_test, prediction_cplx, multi_class=\"ovr\",\n",
    "                                     average=\"weighted\")\n",
    "print(\"One-vs-One ROC AUC scores:\\n{:.6f} (macro),\\n{:.6f} \"\n",
    "      \"(weighted by prevalence)\"\n",
    "      .format(macro_roc_auc_ovo, weighted_roc_auc_ovo))\n",
    "print(\"One-vs-Rest ROC AUC scores:\\n{:.6f} (macro),\\n{:.6f} \"\n",
    "      \"(weighted by prevalence)\"\n",
    "      .format(macro_roc_auc_ovr, weighted_roc_auc_ovr))"
   ]
  },
  {
   "cell_type": "markdown",
   "id": "2abc9454",
   "metadata": {},
   "source": [
    "### ROC plot (imbalanced data)"
   ]
  },
  {
   "cell_type": "code",
   "execution_count": 42,
   "id": "5d81059c",
   "metadata": {
    "scrolled": false
   },
   "outputs": [
    {
     "data": {
      "image/png": "[encoded data removed]",
      "text/plain": [
       "<Figure size 576x432 with 1 Axes>"
      ]
     },
     "metadata": {
      "needs_background": "light"
     },
     "output_type": "display_data"
    }
   ],
   "source": [
    "#ROC for multi-class classification model, Imbalanced data \n",
    "from sklearn.multiclass import OneVsRestClassifier\n",
    "from sklearn.metrics import roc_curve\n",
    "from sklearn.metrics import roc_auc_score\n",
    "\n",
    "prediction_cplx = xgb.predict_proba(X_test)\n",
    "\n",
    "# roc curve for classes\n",
    "fpr = {}\n",
    "tpr = {}\n",
    "thresh ={}\n",
    "\n",
    "n_class = 7\n",
    "\n",
    "for i in range(n_class):    \n",
    "    fpr[i], tpr[i], thresh[i] = roc_curve(y_test, prediction_cplx[:,i], pos_label=i)#might have to use proba\n",
    "\n",
    "#y_score = classifier.fit(X_train, y_train).decision_function(X_test)\n",
    "# Compute micro-average ROC curve and ROC area\n",
    "#fpr[\"micro\"], tpr[\"micro\"], _ = roc_curve(y_test.ravel(), y_score.ravel())\n",
    "#roc_auc[\"micro\"] = auc(fpr[\"micro\"], tpr[\"micro\"])  \n",
    "\n",
    "\n",
    "\n",
    "    \n",
    "# plotting\n",
    "plt.figure(figsize=(8, 6))\n",
    "plt.plot(fpr[0], tpr[0], linestyle='--',color='orange', label='Class 0 vs Rest')\n",
    "plt.plot(fpr[1], tpr[1], linestyle='--',color='green', label='Class 1 vs Rest')\n",
    "plt.plot(fpr[2], tpr[2], linestyle='--',color='blue', label='Class 2 vs Rest')\n",
    "plt.plot(fpr[3], tpr[3], linestyle='--',color='red', label='Class 3 vs Rest')\n",
    "plt.plot(fpr[4], tpr[4], linestyle='--',color='black', label='Class 4 vs Rest')\n",
    "plt.plot(fpr[5], tpr[5], linestyle='--',color='purple', label='Class 5 vs Rest')\n",
    "plt.plot(fpr[6], tpr[6], linestyle='--',color='yellow', label='Class 6 vs Rest')\n",
    "plt.title('Multiclass ROC: XGB')\n",
    "plt.xlabel('False Positive Rate')\n",
    "plt.ylabel('True Positive rate')\n",
    "plt.legend(loc='best')\n",
    "plt.savefig('Multiclass ROC',dpi=300); "
   ]
  },
  {
   "cell_type": "markdown",
   "id": "df9090d0",
   "metadata": {},
   "source": [
    "## XGBoost (Balanced data)"
   ]
  },
  {
   "cell_type": "code",
   "execution_count": 135,
   "id": "a6ddb31e",
   "metadata": {},
   "outputs": [
    {
     "name": "stdout",
     "output_type": "stream",
     "text": [
      "Accuracy on train: 0.992\n",
      "Accuracy on test: 0.950\n",
      "\n",
      "[[660   1   1   1   2   0   0]\n",
      " [  4 662   3   0   1   0   6]\n",
      " [  9  11 617   1  10   1  21]\n",
      " [  0   1   0 619   0   1   0]\n",
      " [  6  14  29   1 566   2  77]\n",
      " [  0   0   0   0   0 705   0]\n",
      " [  4   0  15   0  11   1 631]]\n"
     ]
    }
   ],
   "source": [
    "from xgboost import XGBClassifier\n",
    "xgb = XGBClassifier(max_depth=7,n_jobs=-1,booster = \"gbtree\",num_class = 7,\n",
    "                    eval_metric = \"mlogloss\",objective = \"multi:softprob\")\n",
    "xgb.fit(X_train, y_train)\n",
    "pred_xgb = xgb.predict(X_test)\n",
    "pred2 = xgb.predict(X_train)\n",
    "print(\"Accuracy on train: {:.3f}\".format(accuracy_score(y_train,pred2)))\n",
    "print(\"Accuracy on test: {:.3f}\".format(accuracy_score(y_test,pred_xgb)))\n",
    "print('\\n{}'.format(confusion_matrix(y_test,pred_xgb)))"
   ]
  },
  {
   "cell_type": "code",
   "execution_count": 136,
   "id": "79888efb",
   "metadata": {},
   "outputs": [
    {
     "name": "stdout",
     "output_type": "stream",
     "text": [
      "xgb:               precision    recall  f1-score   support\n",
      "\n",
      "           0       0.97      0.99      0.98       665\n",
      "           1       0.96      0.98      0.97       676\n",
      "           2       0.93      0.92      0.92       670\n",
      "           3       1.00      1.00      1.00       621\n",
      "           4       0.96      0.81      0.88       695\n",
      "           5       0.99      1.00      1.00       705\n",
      "           6       0.86      0.95      0.90       662\n",
      "\n",
      "    accuracy                           0.95      4694\n",
      "   macro avg       0.95      0.95      0.95      4694\n",
      "weighted avg       0.95      0.95      0.95      4694\n",
      "\n"
     ]
    }
   ],
   "source": [
    "print(\"xgb:\",classification_report(y_test, pred_xgb))"
   ]
  },
  {
   "cell_type": "code",
   "execution_count": 137,
   "id": "a5cf6285",
   "metadata": {},
   "outputs": [
    {
     "data": {
      "text/plain": [
       "Text(0.5, 15.0, 'Predicted Class')"
      ]
     },
     "execution_count": 137,
     "metadata": {},
     "output_type": "execute_result"
    },
    {
     "data": {
      "image/png": "[encoded data removed]",
      "text/plain": [
       "<Figure size 432x288 with 2 Axes>"
      ]
     },
     "metadata": {
      "needs_background": "light"
     },
     "output_type": "display_data"
    }
   ],
   "source": [
    "cm = confusion_matrix(y_test,pred_xgb)\n",
    "#sns.heatmap(cm, annot=True)\n",
    "sns.heatmap(cm, annot=True, fmt='g', vmin=0, cbar=True, cmap='Greys')\n",
    "plt.title('Confusion Matrix')\n",
    "plt.ylabel('True Class')\n",
    "plt.xlabel('Predicted Class')"
   ]
  },
  {
   "cell_type": "code",
   "execution_count": 138,
   "id": "603cd3b1",
   "metadata": {},
   "outputs": [
    {
     "name": "stdout",
     "output_type": "stream",
     "text": [
      "Class: {0: 'nv', 1: 'mel', 2: 'bkl', 3: 'bcc', 4: 'akiec', 5: 'vasc', 6: 'df'}\n",
      "Specificity: [0.99429139 0.99328024 0.98807157 0.99926344 0.9939985  0.99874655\n",
      " 0.97420635]\n",
      "Specificity Mean: 0.9916940058535293\n",
      "Class: {0: 'nv', 1: 'mel', 2: 'bkl', 3: 'bcc', 4: 'akiec', 5: 'vasc', 6: 'df'}\n",
      "Recall/Sensitivity: [0.9924812  0.97928994 0.92089552 0.99677939 0.81438849 1.\n",
      " 0.95317221]\n",
      "Recall/Sensitivity Mean: 0.9510009641363452\n",
      "Class: {0: 'nv', 1: 'mel', 2: 'bkl', 3: 'bcc', 4: 'akiec', 5: 'vasc', 6: 'df'}\n",
      "Precision: [0.96632504 0.96081277 0.92781955 0.99517685 0.95932203 0.99295775\n",
      " 0.8585034 ]\n",
      "Precision Mean: 0.95155962688875\n"
     ]
    }
   ],
   "source": [
    "#Performance metrics from confusion matrix \n",
    "\n",
    "FP = cm.sum(axis=0) - np.diag(cm) \n",
    "FN = cm.sum(axis=1) - np.diag(cm)\n",
    "TP = np.diag(cm)\n",
    "TN = cm.sum() - (FP + FN + TP)\n",
    "\n",
    "FP = FP.astype(float)\n",
    "FN = FN.astype(float)\n",
    "TP = TP.astype(float)\n",
    "TN = TN.astype(float)\n",
    "\n",
    "# Sensitivity, hit rate, Recall, or true positive rate\n",
    "TPR = TP/(TP+FN)\n",
    "\n",
    "# Specificity or true negative rate\n",
    "TNR = TN/(TN+FP) \n",
    "\n",
    "# Precision or positive predictive value\n",
    "PPV = TP/(TP+FP)\n",
    "\n",
    "# Negative predictive value\n",
    "NPV = TN/(TN+FN)\n",
    "\n",
    "# Fall out or false positive rate\n",
    "FPR = FP/(FP+TN)\n",
    "\n",
    "# False negative rate\n",
    "FNR = FN/(TP+FN)\n",
    "\n",
    "# False discovery rate\n",
    "FDR = FP/(TP+FP)\n",
    "\n",
    "\n",
    "print('Class:',class_label)\n",
    "\n",
    "print('Specificity:',TNR)\n",
    "print('Specificity Mean:',TNR.mean())\n",
    "\n",
    "print('Class:',class_label)\n",
    "\n",
    "print('Recall/Sensitivity:',TPR)\n",
    "print('Recall/Sensitivity Mean:',TPR.mean())\n",
    "\n",
    "print('Class:',class_label)\n",
    "\n",
    "print('Precision:',PPV)\n",
    "print('Precision Mean:',PPV.mean())"
   ]
  },
  {
   "cell_type": "markdown",
   "id": "ac3c1edf",
   "metadata": {},
   "source": [
    "### ROC for multi-class classification model, balanced data (SMOTE)"
   ]
  },
  {
   "cell_type": "code",
   "execution_count": 140,
   "id": "9ebd8c73",
   "metadata": {},
   "outputs": [
    {
     "name": "stdout",
     "output_type": "stream",
     "text": [
      "One-vs-One ROC AUC scores:\n",
      "0.996718 (macro),\n",
      "0.996681 (weighted by prevalence)\n",
      "One-vs-Rest ROC AUC scores:\n",
      "0.996690 (macro),\n",
      "0.996635 (weighted by prevalence)\n"
     ]
    }
   ],
   "source": [
    "from itertools import cycle\n",
    "from sklearn.metrics import roc_curve, auc\n",
    "from sklearn.multiclass import OneVsRestClassifier\n",
    "from scipy import interp\n",
    "from sklearn.metrics import roc_auc_score\n",
    "\n",
    "\n",
    "#y_prob = classifier.predict_proba(X_test)\n",
    "\n",
    "prediction_cplx = xgb.predict_proba(X_test)\n",
    "\n",
    "macro_roc_auc_ovo = roc_auc_score(y_test, prediction_cplx, multi_class=\"ovo\",\n",
    "                                  average=\"macro\")\n",
    "weighted_roc_auc_ovo = roc_auc_score(y_test, prediction_cplx, multi_class=\"ovo\",\n",
    "                                     average=\"weighted\")\n",
    "macro_roc_auc_ovr = roc_auc_score(y_test,prediction_cplx, multi_class=\"ovr\",\n",
    "                                  average=\"macro\")\n",
    "weighted_roc_auc_ovr = roc_auc_score(y_test, prediction_cplx, multi_class=\"ovr\",\n",
    "                                     average=\"weighted\")\n",
    "print(\"One-vs-One ROC AUC scores:\\n{:.6f} (macro),\\n{:.6f} \"\n",
    "      \"(weighted by prevalence)\"\n",
    "      .format(macro_roc_auc_ovo, weighted_roc_auc_ovo))\n",
    "print(\"One-vs-Rest ROC AUC scores:\\n{:.6f} (macro),\\n{:.6f} \"\n",
    "      \"(weighted by prevalence)\"\n",
    "      .format(macro_roc_auc_ovr, weighted_roc_auc_ovr))"
   ]
  },
  {
   "cell_type": "markdown",
   "id": "2f09e8c3",
   "metadata": {},
   "source": [
    "### ROC plot"
   ]
  },
  {
   "cell_type": "code",
   "execution_count": 141,
   "id": "8a58a6f6",
   "metadata": {},
   "outputs": [
    {
     "data": {
      "image/png": "[encoded data removed]",
      "text/plain": [
       "<Figure size 576x432 with 1 Axes>"
      ]
     },
     "metadata": {
      "needs_background": "light"
     },
     "output_type": "display_data"
    }
   ],
   "source": [
    "#ROC for multi-class classification model, balanced data (SMOTE) PLOT\n",
    "from sklearn.multiclass import OneVsRestClassifier\n",
    "from sklearn.metrics import roc_curve\n",
    "from sklearn.metrics import roc_auc_score\n",
    "\n",
    "prediction_cplx = xgb.predict_proba(X_test)\n",
    "\n",
    "# roc curve for classes\n",
    "fpr = {}\n",
    "tpr = {}\n",
    "thresh ={}\n",
    "\n",
    "n_class = 7\n",
    "\n",
    "for i in range(n_class):    \n",
    "    fpr[i], tpr[i], thresh[i] = roc_curve(y_test, prediction_cplx[:,i], pos_label=i)#might have to use proba\n",
    "\n",
    "#y_score = classifier.fit(X_train, y_train).decision_function(X_test)\n",
    "# Compute micro-average ROC curve and ROC area\n",
    "#fpr[\"micro\"], tpr[\"micro\"], _ = roc_curve(y_test.ravel(), y_score.ravel())\n",
    "#roc_auc[\"micro\"] = auc(fpr[\"micro\"], tpr[\"micro\"])  \n",
    "\n",
    "\n",
    "\n",
    "    \n",
    "# plotting\n",
    "plt.figure(figsize=(8, 6))\n",
    "plt.plot(fpr[0], tpr[0], linestyle='--',color='orange', label='Class 0 vs Rest')\n",
    "plt.plot(fpr[1], tpr[1], linestyle='--',color='green', label='Class 1 vs Rest')\n",
    "plt.plot(fpr[2], tpr[2], linestyle='--',color='blue', label='Class 2 vs Rest')\n",
    "plt.plot(fpr[3], tpr[3], linestyle='--',color='red', label='Class 3 vs Rest')\n",
    "plt.plot(fpr[4], tpr[4], linestyle='--',color='black', label='Class 4 vs Rest')\n",
    "plt.plot(fpr[5], tpr[5], linestyle='--',color='purple', label='Class 5 vs Rest')\n",
    "plt.plot(fpr[6], tpr[6], linestyle='--',color='yellow', label='Class 6 vs Rest')\n",
    "plt.title('Multiclass ROC: XGB')\n",
    "plt.xlabel('False Positive Rate')\n",
    "plt.ylabel('True Positive rate')\n",
    "plt.legend(loc='best')\n",
    "plt.savefig('Multiclass ROC',dpi=300); "
   ]
  },
  {
   "cell_type": "markdown",
   "id": "3761f32b",
   "metadata": {},
   "source": [
    "# Neural Network\n",
    "### Baseline NN (Imbalanced data)"
   ]
  },
  {
   "cell_type": "code",
   "execution_count": 20,
   "id": "876896a9",
   "metadata": {},
   "outputs": [
    {
     "data": {
      "text/plain": [
       "(1002, 61)"
      ]
     },
     "execution_count": 20,
     "metadata": {},
     "output_type": "execute_result"
    }
   ],
   "source": [
    "X_test.shape"
   ]
  },
  {
   "cell_type": "code",
   "execution_count": 21,
   "id": "5ae1f9db",
   "metadata": {},
   "outputs": [
    {
     "data": {
      "text/plain": [
       "(9013, 61)"
      ]
     },
     "execution_count": 21,
     "metadata": {},
     "output_type": "execute_result"
    }
   ],
   "source": [
    "X_train.shape"
   ]
  },
  {
   "cell_type": "code",
   "execution_count": 22,
   "id": "c4503155",
   "metadata": {},
   "outputs": [
    {
     "data": {
      "text/plain": [
       "(1002,)"
      ]
     },
     "execution_count": 22,
     "metadata": {},
     "output_type": "execute_result"
    }
   ],
   "source": [
    "y_test.shape"
   ]
  },
  {
   "cell_type": "code",
   "execution_count": 23,
   "id": "5885c286",
   "metadata": {},
   "outputs": [
    {
     "data": {
      "text/plain": [
       "(9013,)"
      ]
     },
     "execution_count": 23,
     "metadata": {},
     "output_type": "execute_result"
    }
   ],
   "source": [
    "y_train.shape"
   ]
  },
  {
   "cell_type": "code",
   "execution_count": 24,
   "id": "3eb9ba51",
   "metadata": {},
   "outputs": [
    {
     "data": {
      "text/plain": [
       "61"
      ]
     },
     "execution_count": 24,
     "metadata": {},
     "output_type": "execute_result"
    }
   ],
   "source": [
    "n_cols = X_train.shape[1]\n",
    "n_cols"
   ]
  },
  {
   "cell_type": "code",
   "execution_count": 76,
   "id": "e7925a50",
   "metadata": {},
   "outputs": [
    {
     "name": "stdout",
     "output_type": "stream",
     "text": [
      "Model: \"sequential_12\"\n",
      "_________________________________________________________________\n",
      "Layer (type)                 Output Shape              Param #   \n",
      "=================================================================\n",
      "dense_25 (Dense)             (None, 512)               31744     \n",
      "_________________________________________________________________\n",
      "dense_26 (Dense)             (None, 7)                 3591      \n",
      "=================================================================\n",
      "Total params: 35,335\n",
      "Trainable params: 35,335\n",
      "Non-trainable params: 0\n",
      "_________________________________________________________________\n"
     ]
    }
   ],
   "source": [
    "batch_size = 850\n",
    "num_classes = 7 \n",
    "epochs = 100\n",
    "\n",
    "def create_baseline():\n",
    "    # create model\n",
    "    model = Sequential()\n",
    "    model.add(Dense(512, input_dim=(n_cols), activation='relu'))\n",
    "    model.add(Dense(7, activation='softmax'))\n",
    "    # Compile model\n",
    "    model.compile(loss='sparse_categorical_crossentropy', optimizer='adam', metrics=['accuracy'])    \n",
    "    return model\n",
    "\n",
    "model = create_baseline()\n",
    "model.summary()"
   ]
  },
  {
   "cell_type": "code",
   "execution_count": 50,
   "id": "dc9bbacf",
   "metadata": {},
   "outputs": [],
   "source": [
    "# evaluate model with standardized dataset\n",
    "estimator = KerasClassifier(build_fn=create_baseline, \n",
    "                            epochs=epochs, batch_size=batch_size, \n",
    "                           verbose=0)\n",
    "\n",
    "kfold = StratifiedKFold(n_splits=4, shuffle=True)\n",
    "\n",
    "results = cross_val_score(estimator, X_train, y_train, cv=kfold)"
   ]
  },
  {
   "cell_type": "code",
   "execution_count": 51,
   "id": "57cc60a0",
   "metadata": {},
   "outputs": [
    {
     "name": "stdout",
     "output_type": "stream",
     "text": [
      "Baseline: 72.71% (0.78%)\n"
     ]
    }
   ],
   "source": [
    "print(\"Baseline: %.2f%% (%.2f%%)\" % (results.mean()*100, results.std()*100))"
   ]
  },
  {
   "cell_type": "code",
   "execution_count": 77,
   "id": "5e4095d9",
   "metadata": {},
   "outputs": [
    {
     "name": "stdout",
     "output_type": "stream",
     "text": [
      "Train on 9013 samples, validate on 1002 samples\n",
      "Epoch 1/100\n",
      " - 0s - loss: 2.4102 - accuracy: 0.4309 - val_loss: 1.2190 - val_accuracy: 0.6677\n",
      "Epoch 2/100\n",
      " - 0s - loss: 1.0998 - accuracy: 0.6553 - val_loss: 1.1012 - val_accuracy: 0.6697\n",
      "Epoch 3/100\n",
      " - 0s - loss: 0.8980 - accuracy: 0.7133 - val_loss: 0.9471 - val_accuracy: 0.6836\n",
      "Epoch 4/100\n",
      " - 0s - loss: 0.7777 - accuracy: 0.7314 - val_loss: 0.8911 - val_accuracy: 0.7036\n",
      "Epoch 5/100\n",
      " - 0s - loss: 0.7048 - accuracy: 0.7500 - val_loss: 0.8440 - val_accuracy: 0.7036\n",
      "Epoch 6/100\n",
      " - 0s - loss: 0.6646 - accuracy: 0.7595 - val_loss: 0.8090 - val_accuracy: 0.7206\n",
      "Epoch 7/100\n",
      " - 0s - loss: 0.6335 - accuracy: 0.7708 - val_loss: 0.7976 - val_accuracy: 0.7206\n",
      "Epoch 8/100\n",
      " - 0s - loss: 0.6113 - accuracy: 0.7809 - val_loss: 0.7899 - val_accuracy: 0.7176\n",
      "Epoch 9/100\n",
      " - 0s - loss: 0.5921 - accuracy: 0.7880 - val_loss: 0.7876 - val_accuracy: 0.7206\n",
      "Epoch 10/100\n",
      " - 0s - loss: 0.5759 - accuracy: 0.7941 - val_loss: 0.7727 - val_accuracy: 0.7196\n",
      "Epoch 11/100\n",
      " - 0s - loss: 0.5587 - accuracy: 0.8020 - val_loss: 0.7779 - val_accuracy: 0.7186\n",
      "Epoch 12/100\n",
      " - 0s - loss: 0.5453 - accuracy: 0.8055 - val_loss: 0.7731 - val_accuracy: 0.7265\n",
      "Epoch 13/100\n",
      " - 0s - loss: 0.5304 - accuracy: 0.8125 - val_loss: 0.7659 - val_accuracy: 0.7246\n",
      "Epoch 14/100\n",
      " - 0s - loss: 0.5160 - accuracy: 0.8168 - val_loss: 0.7661 - val_accuracy: 0.7246\n",
      "Epoch 15/100\n",
      " - 0s - loss: 0.5042 - accuracy: 0.8229 - val_loss: 0.7584 - val_accuracy: 0.7265\n",
      "Epoch 16/100\n",
      " - 0s - loss: 0.4943 - accuracy: 0.8261 - val_loss: 0.7676 - val_accuracy: 0.7285\n",
      "Epoch 17/100\n",
      " - 0s - loss: 0.4851 - accuracy: 0.8315 - val_loss: 0.7661 - val_accuracy: 0.7295\n",
      "Epoch 18/100\n",
      " - 0s - loss: 0.4738 - accuracy: 0.8376 - val_loss: 0.7622 - val_accuracy: 0.7305\n",
      "Epoch 19/100\n",
      " - 0s - loss: 0.4627 - accuracy: 0.8406 - val_loss: 0.7595 - val_accuracy: 0.7395\n",
      "Epoch 20/100\n",
      " - 0s - loss: 0.4559 - accuracy: 0.8424 - val_loss: 0.7630 - val_accuracy: 0.7415\n",
      "Epoch 21/100\n",
      " - 0s - loss: 0.4504 - accuracy: 0.8433 - val_loss: 0.7638 - val_accuracy: 0.7385\n",
      "Epoch 22/100\n",
      " - 0s - loss: 0.4395 - accuracy: 0.8505 - val_loss: 0.7651 - val_accuracy: 0.7315\n",
      "Epoch 23/100\n",
      " - 0s - loss: 0.4300 - accuracy: 0.8535 - val_loss: 0.7741 - val_accuracy: 0.7315\n",
      "Epoch 24/100\n",
      " - 0s - loss: 0.4226 - accuracy: 0.8567 - val_loss: 0.7749 - val_accuracy: 0.7295\n",
      "Epoch 25/100\n",
      " - 0s - loss: 0.4118 - accuracy: 0.8650 - val_loss: 0.7612 - val_accuracy: 0.7405\n",
      "Epoch 26/100\n",
      " - 0s - loss: 0.4028 - accuracy: 0.8681 - val_loss: 0.7671 - val_accuracy: 0.7405\n",
      "Epoch 27/100\n",
      " - 0s - loss: 0.3972 - accuracy: 0.8694 - val_loss: 0.7647 - val_accuracy: 0.7355\n",
      "Epoch 28/100\n",
      " - 0s - loss: 0.3907 - accuracy: 0.8715 - val_loss: 0.7681 - val_accuracy: 0.7405\n",
      "Epoch 29/100\n",
      " - 0s - loss: 0.3833 - accuracy: 0.8750 - val_loss: 0.7814 - val_accuracy: 0.7415\n",
      "Epoch 30/100\n",
      " - 0s - loss: 0.3788 - accuracy: 0.8781 - val_loss: 0.7720 - val_accuracy: 0.7345\n",
      "Epoch 31/100\n",
      " - 0s - loss: 0.3668 - accuracy: 0.8837 - val_loss: 0.7741 - val_accuracy: 0.7305\n",
      "Epoch 32/100\n",
      " - 0s - loss: 0.3599 - accuracy: 0.8884 - val_loss: 0.7755 - val_accuracy: 0.7385\n",
      "Epoch 33/100\n",
      " - 0s - loss: 0.3542 - accuracy: 0.8909 - val_loss: 0.7792 - val_accuracy: 0.7325\n",
      "Epoch 34/100\n",
      " - 0s - loss: 0.3492 - accuracy: 0.8922 - val_loss: 0.7723 - val_accuracy: 0.7375\n",
      "Epoch 35/100\n",
      " - 0s - loss: 0.3397 - accuracy: 0.8944 - val_loss: 0.7771 - val_accuracy: 0.7505\n",
      "Epoch 36/100\n",
      " - 0s - loss: 0.3360 - accuracy: 0.8977 - val_loss: 0.7784 - val_accuracy: 0.7365\n",
      "Epoch 37/100\n",
      " - 0s - loss: 0.3282 - accuracy: 0.9010 - val_loss: 0.7866 - val_accuracy: 0.7415\n",
      "Epoch 38/100\n",
      " - 0s - loss: 0.3207 - accuracy: 0.9034 - val_loss: 0.7897 - val_accuracy: 0.7455\n",
      "Epoch 39/100\n",
      " - 0s - loss: 0.3160 - accuracy: 0.9062 - val_loss: 0.7869 - val_accuracy: 0.7365\n",
      "Epoch 40/100\n",
      " - 0s - loss: 0.3082 - accuracy: 0.9125 - val_loss: 0.7920 - val_accuracy: 0.7385\n",
      "Epoch 41/100\n",
      " - 0s - loss: 0.3048 - accuracy: 0.9120 - val_loss: 0.7992 - val_accuracy: 0.7355\n",
      "Epoch 42/100\n",
      " - 0s - loss: 0.2994 - accuracy: 0.9133 - val_loss: 0.7999 - val_accuracy: 0.7425\n",
      "Epoch 43/100\n",
      " - 0s - loss: 0.2928 - accuracy: 0.9189 - val_loss: 0.8013 - val_accuracy: 0.7375\n",
      "Epoch 44/100\n",
      " - 0s - loss: 0.2869 - accuracy: 0.9190 - val_loss: 0.7999 - val_accuracy: 0.7505\n",
      "Epoch 45/100\n",
      " - 0s - loss: 0.2824 - accuracy: 0.9194 - val_loss: 0.7986 - val_accuracy: 0.7435\n",
      "Epoch 46/100\n",
      " - 0s - loss: 0.2789 - accuracy: 0.9214 - val_loss: 0.8054 - val_accuracy: 0.7445\n",
      "Epoch 47/100\n",
      " - 0s - loss: 0.2723 - accuracy: 0.9262 - val_loss: 0.8085 - val_accuracy: 0.7435\n",
      "Epoch 48/100\n",
      " - 0s - loss: 0.2651 - accuracy: 0.9282 - val_loss: 0.8217 - val_accuracy: 0.7425\n",
      "Epoch 49/100\n",
      " - 0s - loss: 0.2611 - accuracy: 0.9297 - val_loss: 0.8088 - val_accuracy: 0.7455\n",
      "Epoch 50/100\n",
      " - 0s - loss: 0.2558 - accuracy: 0.9311 - val_loss: 0.8181 - val_accuracy: 0.7415\n",
      "Epoch 51/100\n",
      " - 0s - loss: 0.2503 - accuracy: 0.9353 - val_loss: 0.8165 - val_accuracy: 0.7435\n",
      "Epoch 52/100\n",
      " - 0s - loss: 0.2467 - accuracy: 0.9349 - val_loss: 0.8270 - val_accuracy: 0.7445\n",
      "Epoch 53/100\n",
      " - 0s - loss: 0.2430 - accuracy: 0.9350 - val_loss: 0.8279 - val_accuracy: 0.7425\n",
      "Epoch 54/100\n",
      " - 0s - loss: 0.2385 - accuracy: 0.9370 - val_loss: 0.8323 - val_accuracy: 0.7455\n",
      "Epoch 55/100\n",
      " - 0s - loss: 0.2340 - accuracy: 0.9388 - val_loss: 0.8316 - val_accuracy: 0.7415\n",
      "Epoch 56/100\n",
      " - 0s - loss: 0.2288 - accuracy: 0.9402 - val_loss: 0.8447 - val_accuracy: 0.7415\n",
      "Epoch 57/100\n",
      " - 0s - loss: 0.2257 - accuracy: 0.9435 - val_loss: 0.8436 - val_accuracy: 0.7365\n",
      "Epoch 58/100\n",
      " - 0s - loss: 0.2196 - accuracy: 0.9445 - val_loss: 0.8435 - val_accuracy: 0.7415\n",
      "Epoch 59/100\n",
      " - 0s - loss: 0.2154 - accuracy: 0.9465 - val_loss: 0.8453 - val_accuracy: 0.7335\n",
      "Epoch 60/100\n",
      " - 0s - loss: 0.2101 - accuracy: 0.9493 - val_loss: 0.8504 - val_accuracy: 0.7465\n",
      "Epoch 61/100\n",
      " - 0s - loss: 0.2070 - accuracy: 0.9483 - val_loss: 0.8567 - val_accuracy: 0.7425\n",
      "Epoch 62/100\n",
      " - 0s - loss: 0.2036 - accuracy: 0.9500 - val_loss: 0.8639 - val_accuracy: 0.7475\n",
      "Epoch 63/100\n",
      " - 0s - loss: 0.2056 - accuracy: 0.9489 - val_loss: 0.8827 - val_accuracy: 0.7495\n",
      "Epoch 64/100\n",
      " - 0s - loss: 0.1984 - accuracy: 0.9503 - val_loss: 0.8675 - val_accuracy: 0.7405\n",
      "Epoch 65/100\n",
      " - 0s - loss: 0.1914 - accuracy: 0.9557 - val_loss: 0.8732 - val_accuracy: 0.7415\n",
      "Epoch 66/100\n",
      " - 0s - loss: 0.1893 - accuracy: 0.9543 - val_loss: 0.8807 - val_accuracy: 0.7365\n",
      "Epoch 67/100\n",
      " - 0s - loss: 0.1857 - accuracy: 0.9575 - val_loss: 0.8734 - val_accuracy: 0.7305\n",
      "Epoch 68/100\n",
      " - 0s - loss: 0.1818 - accuracy: 0.9592 - val_loss: 0.8876 - val_accuracy: 0.7365\n",
      "Epoch 69/100\n",
      " - 0s - loss: 0.1775 - accuracy: 0.9601 - val_loss: 0.8877 - val_accuracy: 0.7305\n",
      "Epoch 70/100\n",
      " - 0s - loss: 0.1727 - accuracy: 0.9623 - val_loss: 0.8917 - val_accuracy: 0.7435\n",
      "Epoch 71/100\n",
      " - 0s - loss: 0.1705 - accuracy: 0.9627 - val_loss: 0.8876 - val_accuracy: 0.7345\n",
      "Epoch 72/100\n",
      " - 0s - loss: 0.1664 - accuracy: 0.9658 - val_loss: 0.8980 - val_accuracy: 0.7385\n",
      "Epoch 73/100\n",
      " - 0s - loss: 0.1645 - accuracy: 0.9639 - val_loss: 0.9050 - val_accuracy: 0.7385\n",
      "Epoch 74/100\n",
      " - 0s - loss: 0.1617 - accuracy: 0.9675 - val_loss: 0.9132 - val_accuracy: 0.7315\n",
      "Epoch 75/100\n",
      " - 0s - loss: 0.1598 - accuracy: 0.9648 - val_loss: 0.9250 - val_accuracy: 0.7305\n",
      "Epoch 76/100\n",
      " - 0s - loss: 0.1556 - accuracy: 0.9676 - val_loss: 0.9295 - val_accuracy: 0.7345\n",
      "Epoch 77/100\n",
      " - 0s - loss: 0.1524 - accuracy: 0.9665 - val_loss: 0.9159 - val_accuracy: 0.7325\n",
      "Epoch 78/100\n",
      " - 0s - loss: 0.1505 - accuracy: 0.9700 - val_loss: 0.9307 - val_accuracy: 0.7305\n",
      "Epoch 79/100\n",
      " - 0s - loss: 0.1462 - accuracy: 0.9687 - val_loss: 0.9308 - val_accuracy: 0.7335\n",
      "Epoch 80/100\n",
      " - 0s - loss: 0.1442 - accuracy: 0.9706 - val_loss: 0.9409 - val_accuracy: 0.7345\n",
      "Epoch 81/100\n",
      " - 0s - loss: 0.1397 - accuracy: 0.9733 - val_loss: 0.9383 - val_accuracy: 0.7335\n",
      "Epoch 82/100\n",
      " - 0s - loss: 0.1374 - accuracy: 0.9730 - val_loss: 0.9396 - val_accuracy: 0.7365\n",
      "Epoch 83/100\n",
      " - 0s - loss: 0.1355 - accuracy: 0.9750 - val_loss: 0.9482 - val_accuracy: 0.7375\n",
      "Epoch 84/100\n",
      " - 0s - loss: 0.1326 - accuracy: 0.9744 - val_loss: 0.9528 - val_accuracy: 0.7375\n",
      "Epoch 85/100\n",
      " - 0s - loss: 0.1303 - accuracy: 0.9761 - val_loss: 0.9553 - val_accuracy: 0.7315\n",
      "Epoch 86/100\n",
      " - 0s - loss: 0.1274 - accuracy: 0.9765 - val_loss: 0.9601 - val_accuracy: 0.7305\n",
      "Epoch 87/100\n",
      " - 0s - loss: 0.1247 - accuracy: 0.9770 - val_loss: 0.9669 - val_accuracy: 0.7285\n",
      "Epoch 88/100\n",
      " - 0s - loss: 0.1235 - accuracy: 0.9790 - val_loss: 0.9693 - val_accuracy: 0.7275\n",
      "Epoch 89/100\n",
      " - 0s - loss: 0.1212 - accuracy: 0.9788 - val_loss: 0.9748 - val_accuracy: 0.7355\n",
      "Epoch 90/100\n",
      " - 0s - loss: 0.1183 - accuracy: 0.9801 - val_loss: 0.9793 - val_accuracy: 0.7345\n",
      "Epoch 91/100\n",
      " - 0s - loss: 0.1177 - accuracy: 0.9793 - val_loss: 0.9785 - val_accuracy: 0.7325\n",
      "Epoch 92/100\n",
      " - 0s - loss: 0.1147 - accuracy: 0.9809 - val_loss: 0.9887 - val_accuracy: 0.7305\n",
      "Epoch 93/100\n",
      " - 0s - loss: 0.1116 - accuracy: 0.9812 - val_loss: 0.9882 - val_accuracy: 0.7335\n",
      "Epoch 94/100\n",
      " - 0s - loss: 0.1085 - accuracy: 0.9819 - val_loss: 0.9948 - val_accuracy: 0.7345\n",
      "Epoch 95/100\n",
      " - 0s - loss: 0.1073 - accuracy: 0.9837 - val_loss: 0.9963 - val_accuracy: 0.7335\n",
      "Epoch 96/100\n",
      " - 0s - loss: 0.1047 - accuracy: 0.9832 - val_loss: 1.0076 - val_accuracy: 0.7305\n",
      "Epoch 97/100\n",
      " - 0s - loss: 0.1023 - accuracy: 0.9848 - val_loss: 1.0106 - val_accuracy: 0.7345\n",
      "Epoch 98/100\n",
      " - 0s - loss: 0.1006 - accuracy: 0.9838 - val_loss: 1.0094 - val_accuracy: 0.7275\n",
      "Epoch 99/100\n",
      " - 0s - loss: 0.0987 - accuracy: 0.9864 - val_loss: 1.0178 - val_accuracy: 0.7335\n",
      "Epoch 100/100\n",
      " - 0s - loss: 0.0961 - accuracy: 0.9857 - val_loss: 1.0114 - val_accuracy: 0.7325\n"
     ]
    }
   ],
   "source": [
    "history = model.fit(X_train,\n",
    "                    y_train,\n",
    "                    epochs=epochs,\n",
    "                    batch_size=batch_size,\n",
    "                    verbose=2,\n",
    "                    validation_data= (X_test,y_test))"
   ]
  },
  {
   "cell_type": "code",
   "execution_count": 78,
   "id": "32c10155",
   "metadata": {},
   "outputs": [
    {
     "name": "stdout",
     "output_type": "stream",
     "text": [
      "Model: \"sequential_12\"\n",
      "_________________________________________________________________\n",
      "Layer (type)                 Output Shape              Param #   \n",
      "=================================================================\n",
      "dense_25 (Dense)             (None, 512)               31744     \n",
      "_________________________________________________________________\n",
      "dense_26 (Dense)             (None, 7)                 3591      \n",
      "=================================================================\n",
      "Total params: 35,335\n",
      "Trainable params: 35,335\n",
      "Non-trainable params: 0\n",
      "_________________________________________________________________\n",
      "None\n",
      "train samples: 9013\n",
      "test samples: 1002\n",
      "Test loss: 1.0113971949575429\n",
      "Test accuracy: 0.7325349450111389\n"
     ]
    }
   ],
   "source": [
    "# Print model fitting summury \n",
    "score = model.evaluate(X_test, y_test, verbose=0)    \n",
    "prediction_bl = model.predict_classes(X_test)\n",
    "\n",
    "print(model.summary())\n",
    "print('train samples:', X_train.shape[0])\n",
    "print('test samples:', X_test.shape[0])\n",
    "print('Test loss:', score[0])\n",
    "print('Test accuracy:', score[1])"
   ]
  },
  {
   "cell_type": "code",
   "execution_count": 79,
   "id": "2cc55bc6",
   "metadata": {},
   "outputs": [
    {
     "name": "stdout",
     "output_type": "stream",
     "text": [
      "              precision    recall  f1-score   support\n",
      "\n",
      "           0       0.45      0.46      0.46        28\n",
      "           1       0.51      0.46      0.48        57\n",
      "           2       0.37      0.33      0.35       108\n",
      "           3       0.50      0.20      0.29        15\n",
      "           4       0.84      0.90      0.87       678\n",
      "           5       0.60      0.64      0.62        14\n",
      "           6       0.46      0.37      0.41       102\n",
      "\n",
      "    accuracy                           0.73      1002\n",
      "   macro avg       0.53      0.48      0.50      1002\n",
      "weighted avg       0.72      0.73      0.72      1002\n",
      "\n"
     ]
    }
   ],
   "source": [
    "print(classification_report(y_test.astype(int), prediction_bl))"
   ]
  },
  {
   "cell_type": "code",
   "execution_count": 80,
   "id": "1eff3e3f",
   "metadata": {},
   "outputs": [
    {
     "data": {
      "text/plain": [
       "Text(0.5, 15.0, 'Predicted Class')"
      ]
     },
     "execution_count": 80,
     "metadata": {},
     "output_type": "execute_result"
    },
    {
     "data": {
      "image/png": "[encoded data removed]",
      "text/plain": [
       "<Figure size 432x288 with 2 Axes>"
      ]
     },
     "metadata": {
      "needs_background": "light"
     },
     "output_type": "display_data"
    }
   ],
   "source": [
    "cm = confusion_matrix(y_test,prediction_bl)\n",
    "#plt.figure(figsize=(10, 10))\n",
    "sns.heatmap(cm, annot=True, fmt='g', vmin=0, cbar=True, cmap='twilight')\n",
    "plt.ylabel('True Class')\n",
    "plt.xlabel('Predicted Class')"
   ]
  },
  {
   "cell_type": "code",
   "execution_count": 81,
   "id": "eb33aa1a",
   "metadata": {},
   "outputs": [
    {
     "name": "stdout",
     "output_type": "stream",
     "text": [
      "Class: {0: 'nv', 1: 'mel', 2: 'bkl', 3: 'bcc', 4: 'akiec', 5: 'vasc', 6: 'df'}\n",
      "Specificity: [0.9835729  0.97354497 0.93176734 0.99696049 0.65432099 0.99392713\n",
      " 0.95      ]\n",
      "Specificity Mean: 0.9262991151589101\n",
      "Class: {0: 'nv', 1: 'mel', 2: 'bkl', 3: 'bcc', 4: 'akiec', 5: 'vasc', 6: 'df'}\n",
      "Recall/Sensitivity: [0.46428571 0.45614035 0.33333333 0.2        0.89823009 0.64285714\n",
      " 0.37254902]\n",
      "Recall/Sensitivity Mean: 0.4810565213509716\n",
      "Class: {0: 'nv', 1: 'mel', 2: 'bkl', 3: 'bcc', 4: 'akiec', 5: 'vasc', 6: 'df'}\n",
      "Precision: [0.44827586 0.50980392 0.37113402 0.5        0.84466019 0.6\n",
      " 0.45783133]\n",
      "Precision Mean: 0.5331007605331588\n"
     ]
    }
   ],
   "source": [
    "#Performance metrics from confusion matrix \n",
    "\n",
    "FP = cm.sum(axis=0) - np.diag(cm) \n",
    "FN = cm.sum(axis=1) - np.diag(cm)\n",
    "TP = np.diag(cm)\n",
    "TN = cm.sum() - (FP + FN + TP)\n",
    "\n",
    "FP = FP.astype(float)\n",
    "FN = FN.astype(float)\n",
    "TP = TP.astype(float)\n",
    "TN = TN.astype(float)\n",
    "\n",
    "# Sensitivity, hit rate, Recall, or true positive rate\n",
    "TPR = TP/(TP+FN)\n",
    "\n",
    "# Specificity or true negative rate\n",
    "TNR = TN/(TN+FP) \n",
    "\n",
    "# Precision or positive predictive value\n",
    "PPV = TP/(TP+FP)\n",
    "\n",
    "# Negative predictive value\n",
    "NPV = TN/(TN+FN)\n",
    "\n",
    "# Fall out or false positive rate\n",
    "FPR = FP/(FP+TN)\n",
    "\n",
    "# False negative rate\n",
    "FNR = FN/(TP+FN)\n",
    "\n",
    "# False discovery rate\n",
    "FDR = FP/(TP+FP)\n",
    "\n",
    "\n",
    "print('Class:',class_label)\n",
    "\n",
    "print('Specificity:',TNR)\n",
    "print('Specificity Mean:',TNR.mean())\n",
    "\n",
    "print('Class:',class_label)\n",
    "\n",
    "print('Recall/Sensitivity:',TPR)\n",
    "print('Recall/Sensitivity Mean:',TPR.mean())\n",
    "\n",
    "print('Class:',class_label)\n",
    "\n",
    "print('Precision:',PPV)\n",
    "print('Precision Mean:',PPV.mean())"
   ]
  },
  {
   "cell_type": "markdown",
   "id": "5538a86a",
   "metadata": {},
   "source": [
    "## Visualize training and test histories"
   ]
  },
  {
   "cell_type": "code",
   "execution_count": 82,
   "id": "a5985fa6",
   "metadata": {
    "scrolled": false
   },
   "outputs": [
    {
     "data": {
      "image/png": "[encoded data removed]",
      "text/plain": [
       "<Figure size 432x288 with 1 Axes>"
      ]
     },
     "metadata": {
      "needs_background": "light"
     },
     "output_type": "display_data"
    },
    {
     "data": {
      "image/png": "[encoded data removed]",
      "text/plain": [
       "<Figure size 432x288 with 1 Axes>"
      ]
     },
     "metadata": {
      "needs_background": "light"
     },
     "output_type": "display_data"
    }
   ],
   "source": [
    "#Get training and test accuracy histories\n",
    "training_accuracy = history.history['accuracy']\n",
    "test_accuracy = history.history['val_accuracy']\n",
    "\n",
    "#Epoch count\n",
    "epoch_count = range(1,len(training_accuracy) + 1)\n",
    "\n",
    "#plt.figure(figsize=(8, 6))\n",
    "plt.plot(epoch_count, training_accuracy, \"r--\")\n",
    "plt.plot(epoch_count,test_accuracy, \"b-\")\n",
    "plt.legend(['Training Accuracy','Test Accuracy'])\n",
    "plt.xlabel('Epoch')\n",
    "plt.ylabel('Accuracy')\n",
    "plt.show()\n",
    "\n",
    "#Get training and test loss histories\n",
    "training_loss = history.history['loss']\n",
    "test_loss = history.history['val_loss']\n",
    "\n",
    "\n",
    "#Epoch count\n",
    "epoch_count = range(1,len(training_loss) + 1)\n",
    "\n",
    "#Visualize loss history\n",
    "#plt.figure(figsize=(8, 6))\n",
    "plt.plot(epoch_count, training_loss, \"r--\")\n",
    "plt.plot(epoch_count,test_loss, \"b-\")\n",
    "plt.legend(['Training Loss','Test Loss'])\n",
    "plt.xlabel('Epoch')\n",
    "plt.ylabel('Loss')\n",
    "plt.show()"
   ]
  },
  {
   "cell_type": "markdown",
   "id": "88337878",
   "metadata": {},
   "source": [
    "### ROC scores for multi-class classification NN Imbalanced data"
   ]
  },
  {
   "cell_type": "code",
   "execution_count": 83,
   "id": "f0284389",
   "metadata": {},
   "outputs": [
    {
     "name": "stdout",
     "output_type": "stream",
     "text": [
      "One-vs-One ROC AUC scores:\n",
      "0.841922 (macro),\n",
      "0.886498 (weighted by prevalence)\n",
      "One-vs-Rest ROC AUC scores:\n",
      "0.893305 (macro),\n",
      "0.875175 (weighted by prevalence)\n"
     ]
    }
   ],
   "source": [
    "from itertools import cycle\n",
    "from sklearn.metrics import roc_curve, auc\n",
    "from sklearn.multiclass import OneVsRestClassifier\n",
    "from scipy import interp\n",
    "from sklearn.metrics import roc_auc_score\n",
    "\n",
    "\n",
    "#y_prob = classifier.predict_proba(X_test)\n",
    "\n",
    "prediction_cplx = model.predict_proba(X_test)\n",
    "\n",
    "macro_roc_auc_ovo = roc_auc_score(y_test, prediction_cplx, multi_class=\"ovo\",\n",
    "                                  average=\"macro\")\n",
    "weighted_roc_auc_ovo = roc_auc_score(y_test, prediction_cplx, multi_class=\"ovo\",\n",
    "                                     average=\"weighted\")\n",
    "macro_roc_auc_ovr = roc_auc_score(y_test, prediction_cplx, multi_class=\"ovr\",\n",
    "                                  average=\"macro\")\n",
    "weighted_roc_auc_ovr = roc_auc_score(y_test, prediction_cplx, multi_class=\"ovr\",\n",
    "                                     average=\"weighted\")\n",
    "print(\"One-vs-One ROC AUC scores:\\n{:.6f} (macro),\\n{:.6f} \"\n",
    "      \"(weighted by prevalence)\"\n",
    "      .format(macro_roc_auc_ovo, weighted_roc_auc_ovo))\n",
    "print(\"One-vs-Rest ROC AUC scores:\\n{:.6f} (macro),\\n{:.6f} \"\n",
    "      \"(weighted by prevalence)\"\n",
    "      .format(macro_roc_auc_ovr, weighted_roc_auc_ovr))"
   ]
  },
  {
   "cell_type": "markdown",
   "id": "195617d4",
   "metadata": {},
   "source": [
    "### ROC plot"
   ]
  },
  {
   "cell_type": "code",
   "execution_count": 84,
   "id": "83a3d245",
   "metadata": {},
   "outputs": [
    {
     "data": {
      "image/png": "[encoded data removed]",
      "text/plain": [
       "<Figure size 576x432 with 1 Axes>"
      ]
     },
     "metadata": {
      "needs_background": "light"
     },
     "output_type": "display_data"
    }
   ],
   "source": [
    "#ROC for multi-class classification model, balanced data (SMOTE)\n",
    "from sklearn.multiclass import OneVsRestClassifier\n",
    "from sklearn.metrics import roc_curve\n",
    "from sklearn.metrics import roc_auc_score\n",
    "\n",
    "prediction_cplx = model.predict_proba(X_test)\n",
    "\n",
    "# roc curve for classes\n",
    "fpr = {}\n",
    "tpr = {}\n",
    "thresh ={}\n",
    "\n",
    "n_class = 7\n",
    "\n",
    "for i in range(n_class):    \n",
    "    fpr[i], tpr[i], thresh[i] = roc_curve(y_test, prediction_cplx[:,i], pos_label=i)\n",
    "    \n",
    "# plotting\n",
    "plt.figure(figsize=(8, 6))\n",
    "plt.plot(fpr[0], tpr[0], linestyle='--',color='orange', label='Class 0 vs Rest')\n",
    "plt.plot(fpr[1], tpr[1], linestyle='--',color='green', label='Class 1 vs Rest')\n",
    "plt.plot(fpr[2], tpr[2], linestyle='--',color='blue', label='Class 2 vs Rest')\n",
    "plt.plot(fpr[3], tpr[3], linestyle='--',color='red', label='Class 3 vs Rest')\n",
    "plt.plot(fpr[4], tpr[4], linestyle='--',color='black', label='Class 4 vs Rest')\n",
    "plt.plot(fpr[5], tpr[5], linestyle='--',color='purple', label='Class 5 vs Rest')\n",
    "plt.plot(fpr[6], tpr[6], linestyle='--',color='yellow', label='Class 6 vs Rest')\n",
    "plt.title('Multiclass Receiver Operating Characteristic')\n",
    "plt.xlabel('False Positive Rate')\n",
    "plt.ylabel('True Positive rate')\n",
    "plt.legend(loc='best')\n",
    "plt.savefig('Multiclass ROC',dpi=300);"
   ]
  },
  {
   "cell_type": "markdown",
   "id": "fa2db62a",
   "metadata": {},
   "source": [
    "# Neural Network\n",
    "### Baseline NN (Balanced data)"
   ]
  },
  {
   "cell_type": "code",
   "execution_count": 147,
   "id": "4a091da2",
   "metadata": {},
   "outputs": [
    {
     "data": {
      "text/plain": [
       "(4694, 58)"
      ]
     },
     "execution_count": 147,
     "metadata": {},
     "output_type": "execute_result"
    }
   ],
   "source": [
    "X_test.shape"
   ]
  },
  {
   "cell_type": "code",
   "execution_count": 148,
   "id": "a7d322d4",
   "metadata": {},
   "outputs": [
    {
     "data": {
      "text/plain": [
       "(42241, 58)"
      ]
     },
     "execution_count": 148,
     "metadata": {},
     "output_type": "execute_result"
    }
   ],
   "source": [
    "X_train.shape"
   ]
  },
  {
   "cell_type": "code",
   "execution_count": 149,
   "id": "bad9dc35",
   "metadata": {},
   "outputs": [
    {
     "data": {
      "text/plain": [
       "(4694,)"
      ]
     },
     "execution_count": 149,
     "metadata": {},
     "output_type": "execute_result"
    }
   ],
   "source": [
    "y_test.shape"
   ]
  },
  {
   "cell_type": "code",
   "execution_count": 150,
   "id": "0e09d7da",
   "metadata": {},
   "outputs": [
    {
     "data": {
      "text/plain": [
       "(42241,)"
      ]
     },
     "execution_count": 150,
     "metadata": {},
     "output_type": "execute_result"
    }
   ],
   "source": [
    "y_train.shape"
   ]
  },
  {
   "cell_type": "code",
   "execution_count": 151,
   "id": "61ee17a9",
   "metadata": {},
   "outputs": [
    {
     "data": {
      "text/plain": [
       "58"
      ]
     },
     "execution_count": 151,
     "metadata": {},
     "output_type": "execute_result"
    }
   ],
   "source": [
    "n_cols = X_train.shape[1]\n",
    "n_cols"
   ]
  },
  {
   "cell_type": "code",
   "execution_count": 152,
   "id": "598add92",
   "metadata": {},
   "outputs": [
    {
     "name": "stdout",
     "output_type": "stream",
     "text": [
      "Model: \"sequential_18\"\n",
      "_________________________________________________________________\n",
      "Layer (type)                 Output Shape              Param #   \n",
      "=================================================================\n",
      "dense_38 (Dense)             (None, 512)               30208     \n",
      "_________________________________________________________________\n",
      "dense_39 (Dense)             (None, 7)                 3591      \n",
      "=================================================================\n",
      "Total params: 33,799\n",
      "Trainable params: 33,799\n",
      "Non-trainable params: 0\n",
      "_________________________________________________________________\n"
     ]
    }
   ],
   "source": [
    "batch_size = 850\n",
    "num_classes = 7 \n",
    "epochs = 100\n",
    "\n",
    "def create_baseline():\n",
    "    # create model\n",
    "    model = Sequential()\n",
    "    model.add(Dense(512, input_dim=(n_cols), activation='relu'))\n",
    "    model.add(Dense(7, activation='softmax'))\n",
    "    # Compile model\n",
    "    model.compile(loss='sparse_categorical_crossentropy', optimizer='adam', metrics=['accuracy'])    \n",
    "    return model\n",
    "\n",
    "model = create_baseline()\n",
    "model.summary()"
   ]
  },
  {
   "cell_type": "code",
   "execution_count": 153,
   "id": "a237eb32",
   "metadata": {},
   "outputs": [],
   "source": [
    "# evaluate model with standardized dataset\n",
    "estimator = KerasClassifier(build_fn=create_baseline, \n",
    "                            epochs=epochs, batch_size=batch_size, \n",
    "                           verbose=0)\n",
    "\n",
    "kfold = StratifiedKFold(n_splits=4, shuffle=True)\n",
    "\n",
    "results = cross_val_score(estimator, X_train, y_train, cv=kfold)"
   ]
  },
  {
   "cell_type": "code",
   "execution_count": 154,
   "id": "85e03f3e",
   "metadata": {},
   "outputs": [
    {
     "name": "stdout",
     "output_type": "stream",
     "text": [
      "Baseline: 96.64% (0.16%)\n"
     ]
    }
   ],
   "source": [
    "print(\"Baseline: %.2f%% (%.2f%%)\" % (results.mean()*100, results.std()*100))"
   ]
  },
  {
   "cell_type": "code",
   "execution_count": 155,
   "id": "094434ed",
   "metadata": {
    "scrolled": true
   },
   "outputs": [
    {
     "name": "stdout",
     "output_type": "stream",
     "text": [
      "Train on 42241 samples, validate on 4694 samples\n",
      "Epoch 1/100\n",
      " - 1s - loss: 1.3943 - accuracy: 0.5468 - val_loss: 0.8390 - val_accuracy: 0.7265\n",
      "Epoch 2/100\n",
      " - 1s - loss: 0.7351 - accuracy: 0.7599 - val_loss: 0.6469 - val_accuracy: 0.7997\n",
      "Epoch 3/100\n",
      " - 1s - loss: 0.5877 - accuracy: 0.8168 - val_loss: 0.5410 - val_accuracy: 0.8375\n",
      "Epoch 4/100\n",
      " - 1s - loss: 0.4966 - accuracy: 0.8496 - val_loss: 0.4721 - val_accuracy: 0.8581\n",
      "Epoch 5/100\n",
      " - 1s - loss: 0.4274 - accuracy: 0.8760 - val_loss: 0.4155 - val_accuracy: 0.8779\n",
      "Epoch 6/100\n",
      " - 1s - loss: 0.3736 - accuracy: 0.8929 - val_loss: 0.3724 - val_accuracy: 0.8879\n",
      "Epoch 7/100\n",
      " - 1s - loss: 0.3307 - accuracy: 0.9074 - val_loss: 0.3403 - val_accuracy: 0.8994\n",
      "Epoch 8/100\n",
      " - 1s - loss: 0.2948 - accuracy: 0.9178 - val_loss: 0.3065 - val_accuracy: 0.9124\n",
      "Epoch 9/100\n",
      " - 1s - loss: 0.2653 - accuracy: 0.9281 - val_loss: 0.2838 - val_accuracy: 0.9182\n",
      "Epoch 10/100\n",
      " - 1s - loss: 0.2391 - accuracy: 0.9366 - val_loss: 0.2596 - val_accuracy: 0.9222\n",
      "Epoch 11/100\n",
      " - 1s - loss: 0.2173 - accuracy: 0.9432 - val_loss: 0.2423 - val_accuracy: 0.9293\n",
      "Epoch 12/100\n",
      " - 1s - loss: 0.1976 - accuracy: 0.9500 - val_loss: 0.2260 - val_accuracy: 0.9357\n",
      "Epoch 13/100\n",
      " - 1s - loss: 0.1808 - accuracy: 0.9542 - val_loss: 0.2111 - val_accuracy: 0.9399\n",
      "Epoch 14/100\n",
      " - 1s - loss: 0.1664 - accuracy: 0.9589 - val_loss: 0.2030 - val_accuracy: 0.9431\n",
      "Epoch 15/100\n",
      " - 1s - loss: 0.1531 - accuracy: 0.9632 - val_loss: 0.1926 - val_accuracy: 0.9480\n",
      "Epoch 16/100\n",
      " - 1s - loss: 0.1417 - accuracy: 0.9673 - val_loss: 0.1830 - val_accuracy: 0.9519\n",
      "Epoch 17/100\n",
      " - 1s - loss: 0.1309 - accuracy: 0.9705 - val_loss: 0.1723 - val_accuracy: 0.9529\n",
      "Epoch 18/100\n",
      " - 1s - loss: 0.1217 - accuracy: 0.9720 - val_loss: 0.1666 - val_accuracy: 0.9536\n",
      "Epoch 19/100\n",
      " - 1s - loss: 0.1131 - accuracy: 0.9751 - val_loss: 0.1600 - val_accuracy: 0.9574\n",
      "Epoch 20/100\n",
      " - 1s - loss: 0.1045 - accuracy: 0.9771 - val_loss: 0.1580 - val_accuracy: 0.9587\n",
      "Epoch 21/100\n",
      " - 1s - loss: 0.0983 - accuracy: 0.9794 - val_loss: 0.1559 - val_accuracy: 0.9585\n",
      "Epoch 22/100\n",
      " - 1s - loss: 0.0921 - accuracy: 0.9809 - val_loss: 0.1460 - val_accuracy: 0.9640\n",
      "Epoch 23/100\n",
      " - 1s - loss: 0.0857 - accuracy: 0.9826 - val_loss: 0.1420 - val_accuracy: 0.9634\n",
      "Epoch 24/100\n",
      " - 1s - loss: 0.0812 - accuracy: 0.9838 - val_loss: 0.1407 - val_accuracy: 0.9657\n",
      "Epoch 25/100\n",
      " - 1s - loss: 0.0753 - accuracy: 0.9854 - val_loss: 0.1366 - val_accuracy: 0.9644\n",
      "Epoch 26/100\n",
      " - 1s - loss: 0.0714 - accuracy: 0.9860 - val_loss: 0.1299 - val_accuracy: 0.9676\n",
      "Epoch 27/100\n",
      " - 1s - loss: 0.0649 - accuracy: 0.9887 - val_loss: 0.1304 - val_accuracy: 0.9670\n",
      "Epoch 28/100\n",
      " - 1s - loss: 0.0615 - accuracy: 0.9894 - val_loss: 0.1259 - val_accuracy: 0.9689\n",
      "Epoch 29/100\n",
      " - 1s - loss: 0.0589 - accuracy: 0.9896 - val_loss: 0.1256 - val_accuracy: 0.9670\n",
      "Epoch 30/100\n",
      " - 1s - loss: 0.0539 - accuracy: 0.9911 - val_loss: 0.1234 - val_accuracy: 0.9697\n",
      "Epoch 31/100\n",
      " - 1s - loss: 0.0514 - accuracy: 0.9914 - val_loss: 0.1187 - val_accuracy: 0.9706\n",
      "Epoch 32/100\n",
      " - 1s - loss: 0.0481 - accuracy: 0.9920 - val_loss: 0.1179 - val_accuracy: 0.9697\n",
      "Epoch 33/100\n",
      " - 1s - loss: 0.0456 - accuracy: 0.9929 - val_loss: 0.1206 - val_accuracy: 0.9678\n",
      "Epoch 34/100\n",
      " - 1s - loss: 0.0429 - accuracy: 0.9938 - val_loss: 0.1152 - val_accuracy: 0.9710\n",
      "Epoch 35/100\n",
      " - 1s - loss: 0.0395 - accuracy: 0.9945 - val_loss: 0.1227 - val_accuracy: 0.9672\n",
      "Epoch 36/100\n",
      " - 1s - loss: 0.0393 - accuracy: 0.9937 - val_loss: 0.1132 - val_accuracy: 0.9693\n",
      "Epoch 37/100\n",
      " - 1s - loss: 0.0358 - accuracy: 0.9950 - val_loss: 0.1068 - val_accuracy: 0.9721\n",
      "Epoch 38/100\n",
      " - 1s - loss: 0.0339 - accuracy: 0.9954 - val_loss: 0.1090 - val_accuracy: 0.9710\n",
      "Epoch 39/100\n",
      " - 1s - loss: 0.0317 - accuracy: 0.9960 - val_loss: 0.1113 - val_accuracy: 0.9712\n",
      "Epoch 40/100\n",
      " - 1s - loss: 0.0300 - accuracy: 0.9964 - val_loss: 0.1115 - val_accuracy: 0.9702\n",
      "Epoch 41/100\n",
      " - 1s - loss: 0.0281 - accuracy: 0.9968 - val_loss: 0.1110 - val_accuracy: 0.9715\n",
      "Epoch 42/100\n",
      " - 1s - loss: 0.0270 - accuracy: 0.9971 - val_loss: 0.1166 - val_accuracy: 0.9685\n",
      "Epoch 43/100\n",
      " - 1s - loss: 0.0263 - accuracy: 0.9973 - val_loss: 0.1061 - val_accuracy: 0.9725\n",
      "Epoch 44/100\n",
      " - 1s - loss: 0.0247 - accuracy: 0.9975 - val_loss: 0.1058 - val_accuracy: 0.9727\n",
      "Epoch 45/100\n",
      " - 1s - loss: 0.0226 - accuracy: 0.9978 - val_loss: 0.1081 - val_accuracy: 0.9732\n",
      "Epoch 46/100\n",
      " - 1s - loss: 0.0215 - accuracy: 0.9979 - val_loss: 0.1044 - val_accuracy: 0.9725\n",
      "Epoch 47/100\n",
      " - 1s - loss: 0.0209 - accuracy: 0.9981 - val_loss: 0.1109 - val_accuracy: 0.9725\n",
      "Epoch 48/100\n",
      " - 1s - loss: 0.0195 - accuracy: 0.9983 - val_loss: 0.0983 - val_accuracy: 0.9742\n",
      "Epoch 49/100\n",
      " - 1s - loss: 0.0181 - accuracy: 0.9987 - val_loss: 0.1087 - val_accuracy: 0.9719\n",
      "Epoch 50/100\n",
      " - 1s - loss: 0.0181 - accuracy: 0.9984 - val_loss: 0.1050 - val_accuracy: 0.9734\n",
      "Epoch 51/100\n",
      " - 1s - loss: 0.0172 - accuracy: 0.9987 - val_loss: 0.1028 - val_accuracy: 0.9732\n",
      "Epoch 52/100\n",
      " - 1s - loss: 0.0159 - accuracy: 0.9988 - val_loss: 0.1052 - val_accuracy: 0.9732\n",
      "Epoch 53/100\n",
      " - 1s - loss: 0.0150 - accuracy: 0.9989 - val_loss: 0.1009 - val_accuracy: 0.9749\n",
      "Epoch 54/100\n",
      " - 1s - loss: 0.0137 - accuracy: 0.9994 - val_loss: 0.1057 - val_accuracy: 0.9749\n",
      "Epoch 55/100\n",
      " - 1s - loss: 0.0132 - accuracy: 0.9994 - val_loss: 0.1038 - val_accuracy: 0.9738\n",
      "Epoch 56/100\n",
      " - 1s - loss: 0.0126 - accuracy: 0.9993 - val_loss: 0.1035 - val_accuracy: 0.9738\n",
      "Epoch 57/100\n",
      " - 1s - loss: 0.0120 - accuracy: 0.9995 - val_loss: 0.0997 - val_accuracy: 0.9759\n",
      "Epoch 58/100\n",
      " - 1s - loss: 0.0116 - accuracy: 0.9995 - val_loss: 0.1017 - val_accuracy: 0.9751\n",
      "Epoch 59/100\n",
      " - 1s - loss: 0.0115 - accuracy: 0.9996 - val_loss: 0.1103 - val_accuracy: 0.9734\n",
      "Epoch 60/100\n",
      " - 1s - loss: 0.0103 - accuracy: 0.9997 - val_loss: 0.1041 - val_accuracy: 0.9755\n",
      "Epoch 61/100\n",
      " - 1s - loss: 0.0099 - accuracy: 0.9996 - val_loss: 0.1121 - val_accuracy: 0.9734\n",
      "Epoch 62/100\n",
      " - 1s - loss: 0.0094 - accuracy: 0.9998 - val_loss: 0.1076 - val_accuracy: 0.9755\n",
      "Epoch 63/100\n",
      " - 1s - loss: 0.0089 - accuracy: 0.9998 - val_loss: 0.1161 - val_accuracy: 0.9719\n",
      "Epoch 64/100\n",
      " - 1s - loss: 0.0087 - accuracy: 0.9998 - val_loss: 0.1053 - val_accuracy: 0.9744\n",
      "Epoch 65/100\n",
      " - 1s - loss: 0.0081 - accuracy: 0.9999 - val_loss: 0.1071 - val_accuracy: 0.9746\n",
      "Epoch 66/100\n",
      " - 1s - loss: 0.0078 - accuracy: 0.9999 - val_loss: 0.1129 - val_accuracy: 0.9734\n",
      "Epoch 67/100\n",
      " - 1s - loss: 0.0074 - accuracy: 0.9999 - val_loss: 0.1036 - val_accuracy: 0.9755\n",
      "Epoch 68/100\n",
      " - 1s - loss: 0.0070 - accuracy: 1.0000 - val_loss: 0.1080 - val_accuracy: 0.9757\n",
      "Epoch 69/100\n",
      " - 1s - loss: 0.0066 - accuracy: 1.0000 - val_loss: 0.1015 - val_accuracy: 0.9759\n",
      "Epoch 70/100\n",
      " - 1s - loss: 0.0066 - accuracy: 1.0000 - val_loss: 0.1028 - val_accuracy: 0.9746\n",
      "Epoch 71/100\n",
      " - 1s - loss: 0.0065 - accuracy: 1.0000 - val_loss: 0.1045 - val_accuracy: 0.9759\n",
      "Epoch 72/100\n",
      " - 1s - loss: 0.0059 - accuracy: 1.0000 - val_loss: 0.1031 - val_accuracy: 0.9766\n",
      "Epoch 73/100\n",
      " - 1s - loss: 0.0057 - accuracy: 1.0000 - val_loss: 0.1076 - val_accuracy: 0.9749\n",
      "Epoch 74/100\n",
      " - 1s - loss: 0.0054 - accuracy: 1.0000 - val_loss: 0.1084 - val_accuracy: 0.9759\n",
      "Epoch 75/100\n",
      " - 1s - loss: 0.0052 - accuracy: 1.0000 - val_loss: 0.1123 - val_accuracy: 0.9725\n",
      "Epoch 76/100\n",
      " - 1s - loss: 0.0049 - accuracy: 1.0000 - val_loss: 0.1048 - val_accuracy: 0.9759\n",
      "Epoch 77/100\n",
      " - 1s - loss: 0.0047 - accuracy: 1.0000 - val_loss: 0.1071 - val_accuracy: 0.9755\n",
      "Epoch 78/100\n",
      " - 1s - loss: 0.0047 - accuracy: 1.0000 - val_loss: 0.1091 - val_accuracy: 0.9755\n",
      "Epoch 79/100\n",
      " - 1s - loss: 0.0045 - accuracy: 1.0000 - val_loss: 0.1119 - val_accuracy: 0.9751\n",
      "Epoch 80/100\n",
      " - 1s - loss: 0.0043 - accuracy: 1.0000 - val_loss: 0.1068 - val_accuracy: 0.9766\n",
      "Epoch 81/100\n",
      " - 1s - loss: 0.0041 - accuracy: 1.0000 - val_loss: 0.1104 - val_accuracy: 0.9757\n",
      "Epoch 82/100\n",
      " - 1s - loss: 0.0039 - accuracy: 1.0000 - val_loss: 0.1092 - val_accuracy: 0.9757\n",
      "Epoch 83/100\n",
      " - 1s - loss: 0.0038 - accuracy: 1.0000 - val_loss: 0.1075 - val_accuracy: 0.9759\n",
      "Epoch 84/100\n",
      " - 1s - loss: 0.0036 - accuracy: 1.0000 - val_loss: 0.1126 - val_accuracy: 0.9751\n",
      "Epoch 85/100\n",
      " - 1s - loss: 0.0034 - accuracy: 1.0000 - val_loss: 0.1149 - val_accuracy: 0.9749\n",
      "Epoch 86/100\n",
      " - 1s - loss: 0.0034 - accuracy: 1.0000 - val_loss: 0.1088 - val_accuracy: 0.9761\n",
      "Epoch 87/100\n",
      " - 1s - loss: 0.0032 - accuracy: 1.0000 - val_loss: 0.1121 - val_accuracy: 0.9755\n",
      "Epoch 88/100\n",
      " - 1s - loss: 0.0030 - accuracy: 1.0000 - val_loss: 0.1155 - val_accuracy: 0.9749\n",
      "Epoch 89/100\n",
      " - 1s - loss: 0.0030 - accuracy: 1.0000 - val_loss: 0.1146 - val_accuracy: 0.9757\n",
      "Epoch 90/100\n",
      " - 1s - loss: 0.0029 - accuracy: 1.0000 - val_loss: 0.1162 - val_accuracy: 0.9755\n",
      "Epoch 91/100\n",
      " - 1s - loss: 0.0027 - accuracy: 1.0000 - val_loss: 0.1153 - val_accuracy: 0.9746\n",
      "Epoch 92/100\n",
      " - 1s - loss: 0.0027 - accuracy: 1.0000 - val_loss: 0.1128 - val_accuracy: 0.9759\n",
      "Epoch 93/100\n",
      " - 1s - loss: 0.0028 - accuracy: 1.0000 - val_loss: 0.1188 - val_accuracy: 0.9744\n",
      "Epoch 94/100\n",
      " - 1s - loss: 0.0025 - accuracy: 1.0000 - val_loss: 0.1169 - val_accuracy: 0.9746\n",
      "Epoch 95/100\n",
      " - 1s - loss: 0.0023 - accuracy: 1.0000 - val_loss: 0.1162 - val_accuracy: 0.9746\n",
      "Epoch 96/100\n",
      " - 1s - loss: 0.0023 - accuracy: 1.0000 - val_loss: 0.1173 - val_accuracy: 0.9755\n",
      "Epoch 97/100\n",
      " - 1s - loss: 0.0022 - accuracy: 1.0000 - val_loss: 0.1148 - val_accuracy: 0.9757\n",
      "Epoch 98/100\n",
      " - 1s - loss: 0.0021 - accuracy: 1.0000 - val_loss: 0.1180 - val_accuracy: 0.9742\n",
      "Epoch 99/100\n",
      " - 1s - loss: 0.0020 - accuracy: 1.0000 - val_loss: 0.1153 - val_accuracy: 0.9746\n",
      "Epoch 100/100\n",
      " - 1s - loss: 0.0020 - accuracy: 1.0000 - val_loss: 0.1168 - val_accuracy: 0.9757\n"
     ]
    }
   ],
   "source": [
    "history = model.fit(X_train,\n",
    "                    y_train,\n",
    "                    epochs=epochs,\n",
    "                    batch_size=batch_size,\n",
    "                    verbose=2,\n",
    "                    validation_data= (X_test,y_test))"
   ]
  },
  {
   "cell_type": "code",
   "execution_count": 156,
   "id": "67ad7463",
   "metadata": {},
   "outputs": [
    {
     "name": "stdout",
     "output_type": "stream",
     "text": [
      "Model: \"sequential_18\"\n",
      "_________________________________________________________________\n",
      "Layer (type)                 Output Shape              Param #   \n",
      "=================================================================\n",
      "dense_38 (Dense)             (None, 512)               30208     \n",
      "_________________________________________________________________\n",
      "dense_39 (Dense)             (None, 7)                 3591      \n",
      "=================================================================\n",
      "Total params: 33,799\n",
      "Trainable params: 33,799\n",
      "Non-trainable params: 0\n",
      "_________________________________________________________________\n",
      "None\n",
      "train samples: 42241\n",
      "test samples: 4694\n",
      "Test loss: 0.11675094687834249\n",
      "Test accuracy: 0.9757136702537537\n"
     ]
    }
   ],
   "source": [
    "# Print model fitting summury \n",
    "score = model.evaluate(X_test, y_test, verbose=0)    \n",
    "prediction_bl = model.predict_classes(X_test)\n",
    "\n",
    "print(model.summary())\n",
    "print('train samples:', X_train.shape[0])\n",
    "print('test samples:', X_test.shape[0])\n",
    "print('Test loss:', score[0])\n",
    "print('Test accuracy:', score[1])"
   ]
  },
  {
   "cell_type": "code",
   "execution_count": 157,
   "id": "9da67f06",
   "metadata": {},
   "outputs": [
    {
     "name": "stdout",
     "output_type": "stream",
     "text": [
      "              precision    recall  f1-score   support\n",
      "\n",
      "           0       0.99      1.00      0.99       665\n",
      "           1       0.98      1.00      0.99       676\n",
      "           2       0.96      0.99      0.97       670\n",
      "           3       1.00      1.00      1.00       621\n",
      "           4       0.99      0.86      0.92       695\n",
      "           5       0.99      1.00      1.00       705\n",
      "           6       0.93      0.99      0.96       662\n",
      "\n",
      "    accuracy                           0.98      4694\n",
      "   macro avg       0.98      0.98      0.98      4694\n",
      "weighted avg       0.98      0.98      0.98      4694\n",
      "\n"
     ]
    }
   ],
   "source": [
    "print(classification_report(y_test.astype(int), prediction_bl))"
   ]
  },
  {
   "cell_type": "code",
   "execution_count": 158,
   "id": "d0582cfa",
   "metadata": {},
   "outputs": [
    {
     "data": {
      "text/plain": [
       "Text(0.5, 15.0, 'Predicted Class')"
      ]
     },
     "execution_count": 158,
     "metadata": {},
     "output_type": "execute_result"
    },
    {
     "data": {
      "image/png": "[encoded data removed]",
      "text/plain": [
       "<Figure size 432x288 with 2 Axes>"
      ]
     },
     "metadata": {
      "needs_background": "light"
     },
     "output_type": "display_data"
    }
   ],
   "source": [
    "cm = confusion_matrix(y_test,prediction_bl)\n",
    "#plt.figure(figsize=(10, 10))\n",
    "sns.heatmap(cm, annot=True, fmt='g', vmin=0, cbar=True, cmap='twilight')\n",
    "plt.ylabel('True Class')\n",
    "plt.xlabel('Predicted Class')"
   ]
  },
  {
   "cell_type": "code",
   "execution_count": 159,
   "id": "5c492be2",
   "metadata": {},
   "outputs": [
    {
     "name": "stdout",
     "output_type": "stream",
     "text": [
      "Class: {0: 'nv', 1: 'mel', 2: 'bkl', 3: 'bcc', 4: 'akiec', 5: 'vasc', 6: 'df'}\n",
      "Specificity: [0.9982626  0.99701344 0.99254473 0.99975448 0.99849962 0.99874655\n",
      " 0.98685516]\n",
      "Specificity Mean: 0.9959537978134472\n",
      "Class: {0: 'nv', 1: 'mel', 2: 'bkl', 3: 'bcc', 4: 'akiec', 5: 'vasc', 6: 'df'}\n",
      "Recall/Sensitivity: [1.         1.         0.98507463 1.         0.85899281 1.\n",
      " 0.99093656]\n",
      "Recall/Sensitivity Mean: 0.9764291412160436\n",
      "Class: {0: 'nv', 1: 'mel', 2: 'bkl', 3: 'bcc', 4: 'akiec', 5: 'vasc', 6: 'df'}\n",
      "Precision: [0.98958333 0.98255814 0.95652174 0.99839228 0.99004975 0.99295775\n",
      " 0.92524683]\n",
      "Precision Mean: 0.9764728313136751\n"
     ]
    }
   ],
   "source": [
    "#Performance metrics from confusion matrix \n",
    "\n",
    "FP = cm.sum(axis=0) - np.diag(cm) \n",
    "FN = cm.sum(axis=1) - np.diag(cm)\n",
    "TP = np.diag(cm)\n",
    "TN = cm.sum() - (FP + FN + TP)\n",
    "\n",
    "FP = FP.astype(float)\n",
    "FN = FN.astype(float)\n",
    "TP = TP.astype(float)\n",
    "TN = TN.astype(float)\n",
    "\n",
    "# Sensitivity, hit rate, Recall, or true positive rate\n",
    "TPR = TP/(TP+FN)\n",
    "\n",
    "# Specificity or true negative rate\n",
    "TNR = TN/(TN+FP) \n",
    "\n",
    "# Precision or positive predictive value\n",
    "PPV = TP/(TP+FP)\n",
    "\n",
    "# Negative predictive value\n",
    "NPV = TN/(TN+FN)\n",
    "\n",
    "# Fall out or false positive rate\n",
    "FPR = FP/(FP+TN)\n",
    "\n",
    "# False negative rate\n",
    "FNR = FN/(TP+FN)\n",
    "\n",
    "# False discovery rate\n",
    "FDR = FP/(TP+FP)\n",
    "\n",
    "\n",
    "print('Class:',class_label)\n",
    "\n",
    "print('Specificity:',TNR)\n",
    "print('Specificity Mean:',TNR.mean())\n",
    "\n",
    "print('Class:',class_label)\n",
    "\n",
    "print('Recall/Sensitivity:',TPR)\n",
    "print('Recall/Sensitivity Mean:',TPR.mean())\n",
    "\n",
    "print('Class:',class_label)\n",
    "\n",
    "print('Precision:',PPV)\n",
    "print('Precision Mean:',PPV.mean())"
   ]
  },
  {
   "cell_type": "markdown",
   "id": "2b136a06",
   "metadata": {},
   "source": [
    "## Visualize training and test histories"
   ]
  },
  {
   "cell_type": "code",
   "execution_count": 160,
   "id": "b08b9490",
   "metadata": {},
   "outputs": [
    {
     "data": {
      "image/png": "[encoded data removed]",
      "text/plain": [
       "<Figure size 432x288 with 1 Axes>"
      ]
     },
     "metadata": {
      "needs_background": "light"
     },
     "output_type": "display_data"
    },
    {
     "data": {
      "image/png": "[encoded data removed]",
      "text/plain": [
       "<Figure size 432x288 with 1 Axes>"
      ]
     },
     "metadata": {
      "needs_background": "light"
     },
     "output_type": "display_data"
    }
   ],
   "source": [
    "#Get training and test accuracy histories\n",
    "training_accuracy = history.history['accuracy']\n",
    "test_accuracy = history.history['val_accuracy']\n",
    "\n",
    "#Epoch count\n",
    "epoch_count = range(1,len(training_accuracy) + 1)\n",
    "\n",
    "#plt.figure(figsize=(8, 6))\n",
    "plt.plot(epoch_count, training_accuracy, \"r--\")\n",
    "plt.plot(epoch_count,test_accuracy, \"b-\")\n",
    "plt.legend(['Training Accuracy','Test Accuracy'])\n",
    "plt.xlabel('Epoch')\n",
    "plt.ylabel('Accuracy')\n",
    "plt.show()\n",
    "\n",
    "#Get training and test loss histories\n",
    "training_loss = history.history['loss']\n",
    "test_loss = history.history['val_loss']\n",
    "\n",
    "\n",
    "#Epoch count\n",
    "epoch_count = range(1,len(training_loss) + 1)\n",
    "\n",
    "#Visualize loss history\n",
    "#plt.figure(figsize=(8, 6))\n",
    "plt.plot(epoch_count, training_loss, \"r--\")\n",
    "plt.plot(epoch_count,test_loss, \"b-\")\n",
    "plt.legend(['Training Loss','Test Loss'])\n",
    "plt.xlabel('Epoch')\n",
    "plt.ylabel('Loss')\n",
    "plt.show()"
   ]
  },
  {
   "cell_type": "markdown",
   "id": "354cc6bc",
   "metadata": {},
   "source": [
    "### ROC scores for multi-class classification model (Balanced data)"
   ]
  },
  {
   "cell_type": "code",
   "execution_count": 161,
   "id": "abc099e8",
   "metadata": {},
   "outputs": [
    {
     "name": "stdout",
     "output_type": "stream",
     "text": [
      "One-vs-One ROC AUC scores:\n",
      "0.997030 (macro),\n",
      "0.996990 (weighted by prevalence)\n",
      "One-vs-Rest ROC AUC scores:\n",
      "0.997011 (macro),\n",
      "0.996937 (weighted by prevalence)\n"
     ]
    }
   ],
   "source": [
    "from itertools import cycle\n",
    "from sklearn.metrics import roc_curve, auc\n",
    "from sklearn.multiclass import OneVsRestClassifier\n",
    "from scipy import interp\n",
    "from sklearn.metrics import roc_auc_score\n",
    "\n",
    "\n",
    "#y_prob = classifier.predict_proba(X_test)\n",
    "\n",
    "prediction_cplx = model.predict_proba(X_test)\n",
    "\n",
    "macro_roc_auc_ovo = roc_auc_score(y_test, prediction_cplx, multi_class=\"ovo\",\n",
    "                                  average=\"macro\")\n",
    "weighted_roc_auc_ovo = roc_auc_score(y_test, prediction_cplx, multi_class=\"ovo\",\n",
    "                                     average=\"weighted\")\n",
    "macro_roc_auc_ovr = roc_auc_score(y_test, prediction_cplx, multi_class=\"ovr\",\n",
    "                                  average=\"macro\")\n",
    "weighted_roc_auc_ovr = roc_auc_score(y_test, prediction_cplx, multi_class=\"ovr\",\n",
    "                                     average=\"weighted\")\n",
    "print(\"One-vs-One ROC AUC scores:\\n{:.6f} (macro),\\n{:.6f} \"\n",
    "      \"(weighted by prevalence)\"\n",
    "      .format(macro_roc_auc_ovo, weighted_roc_auc_ovo))\n",
    "print(\"One-vs-Rest ROC AUC scores:\\n{:.6f} (macro),\\n{:.6f} \"\n",
    "      \"(weighted by prevalence)\"\n",
    "      .format(macro_roc_auc_ovr, weighted_roc_auc_ovr))"
   ]
  },
  {
   "cell_type": "markdown",
   "id": "f91e15de",
   "metadata": {},
   "source": [
    "### ROC plot"
   ]
  },
  {
   "cell_type": "code",
   "execution_count": 162,
   "id": "07d019ef",
   "metadata": {},
   "outputs": [
    {
     "data": {
      "image/png": "[encoded data removed]",
      "text/plain": [
       "<Figure size 576x432 with 1 Axes>"
      ]
     },
     "metadata": {
      "needs_background": "light"
     },
     "output_type": "display_data"
    }
   ],
   "source": [
    "#ROC for multi-class classification model, balanced data (SMOTE)\n",
    "from sklearn.multiclass import OneVsRestClassifier\n",
    "from sklearn.metrics import roc_curve\n",
    "from sklearn.metrics import roc_auc_score\n",
    "\n",
    "prediction_cplx = model.predict_proba(X_test)\n",
    "\n",
    "# roc curve for classes\n",
    "fpr = {}\n",
    "tpr = {}\n",
    "thresh ={}\n",
    "\n",
    "n_class = 7\n",
    "\n",
    "for i in range(n_class):    \n",
    "    fpr[i], tpr[i], thresh[i] = roc_curve(y_test, prediction_cplx[:,i], pos_label=i)\n",
    "    \n",
    "# plotting\n",
    "plt.figure(figsize=(8, 6))\n",
    "plt.plot(fpr[0], tpr[0], linestyle='--',color='orange', label='Class 0 vs Rest')\n",
    "plt.plot(fpr[1], tpr[1], linestyle='--',color='green', label='Class 1 vs Rest')\n",
    "plt.plot(fpr[2], tpr[2], linestyle='--',color='blue', label='Class 2 vs Rest')\n",
    "plt.plot(fpr[3], tpr[3], linestyle='--',color='red', label='Class 3 vs Rest')\n",
    "plt.plot(fpr[4], tpr[4], linestyle='--',color='black', label='Class 4 vs Rest')\n",
    "plt.plot(fpr[5], tpr[5], linestyle='--',color='purple', label='Class 5 vs Rest')\n",
    "plt.plot(fpr[6], tpr[6], linestyle='--',color='yellow', label='Class 6 vs Rest')\n",
    "plt.title('Multiclass Receiver Operating Characteristic')\n",
    "plt.xlabel('False Positive Rate')\n",
    "plt.ylabel('True Positive rate')\n",
    "plt.legend(loc='best')\n",
    "plt.savefig('Multiclass ROC',dpi=300);"
   ]
  },
  {
   "cell_type": "markdown",
   "id": "58b9af1d",
   "metadata": {},
   "source": [
    "## Increased model complexity (Imbalanced data)\n",
    "#### Added an extra layer with 64 units, Dropout of .20 and Early Stopping"
   ]
  },
  {
   "cell_type": "code",
   "execution_count": 76,
   "id": "001d4a35",
   "metadata": {},
   "outputs": [
    {
     "data": {
      "text/plain": [
       "(42241, 59)"
      ]
     },
     "execution_count": 76,
     "metadata": {},
     "output_type": "execute_result"
    }
   ],
   "source": [
    "X_train.shape"
   ]
  },
  {
   "cell_type": "code",
   "execution_count": 78,
   "id": "38f2916e",
   "metadata": {},
   "outputs": [
    {
     "data": {
      "text/plain": [
       "(4694, 59)"
      ]
     },
     "execution_count": 78,
     "metadata": {},
     "output_type": "execute_result"
    }
   ],
   "source": [
    "X_test.shape"
   ]
  },
  {
   "cell_type": "code",
   "execution_count": 79,
   "id": "b9a42afd",
   "metadata": {},
   "outputs": [
    {
     "data": {
      "text/plain": [
       "(42241,)"
      ]
     },
     "execution_count": 79,
     "metadata": {},
     "output_type": "execute_result"
    }
   ],
   "source": [
    "y_train.shape"
   ]
  },
  {
   "cell_type": "code",
   "execution_count": 80,
   "id": "1eac0d2d",
   "metadata": {},
   "outputs": [
    {
     "data": {
      "text/plain": [
       "(4694,)"
      ]
     },
     "execution_count": 80,
     "metadata": {},
     "output_type": "execute_result"
    }
   ],
   "source": [
    "y_test.shape"
   ]
  },
  {
   "cell_type": "code",
   "execution_count": 82,
   "id": "e3a593ed",
   "metadata": {},
   "outputs": [
    {
     "data": {
      "text/plain": [
       "59"
      ]
     },
     "execution_count": 82,
     "metadata": {},
     "output_type": "execute_result"
    }
   ],
   "source": [
    "n_cols = X_train.shape[1]\n",
    "n_cols"
   ]
  },
  {
   "cell_type": "code",
   "execution_count": 46,
   "id": "fbc19767",
   "metadata": {
    "scrolled": true
   },
   "outputs": [
    {
     "name": "stdout",
     "output_type": "stream",
     "text": [
      "Model: \"sequential_19\"\n",
      "_________________________________________________________________\n",
      "Layer (type)                 Output Shape              Param #   \n",
      "=================================================================\n",
      "dense_55 (Dense)             (None, 512)               31744     \n",
      "_________________________________________________________________\n",
      "dense_56 (Dense)             (None, 64)                32832     \n",
      "_________________________________________________________________\n",
      "dropout_19 (Dropout)         (None, 64)                0         \n",
      "_________________________________________________________________\n",
      "dense_57 (Dense)             (None, 7)                 455       \n",
      "=================================================================\n",
      "Total params: 65,031\n",
      "Trainable params: 65,031\n",
      "Non-trainable params: 0\n",
      "_________________________________________________________________\n"
     ]
    }
   ],
   "source": [
    "batch_size = 850\n",
    "num_classes = 7 \n",
    "epochs = 100\n",
    "es = EarlyStopping(monitor='val_loss', mode='auto', patience=10,restore_best_weights=True,\n",
    " verbose=1)\n",
    "\n",
    "def create_cplx():\n",
    "    \n",
    "    #Create model\n",
    "    model = Sequential()\n",
    "    model.add(Dense(512, activation='relu', input_shape=(n_cols,))) \n",
    "    model.add(Dense(64, activation='relu'))\n",
    "    model.add(Dropout(0.20)) \n",
    "    model.add(Dense(7, activation='softmax'))\n",
    "\n",
    "    model.compile(loss='sparse_categorical_crossentropy', optimizer='adam', metrics=['accuracy'])    \n",
    "    return model\n",
    "   \n",
    "\n",
    "model = create_cplx()\n",
    "model.summary()"
   ]
  },
  {
   "cell_type": "code",
   "execution_count": 47,
   "id": "5b3fae8a",
   "metadata": {},
   "outputs": [],
   "source": [
    "#evaluate model with standardized dataset\n",
    "estimator = KerasClassifier(build_fn=create_cplx, \n",
    "                           epochs=epochs, batch_size=batch_size, \n",
    "                           verbose=0)\n",
    "\n",
    "kfold = StratifiedKFold(n_splits=4, shuffle=True)\n",
    "\n",
    "results = cross_val_score(estimator, X_train, y_train, cv=kfold)"
   ]
  },
  {
   "cell_type": "code",
   "execution_count": 48,
   "id": "df8e3af1",
   "metadata": {},
   "outputs": [
    {
     "name": "stdout",
     "output_type": "stream",
     "text": [
      "Larger: 73.60% (0.62%)\n"
     ]
    }
   ],
   "source": [
    "print(\"Larger: %.2f%% (%.2f%%)\" % (results.mean()*100, results.std()*100))"
   ]
  },
  {
   "cell_type": "code",
   "execution_count": 49,
   "id": "6b45fde6",
   "metadata": {
    "scrolled": true
   },
   "outputs": [
    {
     "name": "stdout",
     "output_type": "stream",
     "text": [
      "Train on 9013 samples, validate on 1002 samples\n",
      "Epoch 1/100\n",
      "9013/9013 [==============================] - 1s 75us/step - loss: 1.9160 - accuracy: 0.5474 - val_loss: 1.1311 - val_accuracy: 0.5908\n",
      "Epoch 2/100\n",
      "9013/9013 [==============================] - 0s 21us/step - loss: 1.0412 - accuracy: 0.6401 - val_loss: 0.9110 - val_accuracy: 0.6976\n",
      "Epoch 3/100\n",
      "9013/9013 [==============================] - 0s 21us/step - loss: 0.8856 - accuracy: 0.6978 - val_loss: 0.8415 - val_accuracy: 0.7066\n",
      "Epoch 4/100\n",
      "9013/9013 [==============================] - 0s 20us/step - loss: 0.8260 - accuracy: 0.7071 - val_loss: 0.8079 - val_accuracy: 0.7196\n",
      "Epoch 5/100\n",
      "9013/9013 [==============================] - 0s 20us/step - loss: 0.7757 - accuracy: 0.7227 - val_loss: 0.7933 - val_accuracy: 0.7206\n",
      "Epoch 6/100\n",
      "9013/9013 [==============================] - 0s 20us/step - loss: 0.7442 - accuracy: 0.7293 - val_loss: 0.7848 - val_accuracy: 0.7156\n",
      "Epoch 7/100\n",
      "9013/9013 [==============================] - 0s 22us/step - loss: 0.7165 - accuracy: 0.7379 - val_loss: 0.7768 - val_accuracy: 0.7186\n",
      "Epoch 8/100\n",
      "9013/9013 [==============================] - 0s 21us/step - loss: 0.6953 - accuracy: 0.7414 - val_loss: 0.7692 - val_accuracy: 0.7275\n",
      "Epoch 9/100\n",
      "9013/9013 [==============================] - 0s 20us/step - loss: 0.6720 - accuracy: 0.7547 - val_loss: 0.7569 - val_accuracy: 0.7285\n",
      "Epoch 10/100\n",
      "9013/9013 [==============================] - 0s 19us/step - loss: 0.6571 - accuracy: 0.7607 - val_loss: 0.7604 - val_accuracy: 0.7285\n",
      "Epoch 11/100\n",
      "9013/9013 [==============================] - 0s 20us/step - loss: 0.6354 - accuracy: 0.7669 - val_loss: 0.7560 - val_accuracy: 0.7255\n",
      "Epoch 12/100\n",
      "9013/9013 [==============================] - 0s 20us/step - loss: 0.6171 - accuracy: 0.7742 - val_loss: 0.7548 - val_accuracy: 0.7305\n",
      "Epoch 13/100\n",
      "9013/9013 [==============================] - 0s 19us/step - loss: 0.6062 - accuracy: 0.7771 - val_loss: 0.7490 - val_accuracy: 0.7246\n",
      "Epoch 14/100\n",
      "9013/9013 [==============================] - 0s 19us/step - loss: 0.5908 - accuracy: 0.7850 - val_loss: 0.7445 - val_accuracy: 0.7295\n",
      "Epoch 15/100\n",
      "9013/9013 [==============================] - 0s 20us/step - loss: 0.5777 - accuracy: 0.7864 - val_loss: 0.7478 - val_accuracy: 0.7255\n",
      "Epoch 16/100\n",
      "9013/9013 [==============================] - 0s 20us/step - loss: 0.5628 - accuracy: 0.7951 - val_loss: 0.7465 - val_accuracy: 0.7246\n",
      "Epoch 17/100\n",
      "9013/9013 [==============================] - 0s 18us/step - loss: 0.5474 - accuracy: 0.8006 - val_loss: 0.7437 - val_accuracy: 0.7325\n",
      "Epoch 18/100\n",
      "9013/9013 [==============================] - 0s 18us/step - loss: 0.5352 - accuracy: 0.8053 - val_loss: 0.7436 - val_accuracy: 0.7325\n",
      "Epoch 19/100\n",
      "9013/9013 [==============================] - 0s 18us/step - loss: 0.5226 - accuracy: 0.8115 - val_loss: 0.7467 - val_accuracy: 0.7345\n",
      "Epoch 20/100\n",
      "9013/9013 [==============================] - 0s 18us/step - loss: 0.5138 - accuracy: 0.8187 - val_loss: 0.7523 - val_accuracy: 0.7325\n",
      "Epoch 21/100\n",
      "9013/9013 [==============================] - 0s 19us/step - loss: 0.5046 - accuracy: 0.8173 - val_loss: 0.7390 - val_accuracy: 0.7335\n",
      "Epoch 22/100\n",
      "9013/9013 [==============================] - ETA: 0s - loss: 0.4844 - accuracy: 0.82 - 0s 19us/step - loss: 0.4896 - accuracy: 0.8213 - val_loss: 0.7542 - val_accuracy: 0.7365\n",
      "Epoch 23/100\n",
      "9013/9013 [==============================] - 0s 19us/step - loss: 0.4814 - accuracy: 0.8289 - val_loss: 0.7472 - val_accuracy: 0.7335\n",
      "Epoch 24/100\n",
      "9013/9013 [==============================] - 0s 19us/step - loss: 0.4737 - accuracy: 0.8311 - val_loss: 0.7476 - val_accuracy: 0.7345\n",
      "Epoch 25/100\n",
      "9013/9013 [==============================] - 0s 19us/step - loss: 0.4571 - accuracy: 0.8360 - val_loss: 0.7512 - val_accuracy: 0.7365\n",
      "Epoch 26/100\n",
      "9013/9013 [==============================] - 0s 21us/step - loss: 0.4447 - accuracy: 0.8417 - val_loss: 0.7563 - val_accuracy: 0.7445\n",
      "Epoch 27/100\n",
      "9013/9013 [==============================] - 0s 20us/step - loss: 0.4432 - accuracy: 0.8423 - val_loss: 0.7594 - val_accuracy: 0.7445\n",
      "Epoch 28/100\n",
      "9013/9013 [==============================] - 0s 22us/step - loss: 0.4349 - accuracy: 0.8460 - val_loss: 0.7574 - val_accuracy: 0.7375\n",
      "Epoch 29/100\n",
      "9013/9013 [==============================] - 0s 19us/step - loss: 0.4302 - accuracy: 0.8460 - val_loss: 0.7552 - val_accuracy: 0.7485\n",
      "Epoch 30/100\n",
      "9013/9013 [==============================] - 0s 20us/step - loss: 0.4152 - accuracy: 0.8544 - val_loss: 0.7591 - val_accuracy: 0.7455\n",
      "Epoch 31/100\n",
      "9013/9013 [==============================] - 0s 19us/step - loss: 0.4017 - accuracy: 0.8610 - val_loss: 0.7596 - val_accuracy: 0.7435\n",
      "Restoring model weights from the end of the best epoch\n",
      "Epoch 00031: early stopping\n"
     ]
    }
   ],
   "source": [
    "history = model.fit(X_train, y_train, \n",
    "                  batch_size=batch_size,\n",
    "                  epochs=epochs,\n",
    "                  callbacks=[es],\n",
    "                  verbose=1,\n",
    "                  validation_data=(X_test, y_test))"
   ]
  },
  {
   "cell_type": "code",
   "execution_count": 50,
   "id": "822440a0",
   "metadata": {},
   "outputs": [
    {
     "name": "stdout",
     "output_type": "stream",
     "text": [
      "Model: \"sequential_19\"\n",
      "_________________________________________________________________\n",
      "Layer (type)                 Output Shape              Param #   \n",
      "=================================================================\n",
      "dense_55 (Dense)             (None, 512)               31744     \n",
      "_________________________________________________________________\n",
      "dense_56 (Dense)             (None, 64)                32832     \n",
      "_________________________________________________________________\n",
      "dropout_19 (Dropout)         (None, 64)                0         \n",
      "_________________________________________________________________\n",
      "dense_57 (Dense)             (None, 7)                 455       \n",
      "=================================================================\n",
      "Total params: 65,031\n",
      "Trainable params: 65,031\n",
      "Non-trainable params: 0\n",
      "_________________________________________________________________\n",
      "None\n",
      "train samples: 9013\n",
      "test samples: 1002\n",
      "Test loss: 0.7389598348421489\n",
      "Test accuracy: 0.7335329055786133\n"
     ]
    }
   ],
   "source": [
    "# Print model fitting summury \n",
    "score = model.evaluate(X_test, y_test, verbose=0)\n",
    "prediction_cplx = model.predict_classes(X_test)\n",
    "\n",
    "print(model.summary())\n",
    "print('train samples:', X_train.shape[0])\n",
    "print('test samples:', X_test.shape[0])\n",
    "print('Test loss:', score[0])\n",
    "print('Test accuracy:', score[1])"
   ]
  },
  {
   "cell_type": "code",
   "execution_count": 51,
   "id": "0052aba5",
   "metadata": {},
   "outputs": [
    {
     "name": "stdout",
     "output_type": "stream",
     "text": [
      "              precision    recall  f1-score   support\n",
      "\n",
      "           0       0.47      0.25      0.33        28\n",
      "           1       0.45      0.53      0.48        57\n",
      "           2       0.48      0.39      0.43       108\n",
      "           3       0.00      0.00      0.00        15\n",
      "           4       0.82      0.92      0.87       678\n",
      "           5       0.50      0.29      0.36        14\n",
      "           6       0.46      0.26      0.34       102\n",
      "\n",
      "    accuracy                           0.73      1002\n",
      "   macro avg       0.45      0.38      0.40      1002\n",
      "weighted avg       0.70      0.73      0.71      1002\n",
      "\n"
     ]
    },
    {
     "name": "stderr",
     "output_type": "stream",
     "text": [
      "C:\\Users\\celie\\Anaconda3\\lib\\site-packages\\sklearn\\metrics\\_classification.py:1245: UndefinedMetricWarning: Precision and F-score are ill-defined and being set to 0.0 in labels with no predicted samples. Use `zero_division` parameter to control this behavior.\n",
      "  _warn_prf(average, modifier, msg_start, len(result))\n",
      "C:\\Users\\celie\\Anaconda3\\lib\\site-packages\\sklearn\\metrics\\_classification.py:1245: UndefinedMetricWarning: Precision and F-score are ill-defined and being set to 0.0 in labels with no predicted samples. Use `zero_division` parameter to control this behavior.\n",
      "  _warn_prf(average, modifier, msg_start, len(result))\n",
      "C:\\Users\\celie\\Anaconda3\\lib\\site-packages\\sklearn\\metrics\\_classification.py:1245: UndefinedMetricWarning: Precision and F-score are ill-defined and being set to 0.0 in labels with no predicted samples. Use `zero_division` parameter to control this behavior.\n",
      "  _warn_prf(average, modifier, msg_start, len(result))\n"
     ]
    }
   ],
   "source": [
    "print(classification_report(y_test.astype(int), prediction_cplx))"
   ]
  },
  {
   "cell_type": "code",
   "execution_count": 52,
   "id": "d57897bb",
   "metadata": {},
   "outputs": [
    {
     "data": {
      "text/plain": [
       "Text(0.5, 15.0, 'Predicted Class')"
      ]
     },
     "execution_count": 52,
     "metadata": {},
     "output_type": "execute_result"
    },
    {
     "data": {
      "image/png": "[encoded data removed]",
      "text/plain": [
       "<Figure size 432x288 with 2 Axes>"
      ]
     },
     "metadata": {
      "needs_background": "light"
     },
     "output_type": "display_data"
    }
   ],
   "source": [
    "cm = confusion_matrix(y_test,prediction_cplx)\n",
    "#plt.figure(figsize=(10, 10))\n",
    "sns.heatmap(cm, annot=True, fmt='g', vmin=0, cbar=True, cmap='twilight')\n",
    "plt.ylabel('True Class')\n",
    "plt.xlabel('Predicted Class')"
   ]
  },
  {
   "cell_type": "code",
   "execution_count": 55,
   "id": "1c787991",
   "metadata": {},
   "outputs": [
    {
     "name": "stdout",
     "output_type": "stream",
     "text": [
      "Class: {0: 'nv', 1: 'mel', 2: 'bkl', 3: 'bcc', 4: 'akiec', 5: 'vasc', 6: 'df'}\n",
      "Specificity: [0.99178645 0.96084656 0.94854586 1.         0.56790123 0.99595142\n",
      " 0.96444444]\n",
      "Specificity Mean: 0.9184965665427284\n",
      "Class: {0: 'nv', 1: 'mel', 2: 'bkl', 3: 'bcc', 4: 'akiec', 5: 'vasc', 6: 'df'}\n",
      "Recall/Sensitivity: [0.25       0.52631579 0.38888889 0.         0.92182891 0.28571429\n",
      " 0.26470588]\n",
      "Recall/Sensitivity Mean: 0.3767791078549103\n",
      "Class: {0: 'nv', 1: 'mel', 2: 'bkl', 3: 'bcc', 4: 'akiec', 5: 'vasc', 6: 'df'}\n",
      "Precision: [0.46666667 0.44776119 0.47727273        nan 0.81699346 0.5\n",
      " 0.45762712]\n",
      "Precision Mean: nan\n"
     ]
    },
    {
     "name": "stderr",
     "output_type": "stream",
     "text": [
      "C:\\Users\\celie\\Anaconda3\\lib\\site-packages\\ipykernel_launcher.py:20: RuntimeWarning: invalid value encountered in true_divide\n",
      "C:\\Users\\celie\\Anaconda3\\lib\\site-packages\\ipykernel_launcher.py:32: RuntimeWarning: invalid value encountered in true_divide\n"
     ]
    }
   ],
   "source": [
    "#Performance metrics from confusion matrix \n",
    "\n",
    "FP = cm.sum(axis=0) - np.diag(cm) \n",
    "FN = cm.sum(axis=1) - np.diag(cm)\n",
    "TP = np.diag(cm)\n",
    "TN = cm.sum() - (FP + FN + TP)\n",
    "\n",
    "FP = FP.astype(float)\n",
    "FN = FN.astype(float)\n",
    "TP = TP.astype(float)\n",
    "TN = TN.astype(float)\n",
    "\n",
    "# Sensitivity, hit rate, Recall, or true positive rate\n",
    "TPR = TP/(TP+FN)\n",
    "\n",
    "# Specificity or true negative rate\n",
    "TNR = TN/(TN+FP) \n",
    "\n",
    "# Precision or positive predictive value\n",
    "PPV = TP/(TP+FP)\n",
    "\n",
    "# Negative predictive value\n",
    "NPV = TN/(TN+FN)\n",
    "\n",
    "# Fall out or false positive rate\n",
    "FPR = FP/(FP+TN)\n",
    "\n",
    "# False negative rate\n",
    "FNR = FN/(TP+FN)\n",
    "\n",
    "# False discovery rate\n",
    "FDR = FP/(TP+FP)\n",
    "\n",
    "\n",
    "print('Class:',class_label)\n",
    "\n",
    "print('Specificity:',TNR)\n",
    "print('Specificity Mean:',TNR.mean())\n",
    "\n",
    "print('Class:',class_label)\n",
    "\n",
    "print('Recall/Sensitivity:',TPR)\n",
    "print('Recall/Sensitivity Mean:',TPR.mean())\n",
    "\n",
    "print('Class:',class_label)\n",
    "\n",
    "print('Precision:',PPV)\n",
    "print('Precision Mean:',PPV.mean())"
   ]
  },
  {
   "cell_type": "markdown",
   "id": "a1edcd74",
   "metadata": {},
   "source": [
    "## Visualize training and test histories"
   ]
  },
  {
   "cell_type": "code",
   "execution_count": 56,
   "id": "4d6f9f08",
   "metadata": {},
   "outputs": [
    {
     "data": {
      "image/png": "[encoded data removed]",
      "text/plain": [
       "<Figure size 432x288 with 1 Axes>"
      ]
     },
     "metadata": {
      "needs_background": "light"
     },
     "output_type": "display_data"
    },
    {
     "data": {
      "image/png": "[encoded data removed]",
      "text/plain": [
       "<Figure size 432x288 with 1 Axes>"
      ]
     },
     "metadata": {
      "needs_background": "light"
     },
     "output_type": "display_data"
    }
   ],
   "source": [
    "#Get training and test accuracy histories\n",
    "training_accuracy = history.history['accuracy']\n",
    "test_accuracy = history.history['val_accuracy']\n",
    "\n",
    "#Epoch count\n",
    "epoch_count = range(1,len(training_accuracy) + 1)\n",
    "\n",
    "#plt.figure(figsize=(8, 6))\n",
    "plt.plot(epoch_count, training_accuracy, \"r--\")\n",
    "plt.plot(epoch_count,test_accuracy, \"b-\")\n",
    "plt.legend(['Training Accuracy','Test Accuracy'])\n",
    "plt.xlabel('Epoch')\n",
    "plt.ylabel('Accuracy')\n",
    "plt.show()\n",
    "\n",
    "#Get training and test loss histories\n",
    "training_loss = history.history['loss']\n",
    "test_loss = history.history['val_loss']\n",
    "\n",
    "\n",
    "#Epoch count\n",
    "epoch_count = range(1,len(training_loss) + 1)\n",
    "\n",
    "#Visualize loss history\n",
    "#plt.figure(figsize=(8, 6))\n",
    "plt.plot(epoch_count, training_loss, \"r--\")\n",
    "plt.plot(epoch_count,test_loss, \"b-\")\n",
    "plt.legend(['Training Loss','Test Loss'])\n",
    "plt.xlabel('Epoch')\n",
    "plt.ylabel('Loss')\n",
    "plt.show()"
   ]
  },
  {
   "cell_type": "markdown",
   "id": "13b15429",
   "metadata": {},
   "source": [
    "### ROC scores for multi-class classification model"
   ]
  },
  {
   "cell_type": "code",
   "execution_count": 57,
   "id": "406c995d",
   "metadata": {},
   "outputs": [
    {
     "name": "stdout",
     "output_type": "stream",
     "text": [
      "One-vs-One ROC AUC scores:\n",
      "0.831828 (macro),\n",
      "0.889171 (weighted by prevalence)\n",
      "One-vs-Rest ROC AUC scores:\n",
      "0.901861 (macro),\n",
      "0.884384 (weighted by prevalence)\n"
     ]
    }
   ],
   "source": [
    "from itertools import cycle\n",
    "from sklearn.metrics import roc_curve, auc\n",
    "from sklearn.multiclass import OneVsRestClassifier\n",
    "from scipy import interp\n",
    "from sklearn.metrics import roc_auc_score\n",
    "\n",
    "\n",
    "#y_prob = classifier.predict_proba(X_test)\n",
    "\n",
    "prediction_cplx = model.predict_proba(X_test)\n",
    "\n",
    "macro_roc_auc_ovo = roc_auc_score(y_test, prediction_cplx, multi_class=\"ovo\",\n",
    "                                  average=\"macro\")\n",
    "weighted_roc_auc_ovo = roc_auc_score(y_test, prediction_cplx, multi_class=\"ovo\",\n",
    "                                     average=\"weighted\")\n",
    "macro_roc_auc_ovr = roc_auc_score(y_test, prediction_cplx, multi_class=\"ovr\",\n",
    "                                  average=\"macro\")\n",
    "weighted_roc_auc_ovr = roc_auc_score(y_test, prediction_cplx, multi_class=\"ovr\",\n",
    "                                     average=\"weighted\")\n",
    "print(\"One-vs-One ROC AUC scores:\\n{:.6f} (macro),\\n{:.6f} \"\n",
    "      \"(weighted by prevalence)\"\n",
    "      .format(macro_roc_auc_ovo, weighted_roc_auc_ovo))\n",
    "print(\"One-vs-Rest ROC AUC scores:\\n{:.6f} (macro),\\n{:.6f} \"\n",
    "      \"(weighted by prevalence)\"\n",
    "      .format(macro_roc_auc_ovr, weighted_roc_auc_ovr))"
   ]
  },
  {
   "cell_type": "markdown",
   "id": "401e72fc",
   "metadata": {},
   "source": [
    "### ROC plot"
   ]
  },
  {
   "cell_type": "code",
   "execution_count": 58,
   "id": "d1c685b2",
   "metadata": {},
   "outputs": [
    {
     "data": {
      "image/png": "[encoded data removed]",
      "text/plain": [
       "<Figure size 576x432 with 1 Axes>"
      ]
     },
     "metadata": {
      "needs_background": "light"
     },
     "output_type": "display_data"
    }
   ],
   "source": [
    "#ROC for multi-class classification model, balanced data (SMOTE)\n",
    "from sklearn.multiclass import OneVsRestClassifier\n",
    "from sklearn.metrics import roc_curve\n",
    "from sklearn.metrics import roc_auc_score\n",
    "\n",
    "prediction_cplx = model.predict_proba(X_test)\n",
    "\n",
    "# roc curve for classes\n",
    "fpr = {}\n",
    "tpr = {}\n",
    "thresh ={}\n",
    "\n",
    "n_class = 7\n",
    "\n",
    "for i in range(n_class):    \n",
    "    fpr[i], tpr[i], thresh[i] = roc_curve(y_test, prediction_cplx[:,i], pos_label=i)\n",
    "    \n",
    "# plotting\n",
    "plt.figure(figsize=(8, 6))\n",
    "plt.plot(fpr[0], tpr[0], linestyle='--',color='orange', label='Class 0 vs Rest')\n",
    "plt.plot(fpr[1], tpr[1], linestyle='--',color='green', label='Class 1 vs Rest')\n",
    "plt.plot(fpr[2], tpr[2], linestyle='--',color='blue', label='Class 2 vs Rest')\n",
    "plt.plot(fpr[3], tpr[3], linestyle='--',color='red', label='Class 3 vs Rest')\n",
    "plt.plot(fpr[4], tpr[4], linestyle='--',color='black', label='Class 4 vs Rest')\n",
    "plt.plot(fpr[5], tpr[5], linestyle='--',color='purple', label='Class 5 vs Rest')\n",
    "plt.plot(fpr[6], tpr[6], linestyle='--',color='yellow', label='Class 6 vs Rest')\n",
    "plt.title('Multiclass Receiver Operating Characteristic')\n",
    "plt.xlabel('False Positive Rate')\n",
    "plt.ylabel('True Positive rate')\n",
    "plt.legend(loc='best')\n",
    "plt.savefig('Multiclass ROC',dpi=300);"
   ]
  },
  {
   "cell_type": "markdown",
   "id": "cf4fc196",
   "metadata": {},
   "source": [
    "## Increased model complexity (Balanced data)\n",
    "#### Added an extra layer with 64 units, Dropout of .20 and Early Stopping"
   ]
  },
  {
   "cell_type": "code",
   "execution_count": 90,
   "id": "3daa7278",
   "metadata": {},
   "outputs": [
    {
     "name": "stdout",
     "output_type": "stream",
     "text": [
      "Model: \"sequential_24\"\n",
      "_________________________________________________________________\n",
      "Layer (type)                 Output Shape              Param #   \n",
      "=================================================================\n",
      "dense_70 (Dense)             (None, 512)               30720     \n",
      "_________________________________________________________________\n",
      "dense_71 (Dense)             (None, 64)                32832     \n",
      "_________________________________________________________________\n",
      "dropout_24 (Dropout)         (None, 64)                0         \n",
      "_________________________________________________________________\n",
      "dense_72 (Dense)             (None, 7)                 455       \n",
      "=================================================================\n",
      "Total params: 64,007\n",
      "Trainable params: 64,007\n",
      "Non-trainable params: 0\n",
      "_________________________________________________________________\n"
     ]
    }
   ],
   "source": [
    "batch_size = 850\n",
    "num_classes = 7 \n",
    "epochs = 100\n",
    "es = EarlyStopping(monitor='val_loss', mode='auto', patience=10,restore_best_weights=True,\n",
    " verbose=1)\n",
    "\n",
    "def create_cplx():\n",
    "    \n",
    "    #Create model\n",
    "    model = Sequential()\n",
    "    model.add(Dense(512, activation='relu', input_shape=(n_cols,))) \n",
    "    model.add(Dense(64, activation='relu'))\n",
    "    model.add(Dropout(0.20)) \n",
    "    model.add(Dense(7, activation='softmax'))\n",
    "\n",
    "\n",
    "    model.compile(loss='sparse_categorical_crossentropy', optimizer='adam',metrics=['accuracy'])\n",
    "    return model\n",
    " \n",
    "    \n",
    "model = create_cplx()\n",
    "model.summary()"
   ]
  },
  {
   "cell_type": "code",
   "execution_count": 91,
   "id": "1c03bf6f",
   "metadata": {},
   "outputs": [],
   "source": [
    "#evaluate model with standardized dataset\n",
    "estimator = KerasClassifier(build_fn = create_cplx, \n",
    "                           epochs=epochs, batch_size=batch_size, \n",
    "                           verbose=0)\n",
    "\n",
    "kfold = StratifiedKFold(n_splits=4, shuffle=True)\n",
    "\n",
    "results = cross_val_score(estimator, X_train, y_train, cv=kfold)"
   ]
  },
  {
   "cell_type": "code",
   "execution_count": 92,
   "id": "6e60f81c",
   "metadata": {},
   "outputs": [
    {
     "name": "stdout",
     "output_type": "stream",
     "text": [
      "Larger: 96.99% (0.10%)\n"
     ]
    }
   ],
   "source": [
    "print(\"Larger: %.2f%% (%.2f%%)\" % (results.mean()*100, results.std()*100))"
   ]
  },
  {
   "cell_type": "code",
   "execution_count": 93,
   "id": "ff944b90",
   "metadata": {
    "scrolled": true
   },
   "outputs": [
    {
     "name": "stdout",
     "output_type": "stream",
     "text": [
      "Train on 42241 samples, validate on 4694 samples\n",
      "Epoch 1/100\n",
      "42241/42241 [==============================] - 1s 33us/step - loss: 1.4272 - accuracy: 0.5049 - val_loss: 0.8670 - val_accuracy: 0.7199\n",
      "Epoch 2/100\n",
      "42241/42241 [==============================] - 1s 20us/step - loss: 0.8161 - accuracy: 0.7187 - val_loss: 0.6151 - val_accuracy: 0.8049\n",
      "Epoch 3/100\n",
      "42241/42241 [==============================] - 1s 20us/step - loss: 0.6187 - accuracy: 0.7902 - val_loss: 0.4926 - val_accuracy: 0.8406\n",
      "Epoch 4/100\n",
      "42241/42241 [==============================] - 1s 20us/step - loss: 0.5070 - accuracy: 0.8289 - val_loss: 0.4174 - val_accuracy: 0.8692\n",
      "Epoch 5/100\n",
      "42241/42241 [==============================] - 1s 20us/step - loss: 0.4297 - accuracy: 0.8561 - val_loss: 0.3567 - val_accuracy: 0.8894\n",
      "Epoch 6/100\n",
      "42241/42241 [==============================] - 1s 20us/step - loss: 0.3703 - accuracy: 0.8751 - val_loss: 0.3099 - val_accuracy: 0.9012\n",
      "Epoch 7/100\n",
      "42241/42241 [==============================] - 1s 29us/step - loss: 0.3252 - accuracy: 0.8921 - val_loss: 0.2709 - val_accuracy: 0.9133\n",
      "Epoch 8/100\n",
      "42241/42241 [==============================] - 1s 26us/step - loss: 0.2829 - accuracy: 0.9054 - val_loss: 0.2437 - val_accuracy: 0.9220\n",
      "Epoch 9/100\n",
      "42241/42241 [==============================] - 1s 24us/step - loss: 0.2567 - accuracy: 0.9153 - val_loss: 0.2233 - val_accuracy: 0.9327\n",
      "Epoch 10/100\n",
      "42241/42241 [==============================] - 1s 24us/step - loss: 0.2291 - accuracy: 0.9242 - val_loss: 0.2030 - val_accuracy: 0.9378\n",
      "Epoch 11/100\n",
      "42241/42241 [==============================] - 1s 25us/step - loss: 0.2121 - accuracy: 0.9299 - val_loss: 0.1819 - val_accuracy: 0.9459\n",
      "Epoch 12/100\n",
      "42241/42241 [==============================] - 1s 25us/step - loss: 0.1898 - accuracy: 0.9401 - val_loss: 0.1703 - val_accuracy: 0.9501\n",
      "Epoch 13/100\n",
      "42241/42241 [==============================] - 1s 25us/step - loss: 0.1736 - accuracy: 0.9438 - val_loss: 0.1514 - val_accuracy: 0.9548\n",
      "Epoch 14/100\n",
      "42241/42241 [==============================] - 1s 21us/step - loss: 0.1565 - accuracy: 0.9496 - val_loss: 0.1458 - val_accuracy: 0.9582\n",
      "Epoch 15/100\n",
      "42241/42241 [==============================] - 1s 23us/step - loss: 0.1459 - accuracy: 0.9525 - val_loss: 0.1397 - val_accuracy: 0.9587\n",
      "Epoch 16/100\n",
      "42241/42241 [==============================] - 1s 25us/step - loss: 0.1347 - accuracy: 0.9561 - val_loss: 0.1314 - val_accuracy: 0.9648\n",
      "Epoch 17/100\n",
      "42241/42241 [==============================] - 1s 24us/step - loss: 0.1255 - accuracy: 0.9606 - val_loss: 0.1207 - val_accuracy: 0.9648\n",
      "Epoch 18/100\n",
      "42241/42241 [==============================] - 1s 23us/step - loss: 0.1156 - accuracy: 0.9636 - val_loss: 0.1229 - val_accuracy: 0.9642\n",
      "Epoch 19/100\n",
      "42241/42241 [==============================] - 1s 24us/step - loss: 0.1080 - accuracy: 0.9665 - val_loss: 0.1127 - val_accuracy: 0.9685\n",
      "Epoch 20/100\n",
      "42241/42241 [==============================] - 1s 24us/step - loss: 0.1007 - accuracy: 0.9679 - val_loss: 0.1162 - val_accuracy: 0.9674\n",
      "Epoch 21/100\n",
      "42241/42241 [==============================] - 1s 27us/step - loss: 0.0956 - accuracy: 0.9703 - val_loss: 0.1129 - val_accuracy: 0.9659\n",
      "Epoch 22/100\n",
      "42241/42241 [==============================] - 1s 29us/step - loss: 0.0859 - accuracy: 0.9740 - val_loss: 0.1046 - val_accuracy: 0.9691\n",
      "Epoch 23/100\n",
      "42241/42241 [==============================] - 1s 22us/step - loss: 0.0836 - accuracy: 0.9740 - val_loss: 0.1012 - val_accuracy: 0.9704\n",
      "Epoch 24/100\n",
      "42241/42241 [==============================] - 1s 23us/step - loss: 0.0793 - accuracy: 0.9754 - val_loss: 0.0998 - val_accuracy: 0.9715\n",
      "Epoch 25/100\n",
      "42241/42241 [==============================] - 1s 25us/step - loss: 0.0732 - accuracy: 0.9773 - val_loss: 0.0965 - val_accuracy: 0.9725\n",
      "Epoch 26/100\n",
      "42241/42241 [==============================] - 1s 23us/step - loss: 0.0684 - accuracy: 0.9790 - val_loss: 0.0946 - val_accuracy: 0.9738\n",
      "Epoch 27/100\n",
      "42241/42241 [==============================] - 1s 23us/step - loss: 0.0641 - accuracy: 0.9803 - val_loss: 0.0971 - val_accuracy: 0.9721\n",
      "Epoch 28/100\n",
      "42241/42241 [==============================] - 1s 24us/step - loss: 0.0601 - accuracy: 0.9818 - val_loss: 0.0949 - val_accuracy: 0.9723\n",
      "Epoch 29/100\n",
      "42241/42241 [==============================] - 1s 25us/step - loss: 0.0604 - accuracy: 0.9811 - val_loss: 0.0885 - val_accuracy: 0.9751\n",
      "Epoch 30/100\n",
      "42241/42241 [==============================] - 1s 25us/step - loss: 0.0536 - accuracy: 0.9839 - val_loss: 0.0881 - val_accuracy: 0.9766\n",
      "Epoch 31/100\n",
      "42241/42241 [==============================] - 1s 24us/step - loss: 0.0535 - accuracy: 0.9836 - val_loss: 0.0930 - val_accuracy: 0.9740\n",
      "Epoch 32/100\n",
      "42241/42241 [==============================] - 1s 22us/step - loss: 0.0509 - accuracy: 0.9844 - val_loss: 0.0887 - val_accuracy: 0.9764\n",
      "Epoch 33/100\n",
      "42241/42241 [==============================] - 1s 22us/step - loss: 0.0489 - accuracy: 0.9847 - val_loss: 0.0846 - val_accuracy: 0.9774\n",
      "Epoch 34/100\n",
      "42241/42241 [==============================] - 1s 22us/step - loss: 0.0444 - accuracy: 0.9866 - val_loss: 0.0914 - val_accuracy: 0.9742\n",
      "Epoch 35/100\n",
      "42241/42241 [==============================] - 1s 22us/step - loss: 0.0458 - accuracy: 0.9863 - val_loss: 0.0910 - val_accuracy: 0.9738\n",
      "Epoch 36/100\n",
      "42241/42241 [==============================] - 1s 22us/step - loss: 0.0429 - accuracy: 0.9868 - val_loss: 0.0956 - val_accuracy: 0.9740\n",
      "Epoch 37/100\n",
      "42241/42241 [==============================] - 1s 22us/step - loss: 0.0442 - accuracy: 0.9866 - val_loss: 0.0886 - val_accuracy: 0.9770\n",
      "Epoch 38/100\n",
      "42241/42241 [==============================] - 1s 29us/step - loss: 0.0416 - accuracy: 0.9875 - val_loss: 0.0923 - val_accuracy: 0.9757\n",
      "Epoch 39/100\n",
      "42241/42241 [==============================] - 1s 28us/step - loss: 0.0376 - accuracy: 0.9883 - val_loss: 0.1007 - val_accuracy: 0.9753\n",
      "Epoch 40/100\n",
      "42241/42241 [==============================] - 1s 24us/step - loss: 0.0385 - accuracy: 0.9883 - val_loss: 0.0896 - val_accuracy: 0.9774\n",
      "Epoch 41/100\n",
      "42241/42241 [==============================] - 1s 21us/step - loss: 0.0351 - accuracy: 0.9895 - val_loss: 0.0895 - val_accuracy: 0.9761\n",
      "Epoch 42/100\n",
      "42241/42241 [==============================] - 1s 24us/step - loss: 0.0326 - accuracy: 0.9904 - val_loss: 0.0924 - val_accuracy: 0.9751\n",
      "Epoch 43/100\n",
      "42241/42241 [==============================] - 1s 25us/step - loss: 0.0335 - accuracy: 0.9898 - val_loss: 0.0916 - val_accuracy: 0.9768\n",
      "Restoring model weights from the end of the best epoch\n",
      "Epoch 00043: early stopping\n"
     ]
    }
   ],
   "source": [
    "history = model.fit(X_train, y_train, \n",
    "                  batch_size=batch_size,\n",
    "                  epochs=epochs,\n",
    "                  callbacks=[es],\n",
    "                  verbose=1,\n",
    "                  validation_data=(X_test, y_test))"
   ]
  },
  {
   "cell_type": "code",
   "execution_count": 94,
   "id": "185d226a",
   "metadata": {},
   "outputs": [
    {
     "name": "stdout",
     "output_type": "stream",
     "text": [
      "Model: \"sequential_24\"\n",
      "_________________________________________________________________\n",
      "Layer (type)                 Output Shape              Param #   \n",
      "=================================================================\n",
      "dense_70 (Dense)             (None, 512)               30720     \n",
      "_________________________________________________________________\n",
      "dense_71 (Dense)             (None, 64)                32832     \n",
      "_________________________________________________________________\n",
      "dropout_24 (Dropout)         (None, 64)                0         \n",
      "_________________________________________________________________\n",
      "dense_72 (Dense)             (None, 7)                 455       \n",
      "=================================================================\n",
      "Total params: 64,007\n",
      "Trainable params: 64,007\n",
      "Non-trainable params: 0\n",
      "_________________________________________________________________\n",
      "None\n",
      "train samples: 42241\n",
      "test samples: 4694\n",
      "Test loss: 0.08462381188793035\n",
      "Test accuracy: 0.9774180054664612\n"
     ]
    }
   ],
   "source": [
    "# Print model fitting summury \n",
    "score = model.evaluate(X_test, y_test, verbose=0)\n",
    "prediction_cplx = model.predict_classes(X_test)\n",
    "\n",
    "print(model.summary())\n",
    "print('train samples:', X_train.shape[0])\n",
    "print('test samples:', X_test.shape[0])\n",
    "print('Test loss:', score[0])\n",
    "print('Test accuracy:', score[1])"
   ]
  },
  {
   "cell_type": "code",
   "execution_count": 95,
   "id": "871c09da",
   "metadata": {},
   "outputs": [
    {
     "name": "stdout",
     "output_type": "stream",
     "text": [
      "              precision    recall  f1-score   support\n",
      "\n",
      "           0       0.99      1.00      1.00       665\n",
      "           1       0.99      1.00      0.99       676\n",
      "           2       0.95      0.98      0.97       670\n",
      "           3       1.00      1.00      1.00       621\n",
      "           4       0.97      0.88      0.92       695\n",
      "           5       1.00      1.00      1.00       705\n",
      "           6       0.94      0.98      0.96       662\n",
      "\n",
      "    accuracy                           0.98      4694\n",
      "   macro avg       0.98      0.98      0.98      4694\n",
      "weighted avg       0.98      0.98      0.98      4694\n",
      "\n"
     ]
    }
   ],
   "source": [
    "print(classification_report(y_test.astype(int), prediction_cplx))"
   ]
  },
  {
   "cell_type": "code",
   "execution_count": 96,
   "id": "c8cb596d",
   "metadata": {},
   "outputs": [
    {
     "data": {
      "text/plain": [
       "Text(0.5, 15.0, 'Predicted Class')"
      ]
     },
     "execution_count": 96,
     "metadata": {},
     "output_type": "execute_result"
    },
    {
     "data": {
      "image/png": "[encoded data removed]",
      "text/plain": [
       "<Figure size 432x288 with 2 Axes>"
      ]
     },
     "metadata": {
      "needs_background": "light"
     },
     "output_type": "display_data"
    }
   ],
   "source": [
    "cm = confusion_matrix(y_test,prediction_cplx)\n",
    "#plt.figure(figsize=(10, 10))\n",
    "sns.heatmap(cm, annot=True, fmt='g', vmin=0, cbar=True, cmap='twilight')\n",
    "plt.ylabel('True Class')\n",
    "plt.xlabel('Predicted Class')"
   ]
  },
  {
   "cell_type": "code",
   "execution_count": 97,
   "id": "2940453b",
   "metadata": {},
   "outputs": [
    {
     "name": "stdout",
     "output_type": "stream",
     "text": [
      "Class: {0: 'nv', 1: 'mel', 2: 'bkl', 3: 'bcc', 4: 'akiec', 5: 'vasc', 6: 'df'}\n",
      "Specificity: [0.998759   0.99800896 0.99229622 1.         0.99574894 1.\n",
      " 0.98883929]\n",
      "Specificity Mean: 0.9962360575091197\n",
      "Class: {0: 'nv', 1: 'mel', 2: 'bkl', 3: 'bcc', 4: 'akiec', 5: 'vasc', 6: 'df'}\n",
      "Recall/Sensitivity: [1.         1.         0.98059701 1.         0.88057554 1.\n",
      " 0.98489426]\n",
      "Recall/Sensitivity Mean: 0.9780095449017784\n",
      "Class: {0: 'nv', 1: 'mel', 2: 'bkl', 3: 'bcc', 4: 'akiec', 5: 'vasc', 6: 'df'}\n",
      "Precision: [0.99253731 0.98830409 0.95494186 1.         0.97297297 1.\n",
      " 0.93543759]\n",
      "Precision Mean: 0.9777419757297415\n"
     ]
    }
   ],
   "source": [
    "#Performance metrics from confusion matrix \n",
    "\n",
    "FP = cm.sum(axis=0) - np.diag(cm) \n",
    "FN = cm.sum(axis=1) - np.diag(cm)\n",
    "TP = np.diag(cm)\n",
    "TN = cm.sum() - (FP + FN + TP)\n",
    "\n",
    "FP = FP.astype(float)\n",
    "FN = FN.astype(float)\n",
    "TP = TP.astype(float)\n",
    "TN = TN.astype(float)\n",
    "\n",
    "# Sensitivity, hit rate, Recall, or true positive rate\n",
    "TPR = TP/(TP+FN)\n",
    "\n",
    "# Specificity or true negative rate\n",
    "TNR = TN/(TN+FP) \n",
    "\n",
    "# Precision or positive predictive value\n",
    "PPV = TP/(TP+FP)\n",
    "\n",
    "# Negative predictive value\n",
    "NPV = TN/(TN+FN)\n",
    "\n",
    "# Fall out or false positive rate\n",
    "FPR = FP/(FP+TN)\n",
    "\n",
    "# False negative rate\n",
    "FNR = FN/(TP+FN)\n",
    "\n",
    "# False discovery rate\n",
    "FDR = FP/(TP+FP)\n",
    "\n",
    "\n",
    "print('Class:',class_label)\n",
    "\n",
    "print('Specificity:',TNR)\n",
    "print('Specificity Mean:',TNR.mean())\n",
    "\n",
    "print('Class:',class_label)\n",
    "\n",
    "print('Recall/Sensitivity:',TPR)\n",
    "print('Recall/Sensitivity Mean:',TPR.mean())\n",
    "\n",
    "print('Class:',class_label)\n",
    "\n",
    "print('Precision:',PPV)\n",
    "print('Precision Mean:',PPV.mean())"
   ]
  },
  {
   "cell_type": "markdown",
   "id": "f99d61e5",
   "metadata": {},
   "source": [
    "## Visualize training and test histories"
   ]
  },
  {
   "cell_type": "code",
   "execution_count": 98,
   "id": "9479fd25",
   "metadata": {},
   "outputs": [
    {
     "data": {
      "image/png": "[encoded data removed]",
      "text/plain": [
       "<Figure size 432x288 with 1 Axes>"
      ]
     },
     "metadata": {
      "needs_background": "light"
     },
     "output_type": "display_data"
    },
    {
     "data": {
      "image/png": "[encoded data removed]",
      "text/plain": [
       "<Figure size 432x288 with 1 Axes>"
      ]
     },
     "metadata": {
      "needs_background": "light"
     },
     "output_type": "display_data"
    }
   ],
   "source": [
    "#Get training and test accuracy histories\n",
    "training_accuracy = history.history['accuracy']\n",
    "test_accuracy = history.history['val_accuracy']\n",
    "\n",
    "#Epoch count\n",
    "epoch_count = range(1,len(training_accuracy) + 1)\n",
    "\n",
    "#plt.figure(figsize=(8, 6))\n",
    "plt.plot(epoch_count, training_accuracy, \"r--\")\n",
    "plt.plot(epoch_count,test_accuracy, \"b-\")\n",
    "plt.legend(['Training Accuracy','Test Accuracy'])\n",
    "plt.xlabel('Epoch')\n",
    "plt.ylabel('Accuracy')\n",
    "plt.show()\n",
    "\n",
    "#Get training and test loss histories\n",
    "training_loss = history.history['loss']\n",
    "test_loss = history.history['val_loss']\n",
    "\n",
    "\n",
    "#Epoch count\n",
    "epoch_count = range(1,len(training_loss) + 1)\n",
    "\n",
    "#Visualize loss history\n",
    "#plt.figure(figsize=(8, 6))\n",
    "plt.plot(epoch_count, training_loss, \"r--\")\n",
    "plt.plot(epoch_count,test_loss, \"b-\")\n",
    "plt.legend(['Training Loss','Test Loss'])\n",
    "plt.xlabel('Epoch')\n",
    "plt.ylabel('Loss')\n",
    "plt.show()"
   ]
  },
  {
   "cell_type": "markdown",
   "id": "4d97aa93",
   "metadata": {},
   "source": [
    "### ROC scores for multi-class classification model"
   ]
  },
  {
   "cell_type": "code",
   "execution_count": 99,
   "id": "369a6061",
   "metadata": {},
   "outputs": [
    {
     "name": "stdout",
     "output_type": "stream",
     "text": [
      "One-vs-One ROC AUC scores:\n",
      "0.997727 (macro),\n",
      "0.997695 (weighted by prevalence)\n",
      "One-vs-Rest ROC AUC scores:\n",
      "0.997708 (macro),\n",
      "0.997654 (weighted by prevalence)\n"
     ]
    }
   ],
   "source": [
    "from itertools import cycle\n",
    "from sklearn.metrics import roc_curve, auc\n",
    "from sklearn.multiclass import OneVsRestClassifier\n",
    "from scipy import interp\n",
    "from sklearn.metrics import roc_auc_score\n",
    "\n",
    "\n",
    "#y_prob = classifier.predict_proba(X_test)\n",
    "\n",
    "prediction_cplx = model.predict_proba(X_test)\n",
    "\n",
    "macro_roc_auc_ovo = roc_auc_score(y_test, prediction_cplx, multi_class=\"ovo\",\n",
    "                                  average=\"macro\")\n",
    "weighted_roc_auc_ovo = roc_auc_score(y_test, prediction_cplx, multi_class=\"ovo\",\n",
    "                                     average=\"weighted\")\n",
    "macro_roc_auc_ovr = roc_auc_score(y_test, prediction_cplx, multi_class=\"ovr\",\n",
    "                                  average=\"macro\")\n",
    "weighted_roc_auc_ovr = roc_auc_score(y_test, prediction_cplx, multi_class=\"ovr\",\n",
    "                                     average=\"weighted\")\n",
    "print(\"One-vs-One ROC AUC scores:\\n{:.6f} (macro),\\n{:.6f} \"\n",
    "      \"(weighted by prevalence)\"\n",
    "      .format(macro_roc_auc_ovo, weighted_roc_auc_ovo))\n",
    "print(\"One-vs-Rest ROC AUC scores:\\n{:.6f} (macro),\\n{:.6f} \"\n",
    "      \"(weighted by prevalence)\"\n",
    "      .format(macro_roc_auc_ovr, weighted_roc_auc_ovr))"
   ]
  },
  {
   "cell_type": "markdown",
   "id": "30a3a4be",
   "metadata": {},
   "source": [
    "### ROC plot"
   ]
  },
  {
   "cell_type": "code",
   "execution_count": 100,
   "id": "57d20a37",
   "metadata": {
    "scrolled": false
   },
   "outputs": [
    {
     "data": {
      "image/png": "[encoded data removed]",
      "text/plain": [
       "<Figure size 576x432 with 1 Axes>"
      ]
     },
     "metadata": {
      "needs_background": "light"
     },
     "output_type": "display_data"
    }
   ],
   "source": [
    "#ROC for multi-class classification model, balanced data (SMOTE)\n",
    "from sklearn.multiclass import OneVsRestClassifier\n",
    "from sklearn.metrics import roc_curve\n",
    "from sklearn.metrics import roc_auc_score\n",
    "\n",
    "prediction_cplx = model.predict_proba(X_test)\n",
    "\n",
    "# roc curve for classes\n",
    "fpr = {}\n",
    "tpr = {}\n",
    "thresh ={}\n",
    "\n",
    "n_class = 7\n",
    "\n",
    "for i in range(n_class):    \n",
    "    fpr[i], tpr[i], thresh[i] = roc_curve(y_test, prediction_cplx[:,i], pos_label=i)\n",
    "    \n",
    "# plotting\n",
    "plt.figure(figsize=(8, 6))\n",
    "plt.plot(fpr[0], tpr[0], linestyle='--',color='orange', label='Class 0 vs Rest')\n",
    "plt.plot(fpr[1], tpr[1], linestyle='--',color='green', label='Class 1 vs Rest')\n",
    "plt.plot(fpr[2], tpr[2], linestyle='--',color='blue', label='Class 2 vs Rest')\n",
    "plt.plot(fpr[3], tpr[3], linestyle='--',color='red', label='Class 3 vs Rest')\n",
    "plt.plot(fpr[4], tpr[4], linestyle='--',color='black', label='Class 4 vs Rest')\n",
    "plt.plot(fpr[5], tpr[5], linestyle='--',color='purple', label='Class 5 vs Rest')\n",
    "plt.plot(fpr[6], tpr[6], linestyle='--',color='yellow', label='Class 6 vs Rest')\n",
    "plt.title('Multiclass Receiver Operating Characteristic')\n",
    "plt.xlabel('False Positive Rate')\n",
    "plt.ylabel('True Positive rate')\n",
    "plt.legend(loc='best')\n",
    "plt.savefig('Multiclass ROC',dpi=300);"
   ]
  },
  {
   "cell_type": "markdown",
   "id": "19826b7f",
   "metadata": {},
   "source": [
    "### 4. Make a Prediction from an image not in the original dataset\n",
    "A new image of a skin lesion is gathered from an outside source and not from the dataset used for training and testing."
   ]
  },
  {
   "cell_type": "code",
   "execution_count": 101,
   "id": "08818834",
   "metadata": {},
   "outputs": [
    {
     "data": {
      "image/png": "[encoded data removed]",
      "text/plain": [
       "<PIL.Image.Image image mode=RGB size=158x158 at 0x20410D13148>"
      ]
     },
     "execution_count": 101,
     "metadata": {},
     "output_type": "execute_result"
    }
   ],
   "source": [
    "from keras.preprocessing import image\n",
    "\n",
    "img_path = ('C:/Users/celie/Desktop/acct2.jpg')\n",
    "img = image.load_img(img_path, target_size=(158,158))\n",
    "img"
   ]
  },
  {
   "cell_type": "code",
   "execution_count": 109,
   "id": "a3511799",
   "metadata": {},
   "outputs": [
    {
     "name": "stdout",
     "output_type": "stream",
     "text": [
      "{0: 'nv', 1: 'mel', 2: 'bkl', 3: 'bcc', 4: 'akiec', 5: 'vasc', 6: 'df'}\n",
      "The predicted class of the lesion is: 5\n"
     ]
    }
   ],
   "source": [
    "# Classify image not in the dataset\n",
    "import cv2\n",
    "img = cv2.imread('C:/Users/celie/Desktop/acct2.jpg',0)\n",
    "\n",
    "\n",
    "img = cv2.resize(img,(59,59))\n",
    "#plt.imshow(img)\n",
    "#img = np.reshape(img,[-1,56,56,3])\n",
    "cv2.waitKey(0)\n",
    "cv2.destroyAllWindows()\n",
    "\n",
    "print(class_label)\n",
    "\n",
    "prediction_cplx = model.predict_classes(img)\n",
    "\n",
    "print('The predicted class of the lesion is:', prediction_cplx[1])"
   ]
  },
  {
   "cell_type": "markdown",
   "id": "12bbaae0",
   "metadata": {},
   "source": [
    "### Save Best Model"
   ]
  },
  {
   "cell_type": "code",
   "execution_count": 110,
   "id": "9b4cbb54",
   "metadata": {},
   "outputs": [],
   "source": [
    "model.save('hamskin_1_59_59.h5')"
   ]
  },
  {
   "cell_type": "code",
   "execution_count": 119,
   "id": "2cf61082",
   "metadata": {
    "scrolled": true
   },
   "outputs": [
    {
     "name": "stdout",
     "output_type": "stream",
     "text": [
      "Model: \"sequential_24\"\n",
      "_________________________________________________________________\n",
      "Layer (type)                 Output Shape              Param #   \n",
      "=================================================================\n",
      "dense_70 (Dense)             (None, 512)               30720     \n",
      "_________________________________________________________________\n",
      "dense_71 (Dense)             (None, 64)                32832     \n",
      "_________________________________________________________________\n",
      "dropout_24 (Dropout)         (None, 64)                0         \n",
      "_________________________________________________________________\n",
      "dense_72 (Dense)             (None, 7)                 455       \n",
      "=================================================================\n",
      "Total params: 64,007\n",
      "Trainable params: 64,007\n",
      "Non-trainable params: 0\n",
      "_________________________________________________________________\n"
     ]
    }
   ],
   "source": [
    "reconstructed_model = keras.models.load_model('hamskin_1_59_59.h5')\n",
    "reconstructed_model.summary()"
   ]
  },
  {
   "cell_type": "code",
   "execution_count": 127,
   "id": "3def150b",
   "metadata": {},
   "outputs": [
    {
     "name": "stdout",
     "output_type": "stream",
     "text": [
      "-rw-r--r-- 1 celie celie 795456 Jun  3 13:48 hamskin_1_59_59.h5\n"
     ]
    }
   ],
   "source": [
    "!ls -ltr hamskin_1_*"
   ]
  },
  {
   "cell_type": "code",
   "execution_count": null,
   "id": "928435bd",
   "metadata": {},
   "outputs": [],
   "source": []
  },
  {
   "cell_type": "code",
   "execution_count": null,
   "id": "3c176f34",
   "metadata": {},
   "outputs": [],
   "source": []
  },
  {
   "cell_type": "code",
   "execution_count": null,
   "id": "381aa626",
   "metadata": {},
   "outputs": [],
   "source": []
  }
 ],
 "metadata": {
  "kernelspec": {
   "display_name": "Python 3",
   "language": "python",
   "name": "python3"
  },
  "language_info": {
   "codemirror_mode": {
    "name": "ipython",
    "version": 3
   },
   "file_extension": ".py",
   "mimetype": "text/x-python",
   "name": "python",
   "nbconvert_exporter": "python",
   "pygments_lexer": "ipython3",
   "version": "3.7.4"
  }
 },
 "nbformat": 4,
 "nbformat_minor": 5
}
