{
 "cells": [
  {
   "cell_type": "markdown",
   "id": "a08d46db",
   "metadata": {},
   "source": [
    "# Skin Lesion Prediction - Feature Engineering\n",
    "Feature Creation and Feature Engineering is one of the most important tasks in machine learning, having a huge impact on model performance.\n",
    "Features can be changed or new features can be created from existing features.\n"
   ]
  },
  {
   "cell_type": "markdown",
   "id": "ff787947",
   "metadata": {},
   "source": [
    "### Some guidelines for feature transformation:\n",
    "\n",
    "#### Imputing\n",
    "    Some algorithms are very sensitive to missing values. Therefore, imputing allows for filling of empty       fields based on its value distribution\n",
    "####  Imputed time-series quantization\n",
    "    Time series often contain streams with measurements at different timestamps. Therefore, it is beneficial     to quantize measurements to a common “heart beat” and impute the corresponding values. This can be done     by sampling from the source time series distributions on the respective quantized time steps \n",
    "#### Scaling / Normalizing / Centering\n",
    "    Some algorithms are very sensitive differences in value ranges for individual fields. Therefore, it is       best practice to center data around zero and scale values to a standard deviation of one   \n",
    "#### Filtering\n",
    "    Sometimes imputing values doesn’t perform well, therefore deletion of low quality records is a better       strategy  \n",
    "####  Discretizing\n",
    "     Continuous fields might confuse the model, e.g. a discrete set of age ranges sometimes performs better      than continuous values, especially on smaller amounts of data and with simpler models   \n",
    "    "
   ]
  },
  {
   "cell_type": "markdown",
   "id": "e6602561",
   "metadata": {},
   "source": [
    "### Some guidelines for feature creation:\n",
    "\n",
    "#### One-hot-encoding\n",
    "    Categorical integer features should be transformed into “one-hot” vectors. In relational terms this         results in addition of additional columns –one columns for each distinct category\n",
    "#### Time-to-Frequency transformation\n",
    "    Time-series (and sometimes also sequence data) is recorded in the time domain but can easily transformed     into the frequency domain e.g. using FFT (Fast Fourier Transformation)   \n",
    "#### Month-From-Date\n",
    "    Creating an additional feature containing the month independentfrom data captures seasonal aspects.         Sometimes further discretization in to quarters helps as well  \n",
    "####  Aggregate-on-Target\n",
    "    Simply aggregating fields the target variable (or even other fields) can improve performance, e.g. count     number of data points per ZIP codeor take the median of all values by geographical region  \n",
    "    \n",
    "    \n",
    "    "
   ]
  },
  {
   "cell_type": "code",
   "execution_count": 2,
   "id": "671e08a9",
   "metadata": {},
   "outputs": [],
   "source": [
    "# imports\n",
    "import numpy as np\n",
    "import pandas as pd\n",
    "#!pip install pandas-profiling\n",
    "import pandas_profiling\n",
    "from pandas_profiling import ProfileReport\n",
    "import matplotlib.pyplot as plt\n",
    "import seaborn as sns\n",
    "%matplotlib inline"
   ]
  },
  {
   "cell_type": "code",
   "execution_count": 3,
   "id": "fc64196f",
   "metadata": {},
   "outputs": [
    {
     "data": {
      "text/html": [
       "<div>\n",
       "<style scoped>\n",
       "    .dataframe tbody tr th:only-of-type {\n",
       "        vertical-align: middle;\n",
       "    }\n",
       "\n",
       "    .dataframe tbody tr th {\n",
       "        vertical-align: top;\n",
       "    }\n",
       "\n",
       "    .dataframe thead th {\n",
       "        text-align: right;\n",
       "    }\n",
       "</style>\n",
       "<table border=\"1\" class=\"dataframe\">\n",
       "  <thead>\n",
       "    <tr style=\"text-align: right;\">\n",
       "      <th></th>\n",
       "      <th>0</th>\n",
       "      <th>1</th>\n",
       "      <th>2</th>\n",
       "      <th>3</th>\n",
       "      <th>4</th>\n",
       "    </tr>\n",
       "  </thead>\n",
       "  <tbody>\n",
       "    <tr>\n",
       "      <th>pixel0000</th>\n",
       "      <td>192</td>\n",
       "      <td>25</td>\n",
       "      <td>192</td>\n",
       "      <td>38</td>\n",
       "      <td>158</td>\n",
       "    </tr>\n",
       "    <tr>\n",
       "      <th>pixel0001</th>\n",
       "      <td>153</td>\n",
       "      <td>14</td>\n",
       "      <td>138</td>\n",
       "      <td>19</td>\n",
       "      <td>113</td>\n",
       "    </tr>\n",
       "    <tr>\n",
       "      <th>pixel0002</th>\n",
       "      <td>193</td>\n",
       "      <td>30</td>\n",
       "      <td>153</td>\n",
       "      <td>30</td>\n",
       "      <td>139</td>\n",
       "    </tr>\n",
       "    <tr>\n",
       "      <th>pixel0003</th>\n",
       "      <td>195</td>\n",
       "      <td>68</td>\n",
       "      <td>200</td>\n",
       "      <td>95</td>\n",
       "      <td>194</td>\n",
       "    </tr>\n",
       "    <tr>\n",
       "      <th>pixel0004</th>\n",
       "      <td>155</td>\n",
       "      <td>48</td>\n",
       "      <td>145</td>\n",
       "      <td>59</td>\n",
       "      <td>144</td>\n",
       "    </tr>\n",
       "    <tr>\n",
       "      <th>...</th>\n",
       "      <td>...</td>\n",
       "      <td>...</td>\n",
       "      <td>...</td>\n",
       "      <td>...</td>\n",
       "      <td>...</td>\n",
       "    </tr>\n",
       "    <tr>\n",
       "      <th>pixel2351</th>\n",
       "      <td>177</td>\n",
       "      <td>27</td>\n",
       "      <td>117</td>\n",
       "      <td>15</td>\n",
       "      <td>92</td>\n",
       "    </tr>\n",
       "    <tr>\n",
       "      <th>label</th>\n",
       "      <td>2</td>\n",
       "      <td>2</td>\n",
       "      <td>2</td>\n",
       "      <td>2</td>\n",
       "      <td>2</td>\n",
       "    </tr>\n",
       "    <tr>\n",
       "      <th>sex</th>\n",
       "      <td>0</td>\n",
       "      <td>0</td>\n",
       "      <td>0</td>\n",
       "      <td>0</td>\n",
       "      <td>0</td>\n",
       "    </tr>\n",
       "    <tr>\n",
       "      <th>localization</th>\n",
       "      <td>0</td>\n",
       "      <td>0</td>\n",
       "      <td>0</td>\n",
       "      <td>0</td>\n",
       "      <td>1</td>\n",
       "    </tr>\n",
       "    <tr>\n",
       "      <th>age</th>\n",
       "      <td>80</td>\n",
       "      <td>80</td>\n",
       "      <td>80</td>\n",
       "      <td>80</td>\n",
       "      <td>75</td>\n",
       "    </tr>\n",
       "  </tbody>\n",
       "</table>\n",
       "<p>2356 rows × 5 columns</p>\n",
       "</div>"
      ],
      "text/plain": [
       "                0   1    2   3    4\n",
       "pixel0000     192  25  192  38  158\n",
       "pixel0001     153  14  138  19  113\n",
       "pixel0002     193  30  153  30  139\n",
       "pixel0003     195  68  200  95  194\n",
       "pixel0004     155  48  145  59  144\n",
       "...           ...  ..  ...  ..  ...\n",
       "pixel2351     177  27  117  15   92\n",
       "label           2   2    2   2    2\n",
       "sex             0   0    0   0    0\n",
       "localization    0   0    0   0    1\n",
       "age            80  80   80  80   75\n",
       "\n",
       "[2356 rows x 5 columns]"
      ]
     },
     "execution_count": 3,
     "metadata": {},
     "output_type": "execute_result"
    }
   ],
   "source": [
    "skindf=pd.read_csv('skindf.csv')\n",
    "skindf.head().T"
   ]
  },
  {
   "cell_type": "markdown",
   "id": "b7295e5e",
   "metadata": {},
   "source": [
    "#### Split features and targets and make copy of df"
   ]
  },
  {
   "cell_type": "code",
   "execution_count": 4,
   "id": "7619dd69",
   "metadata": {},
   "outputs": [],
   "source": [
    "#Split features and targets and make copy of df\n",
    "X = skindf.drop('label',axis=1).copy() \n",
    "y = skindf['label'].copy()"
   ]
  },
  {
   "cell_type": "code",
   "execution_count": 5,
   "id": "f3d2583d",
   "metadata": {},
   "outputs": [
    {
     "name": "stdout",
     "output_type": "stream",
     "text": [
      "(10015, 2355)\n"
     ]
    }
   ],
   "source": [
    "#Check the shape of the features and targets\n",
    "print(X.shape)"
   ]
  },
  {
   "cell_type": "code",
   "execution_count": 6,
   "id": "419994e4",
   "metadata": {},
   "outputs": [
    {
     "data": {
      "text/html": [
       "<div>\n",
       "<style scoped>\n",
       "    .dataframe tbody tr th:only-of-type {\n",
       "        vertical-align: middle;\n",
       "    }\n",
       "\n",
       "    .dataframe tbody tr th {\n",
       "        vertical-align: top;\n",
       "    }\n",
       "\n",
       "    .dataframe thead th {\n",
       "        text-align: right;\n",
       "    }\n",
       "</style>\n",
       "<table border=\"1\" class=\"dataframe\">\n",
       "  <thead>\n",
       "    <tr style=\"text-align: right;\">\n",
       "      <th></th>\n",
       "      <th>count</th>\n",
       "      <th>mean</th>\n",
       "      <th>std</th>\n",
       "      <th>min</th>\n",
       "      <th>25%</th>\n",
       "      <th>50%</th>\n",
       "      <th>75%</th>\n",
       "      <th>max</th>\n",
       "    </tr>\n",
       "  </thead>\n",
       "  <tbody>\n",
       "    <tr>\n",
       "      <th>pixel0000</th>\n",
       "      <td>10015.0</td>\n",
       "      <td>181.056415</td>\n",
       "      <td>59.746698</td>\n",
       "      <td>0.0</td>\n",
       "      <td>158.0</td>\n",
       "      <td>198.0</td>\n",
       "      <td>224.0</td>\n",
       "      <td>255.0</td>\n",
       "    </tr>\n",
       "    <tr>\n",
       "      <th>pixel0001</th>\n",
       "      <td>10015.0</td>\n",
       "      <td>131.728407</td>\n",
       "      <td>45.043473</td>\n",
       "      <td>0.0</td>\n",
       "      <td>117.0</td>\n",
       "      <td>141.0</td>\n",
       "      <td>159.0</td>\n",
       "      <td>246.0</td>\n",
       "    </tr>\n",
       "    <tr>\n",
       "      <th>pixel0002</th>\n",
       "      <td>10015.0</td>\n",
       "      <td>141.240240</td>\n",
       "      <td>48.672670</td>\n",
       "      <td>0.0</td>\n",
       "      <td>123.0</td>\n",
       "      <td>151.0</td>\n",
       "      <td>172.0</td>\n",
       "      <td>255.0</td>\n",
       "    </tr>\n",
       "    <tr>\n",
       "      <th>pixel0003</th>\n",
       "      <td>10015.0</td>\n",
       "      <td>187.274488</td>\n",
       "      <td>54.021274</td>\n",
       "      <td>0.0</td>\n",
       "      <td>165.0</td>\n",
       "      <td>201.0</td>\n",
       "      <td>226.0</td>\n",
       "      <td>254.0</td>\n",
       "    </tr>\n",
       "    <tr>\n",
       "      <th>pixel0004</th>\n",
       "      <td>10015.0</td>\n",
       "      <td>137.089466</td>\n",
       "      <td>41.138096</td>\n",
       "      <td>0.0</td>\n",
       "      <td>122.0</td>\n",
       "      <td>144.0</td>\n",
       "      <td>162.0</td>\n",
       "      <td>246.0</td>\n",
       "    </tr>\n",
       "    <tr>\n",
       "      <th>...</th>\n",
       "      <td>...</td>\n",
       "      <td>...</td>\n",
       "      <td>...</td>\n",
       "      <td>...</td>\n",
       "      <td>...</td>\n",
       "      <td>...</td>\n",
       "      <td>...</td>\n",
       "      <td>...</td>\n",
       "    </tr>\n",
       "    <tr>\n",
       "      <th>pixel2350</th>\n",
       "      <td>10015.0</td>\n",
       "      <td>127.871193</td>\n",
       "      <td>46.453818</td>\n",
       "      <td>0.0</td>\n",
       "      <td>113.0</td>\n",
       "      <td>138.0</td>\n",
       "      <td>156.0</td>\n",
       "      <td>249.0</td>\n",
       "    </tr>\n",
       "    <tr>\n",
       "      <th>pixel2351</th>\n",
       "      <td>10015.0</td>\n",
       "      <td>133.144483</td>\n",
       "      <td>49.060028</td>\n",
       "      <td>0.0</td>\n",
       "      <td>115.0</td>\n",
       "      <td>142.0</td>\n",
       "      <td>163.0</td>\n",
       "      <td>254.0</td>\n",
       "    </tr>\n",
       "    <tr>\n",
       "      <th>sex</th>\n",
       "      <td>10015.0</td>\n",
       "      <td>0.465901</td>\n",
       "      <td>0.510143</td>\n",
       "      <td>0.0</td>\n",
       "      <td>0.0</td>\n",
       "      <td>0.0</td>\n",
       "      <td>1.0</td>\n",
       "      <td>2.0</td>\n",
       "    </tr>\n",
       "    <tr>\n",
       "      <th>localization</th>\n",
       "      <td>10015.0</td>\n",
       "      <td>5.776635</td>\n",
       "      <td>2.966381</td>\n",
       "      <td>0.0</td>\n",
       "      <td>3.0</td>\n",
       "      <td>6.0</td>\n",
       "      <td>9.0</td>\n",
       "      <td>14.0</td>\n",
       "    </tr>\n",
       "    <tr>\n",
       "      <th>age</th>\n",
       "      <td>10015.0</td>\n",
       "      <td>51.858912</td>\n",
       "      <td>16.920377</td>\n",
       "      <td>0.0</td>\n",
       "      <td>40.0</td>\n",
       "      <td>50.0</td>\n",
       "      <td>65.0</td>\n",
       "      <td>85.0</td>\n",
       "    </tr>\n",
       "  </tbody>\n",
       "</table>\n",
       "<p>2355 rows × 8 columns</p>\n",
       "</div>"
      ],
      "text/plain": [
       "                count        mean        std  min    25%    50%    75%    max\n",
       "pixel0000     10015.0  181.056415  59.746698  0.0  158.0  198.0  224.0  255.0\n",
       "pixel0001     10015.0  131.728407  45.043473  0.0  117.0  141.0  159.0  246.0\n",
       "pixel0002     10015.0  141.240240  48.672670  0.0  123.0  151.0  172.0  255.0\n",
       "pixel0003     10015.0  187.274488  54.021274  0.0  165.0  201.0  226.0  254.0\n",
       "pixel0004     10015.0  137.089466  41.138096  0.0  122.0  144.0  162.0  246.0\n",
       "...               ...         ...        ...  ...    ...    ...    ...    ...\n",
       "pixel2350     10015.0  127.871193  46.453818  0.0  113.0  138.0  156.0  249.0\n",
       "pixel2351     10015.0  133.144483  49.060028  0.0  115.0  142.0  163.0  254.0\n",
       "sex           10015.0    0.465901   0.510143  0.0    0.0    0.0    1.0    2.0\n",
       "localization  10015.0    5.776635   2.966381  0.0    3.0    6.0    9.0   14.0\n",
       "age           10015.0   51.858912  16.920377  0.0   40.0   50.0   65.0   85.0\n",
       "\n",
       "[2355 rows x 8 columns]"
      ]
     },
     "execution_count": 6,
     "metadata": {},
     "output_type": "execute_result"
    }
   ],
   "source": [
    "X.describe().T"
   ]
  },
  {
   "cell_type": "code",
   "execution_count": 7,
   "id": "19559e94",
   "metadata": {},
   "outputs": [
    {
     "name": "stdout",
     "output_type": "stream",
     "text": [
      "(10015,)\n"
     ]
    }
   ],
   "source": [
    "print(y.shape)"
   ]
  },
  {
   "cell_type": "code",
   "execution_count": 8,
   "id": "1852c061",
   "metadata": {},
   "outputs": [
    {
     "data": {
      "text/plain": [
       "count    10015.000000\n",
       "mean         3.720919\n",
       "std          1.347499\n",
       "min          0.000000\n",
       "25%          4.000000\n",
       "50%          4.000000\n",
       "75%          4.000000\n",
       "max          6.000000\n",
       "Name: label, dtype: float64"
      ]
     },
     "execution_count": 8,
     "metadata": {},
     "output_type": "execute_result"
    }
   ],
   "source": [
    "y.describe()"
   ]
  },
  {
   "cell_type": "markdown",
   "id": "30d83011",
   "metadata": {},
   "source": [
    "### There are 7 possible labels.\n",
    "#### From the dataset provider:\n",
    "\n",
    "* 0: nv - Melanocytic nevi\n",
    "* 1: mel - Melanoma\n",
    "* 2: bkl - Benign keratosis-like lesions\n",
    "* 3: bcc - Basal cell carcinoma\n",
    "* 4: akiec - Actinic keratoses and intraepithelial carcinoma / Bowen's disease\n",
    "* 5: vasc - Vascular lesions\n",
    "* 6: df - Dermatofibroma"
   ]
  },
  {
   "cell_type": "code",
   "execution_count": 9,
   "id": "dfdbfd3d",
   "metadata": {},
   "outputs": [
    {
     "data": {
      "text/plain": [
       "4    6705\n",
       "6    1113\n",
       "2    1099\n",
       "1     514\n",
       "0     327\n",
       "5     142\n",
       "3     115\n",
       "Name: label, dtype: int64"
      ]
     },
     "execution_count": 9,
     "metadata": {},
     "output_type": "execute_result"
    }
   ],
   "source": [
    "#Check for imbalanced data\n",
    "y.value_counts()"
   ]
  },
  {
   "cell_type": "code",
   "execution_count": 10,
   "id": "ea8c90a2",
   "metadata": {},
   "outputs": [
    {
     "data": {
      "text/plain": [
       "<AxesSubplot:xlabel='label', ylabel='count'>"
      ]
     },
     "execution_count": 10,
     "metadata": {},
     "output_type": "execute_result"
    },
    {
     "data": {
      "image/png": "[encoded data removed]",
      "text/plain": [
       "<Figure size 432x288 with 1 Axes>"
      ]
     },
     "metadata": {
      "needs_background": "light"
     },
     "output_type": "display_data"
    }
   ],
   "source": [
    "#!pip install seaborn\n",
    "import seaborn as sns\n",
    "\n",
    "#Plot the targets distribution\n",
    "sns.countplot(x='label', data=skindf)"
   ]
  },
  {
   "cell_type": "markdown",
   "id": "1a7317ba",
   "metadata": {},
   "source": [
    "### View the labels as a scatter plot"
   ]
  },
  {
   "cell_type": "code",
   "execution_count": 11,
   "id": "48d686c0",
   "metadata": {},
   "outputs": [
    {
     "name": "stdout",
     "output_type": "stream",
     "text": [
      "(10015, 2355)\n"
     ]
    }
   ],
   "source": [
    "X = np.array(X)\n",
    "print(X.shape)"
   ]
  },
  {
   "cell_type": "code",
   "execution_count": 12,
   "id": "1c7e7176",
   "metadata": {},
   "outputs": [
    {
     "name": "stdout",
     "output_type": "stream",
     "text": [
      "Counter({4: 6705, 6: 1113, 2: 1099, 1: 514, 0: 327, 5: 142, 3: 115})\n"
     ]
    }
   ],
   "source": [
    "#!pip install imblearn\n",
    "#import imblearn\n",
    "from collections import Counter\n",
    "#print(imblearn.__version__)\n",
    "counter = Counter(y)\n",
    "print(counter)"
   ]
  },
  {
   "cell_type": "code",
   "execution_count": 13,
   "id": "2b73a8ee",
   "metadata": {},
   "outputs": [
    {
     "data": {
      "image/png": "[encoded data removed]",
      "text/plain": [
       "<Figure size 432x288 with 1 Axes>"
      ]
     },
     "metadata": {
      "needs_background": "light"
     },
     "output_type": "display_data"
    }
   ],
   "source": [
    "from numpy import where\n",
    "from matplotlib import pyplot\n",
    "\n",
    "for label, _ in counter.items():\n",
    "    row_ix = where(y == label)[0]\n",
    "    pyplot.scatter(X[row_ix, 0], X[row_ix, 1], label=str(label))\n",
    "pyplot.legend()\n",
    "pyplot.show()"
   ]
  },
  {
   "cell_type": "markdown",
   "id": "42dbcb73",
   "metadata": {},
   "source": [
    "### Feature Transformation:\n",
    "\n",
    "#### Imputing\n",
    "Some algorithms are very sensitive to missing values. Therefore, imputing allows for filling of empty fields based on its value distribution.\n",
    "\n",
    "NA. Missing values filled in during EDA so no missing values.\n",
    "#### Imputed time-series quantization\n",
    "Time series often contain streams with measurements at different timestamps. Therefore, it is beneficial to quantize measurements to a common “heart beat” and impute the corresponding values. This can be done by sampling from the source time series distributions on the respective quantized time steps.\n",
    "\n",
    "NA, Data is not time series.\n",
    "#### Filtering\n",
    "Sometimes imputing values doesn’t perform well, therefore deletion of low quality records is a better strategy.\n",
    "\n",
    "NA. Cleaned in ETL\n"
   ]
  },
  {
   "cell_type": "markdown",
   "id": "b9878c6d",
   "metadata": {},
   "source": [
    "## Dealing with Imbalanced Data"
   ]
  },
  {
   "cell_type": "markdown",
   "id": "4ed73a2e",
   "metadata": {},
   "source": [
    "#### From viewing a previous plot and the value counts we can see that we have an imblanced dataset"
   ]
  },
  {
   "cell_type": "markdown",
   "id": "d08cd982",
   "metadata": {},
   "source": [
    "#### Let's have a look at the class distributions again"
   ]
  },
  {
   "cell_type": "code",
   "execution_count": 14,
   "id": "80610607",
   "metadata": {},
   "outputs": [
    {
     "name": "stdout",
     "output_type": "stream",
     "text": [
      "Class=2, n=1099 (10.974%)\n",
      "Class=4, n=6705 (66.950%)\n",
      "Class=3, n=115 (1.148%)\n",
      "Class=6, n=1113 (11.113%)\n",
      "Class=5, n=142 (1.418%)\n",
      "Class=1, n=514 (5.132%)\n",
      "Class=0, n=327 (3.265%)\n"
     ]
    },
    {
     "data": {
      "image/png": "[encoded data removed]",
      "text/plain": [
       "<Figure size 432x288 with 1 Axes>"
      ]
     },
     "metadata": {
      "needs_background": "light"
     },
     "output_type": "display_data"
    }
   ],
   "source": [
    "#from imblearn.over_sampling import SMOTE\n",
    "from sklearn.preprocessing import LabelEncoder\n",
    "\n",
    "# label encode the target variable\n",
    "y = LabelEncoder().fit_transform(y)\n",
    "\n",
    "# summarize distribution\n",
    "counter = Counter(y)\n",
    "for k,v in counter.items():\n",
    "    per = v / len(y) * 100\n",
    "    print('Class=%d, n=%d (%.3f%%)' % (k, v, per))\n",
    "# plot the distribution\n",
    "pyplot.bar(counter.keys(), counter.values())\n",
    "pyplot.show()"
   ]
  },
  {
   "cell_type": "markdown",
   "id": "54abb7c3",
   "metadata": {},
   "source": [
    "### Using the Default SMOTE Strategy to oversample all classes to the number of examples in the majority class"
   ]
  },
  {
   "cell_type": "code",
   "execution_count": 16,
   "id": "e943971c",
   "metadata": {},
   "outputs": [
    {
     "name": "stdout",
     "output_type": "stream",
     "text": [
      "Class=2, n=6705 (14.286%)\n",
      "Class=4, n=6705 (14.286%)\n",
      "Class=3, n=6705 (14.286%)\n",
      "Class=6, n=6705 (14.286%)\n",
      "Class=5, n=6705 (14.286%)\n",
      "Class=1, n=6705 (14.286%)\n",
      "Class=0, n=6705 (14.286%)\n"
     ]
    },
    {
     "data": {
      "image/png": "[encoded data removed]",
      "text/plain": [
       "<Figure size 432x288 with 1 Axes>"
      ]
     },
     "metadata": {
      "needs_background": "light"
     },
     "output_type": "display_data"
    }
   ],
   "source": [
    "#Default SMOTE Strategy to oversample all classes to the number of examples in the majority class\n",
    "#!pip install imblearn\n",
    "#!pip install delayed\n",
    "from imblearn.over_sampling import SMOTE\n",
    "#import sklearn.utils.fixes\n",
    "from imblearn.over_sampling import SMOTE\n",
    "\n",
    "\n",
    "# label encode the target variable\n",
    "y = LabelEncoder().fit_transform(y)\n",
    "\n",
    "# transform the dataset\n",
    "oversample = SMOTE()\n",
    "X, y = oversample.fit_resample(X, y)\n",
    "\n",
    "# summarize distribution\n",
    "counter = Counter(y)\n",
    "for k,v in counter.items():\n",
    "    per = v / len(y) * 100\n",
    "    print('Class=%d, n=%d (%.3f%%)' % (k, v, per))\n",
    "# plot the distribution\n",
    "pyplot.bar(counter.keys(), counter.values())\n",
    "pyplot.show()"
   ]
  },
  {
   "cell_type": "markdown",
   "id": "5a034c53",
   "metadata": {},
   "source": [
    "#### Scaling / Normalizing / Centering\n",
    "Some algorithms are very sensitive differences in value ranges for individual fields. Therefore, it is best practice to center data around zero and scale values to a standard deviation of one.\n",
    "\n",
    "Note: Fitting must be done on the training data to avoid 'leaking' from test data.\n"
   ]
  },
  {
   "cell_type": "markdown",
   "id": "a2c07eea",
   "metadata": {},
   "source": [
    "## Scaling and PCA"
   ]
  },
  {
   "cell_type": "code",
   "execution_count": 17,
   "id": "495aecbe",
   "metadata": {},
   "outputs": [],
   "source": [
    "# Using 90% for training and 10% for testing\n",
    "from sklearn.model_selection import train_test_split\n",
    "\n",
    "X_train,X_test, y_train,y_test = train_test_split(X,y,train_size=0.9,random_state=0)\n",
    "X_train = X_train.astype('float32')\n",
    "X_test = X_test.astype('float32')"
   ]
  },
  {
   "cell_type": "code",
   "execution_count": 18,
   "id": "37aef09b",
   "metadata": {},
   "outputs": [
    {
     "data": {
      "text/plain": [
       "(42241, 2355)"
      ]
     },
     "execution_count": 18,
     "metadata": {},
     "output_type": "execute_result"
    }
   ],
   "source": [
    "X_train.shape"
   ]
  },
  {
   "cell_type": "code",
   "execution_count": 19,
   "id": "300ddecc",
   "metadata": {},
   "outputs": [
    {
     "data": {
      "text/plain": [
       "(4694, 2355)"
      ]
     },
     "execution_count": 19,
     "metadata": {},
     "output_type": "execute_result"
    }
   ],
   "source": [
    "X_test.shape"
   ]
  },
  {
   "cell_type": "markdown",
   "id": "278c2140",
   "metadata": {},
   "source": [
    "## Standard Scaler"
   ]
  },
  {
   "cell_type": "code",
   "execution_count": 20,
   "id": "9f79819a",
   "metadata": {},
   "outputs": [],
   "source": [
    "from sklearn.preprocessing import StandardScaler\n",
    "scaler = StandardScaler()\n",
    "\n",
    "# Fit on training set only.\n",
    "scaler.fit(X_train)\n",
    "\n",
    "# Apply transform to both the training set and the test set.\n",
    "X_train = scaler.transform(X_train)\n",
    "X_test = scaler.transform(X_test)"
   ]
  },
  {
   "cell_type": "markdown",
   "id": "ab18ddaf",
   "metadata": {},
   "source": [
    "## PCA"
   ]
  },
  {
   "cell_type": "markdown",
   "id": "1b18745f",
   "metadata": {},
   "source": [
    "The code below has .95 for the number of components parameter. Scikit-learn will choose the minimum number of principal components required to retain 95% of the variance.\n"
   ]
  },
  {
   "cell_type": "code",
   "execution_count": 21,
   "id": "955d75f7",
   "metadata": {},
   "outputs": [],
   "source": [
    "from sklearn.decomposition import PCA\n",
    "\n",
    "#Make an instance of the Model\n",
    "pca = PCA(.95)"
   ]
  },
  {
   "cell_type": "code",
   "execution_count": 22,
   "id": "9ea7f493",
   "metadata": {},
   "outputs": [
    {
     "data": {
      "text/plain": [
       "PCA(n_components=0.95)"
      ]
     },
     "execution_count": 22,
     "metadata": {},
     "output_type": "execute_result"
    }
   ],
   "source": [
    "#Fit PCA on training set\n",
    "pca.fit(X_train)"
   ]
  },
  {
   "cell_type": "markdown",
   "id": "69101c57",
   "metadata": {},
   "source": [
    "### Display the number of componenets chosen from PCA"
   ]
  },
  {
   "cell_type": "code",
   "execution_count": 23,
   "id": "5a33dd0e",
   "metadata": {},
   "outputs": [
    {
     "data": {
      "text/plain": [
       "58"
      ]
     },
     "execution_count": 23,
     "metadata": {},
     "output_type": "execute_result"
    }
   ],
   "source": [
    "pca.n_components_"
   ]
  },
  {
   "cell_type": "markdown",
   "id": "73582f53",
   "metadata": {},
   "source": [
    "### Apply the mapping (transform) to both the training set and the test set."
   ]
  },
  {
   "cell_type": "code",
   "execution_count": 24,
   "id": "b651dbd8",
   "metadata": {},
   "outputs": [],
   "source": [
    "X_train = pca.transform(X_train)\n",
    "X_test = pca.transform(X_test)"
   ]
  },
  {
   "cell_type": "code",
   "execution_count": 25,
   "id": "b5243404",
   "metadata": {},
   "outputs": [
    {
     "data": {
      "text/plain": [
       "(4694, 58)"
      ]
     },
     "execution_count": 25,
     "metadata": {},
     "output_type": "execute_result"
    }
   ],
   "source": [
    "X_test.shape"
   ]
  },
  {
   "cell_type": "code",
   "execution_count": 26,
   "id": "6b1aa9f5",
   "metadata": {},
   "outputs": [
    {
     "data": {
      "text/plain": [
       "(42241, 58)"
      ]
     },
     "execution_count": 26,
     "metadata": {},
     "output_type": "execute_result"
    }
   ],
   "source": [
    "X_train.shape"
   ]
  },
  {
   "cell_type": "code",
   "execution_count": null,
   "id": "39bec8d2",
   "metadata": {},
   "outputs": [],
   "source": []
  }
 ],
 "metadata": {
  "kernelspec": {
   "display_name": "Python 3",
   "language": "python",
   "name": "python3"
  },
  "language_info": {
   "codemirror_mode": {
    "name": "ipython",
    "version": 3
   },
   "file_extension": ".py",
   "mimetype": "text/x-python",
   "name": "python",
   "nbconvert_exporter": "python",
   "pygments_lexer": "ipython3",
   "version": "3.7.4"
  }
 },
 "nbformat": 4,
 "nbformat_minor": 5
}
