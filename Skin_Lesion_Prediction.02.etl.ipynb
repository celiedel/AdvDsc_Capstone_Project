{
 "cells": [
  {
   "cell_type": "markdown",
   "id": "f20d2e84",
   "metadata": {},
   "source": [
    "# Skin Lesion Prediction- ETL - Data Cleaning\n",
    "This task is to transform the data into data suitable for analytics.\n",
    "It involves cleaning the data, extracting the features and joining another dataset."
   ]
  },
  {
   "cell_type": "markdown",
   "id": "bbda9c59",
   "metadata": {},
   "source": [
    "### Data Cleaning\n",
    "You can use the following non-exhaustive list as guidelines:\n",
    "    \n",
    "    \n",
    "#### * Data types\n",
    "  Are data types of columns matching their content? E.g. is age stored as integer and not as string?\n",
    "#### * Ranges\n",
    "  Does the value distribution of values in a column make sense? Use stats (e.g. min, max, mean, standard  \n",
    "  deviation) and visualizations (e.g. box-plot, histogram) for help. \n",
    "#### * Emptiness\n",
    "  Are all values non-null where mandatory? E.g. client IDs\n",
    "#### * Uniqueness\n",
    "  Are duplicates present where undesired? E.g. client IDs\n",
    "#### * Set Memberships\n",
    "  Are only allowed values chosen for categorical or ordinal fields? E.g. Female, Male, Unknown\n",
    "#### * Foreign Memberships\n",
    "  Are only allowed values chosen a field?\n",
    "#### * Regular Expressions\n",
    "  Some files need to stick to a pattern expressed by a regular expression. E.g. a lower-case character  \n",
    "  followed by 6 digits.\n",
    "#### * Cross-field validation \n",
    "  Some fields can impact validity of other fields. E.g. a male person can’t be pregnant."
   ]
  },
  {
   "cell_type": "code",
   "execution_count": 1,
   "id": "0b806679",
   "metadata": {},
   "outputs": [],
   "source": [
    "# imports\n",
    "import numpy as np\n",
    "import pandas as pd\n",
    "#!pip install pandas-profiling\n",
    "import pandas_profiling\n",
    "from pandas_profiling import ProfileReport\n",
    "import matplotlib.pyplot as plt\n",
    "import seaborn as sns\n",
    "%matplotlib inline"
   ]
  },
  {
   "cell_type": "code",
   "execution_count": 2,
   "id": "a87036a1",
   "metadata": {
    "scrolled": true
   },
   "outputs": [
    {
     "data": {
      "text/html": [
       "<div>\n",
       "<style scoped>\n",
       "    .dataframe tbody tr th:only-of-type {\n",
       "        vertical-align: middle;\n",
       "    }\n",
       "\n",
       "    .dataframe tbody tr th {\n",
       "        vertical-align: top;\n",
       "    }\n",
       "\n",
       "    .dataframe thead th {\n",
       "        text-align: right;\n",
       "    }\n",
       "</style>\n",
       "<table border=\"1\" class=\"dataframe\">\n",
       "  <thead>\n",
       "    <tr style=\"text-align: right;\">\n",
       "      <th></th>\n",
       "      <th>0</th>\n",
       "      <th>1</th>\n",
       "      <th>2</th>\n",
       "      <th>3</th>\n",
       "      <th>4</th>\n",
       "    </tr>\n",
       "  </thead>\n",
       "  <tbody>\n",
       "    <tr>\n",
       "      <th>lesion_id</th>\n",
       "      <td>0</td>\n",
       "      <td>0</td>\n",
       "      <td>1</td>\n",
       "      <td>1</td>\n",
       "      <td>2</td>\n",
       "    </tr>\n",
       "    <tr>\n",
       "      <th>image_id</th>\n",
       "      <td>0</td>\n",
       "      <td>1</td>\n",
       "      <td>2</td>\n",
       "      <td>3</td>\n",
       "      <td>4</td>\n",
       "    </tr>\n",
       "    <tr>\n",
       "      <th>dx</th>\n",
       "      <td>0</td>\n",
       "      <td>0</td>\n",
       "      <td>0</td>\n",
       "      <td>0</td>\n",
       "      <td>0</td>\n",
       "    </tr>\n",
       "    <tr>\n",
       "      <th>dx_type</th>\n",
       "      <td>0</td>\n",
       "      <td>0</td>\n",
       "      <td>0</td>\n",
       "      <td>0</td>\n",
       "      <td>0</td>\n",
       "    </tr>\n",
       "    <tr>\n",
       "      <th>sex</th>\n",
       "      <td>0</td>\n",
       "      <td>0</td>\n",
       "      <td>0</td>\n",
       "      <td>0</td>\n",
       "      <td>0</td>\n",
       "    </tr>\n",
       "    <tr>\n",
       "      <th>localization</th>\n",
       "      <td>0</td>\n",
       "      <td>0</td>\n",
       "      <td>0</td>\n",
       "      <td>0</td>\n",
       "      <td>1</td>\n",
       "    </tr>\n",
       "    <tr>\n",
       "      <th>age</th>\n",
       "      <td>80</td>\n",
       "      <td>80</td>\n",
       "      <td>80</td>\n",
       "      <td>80</td>\n",
       "      <td>75</td>\n",
       "    </tr>\n",
       "  </tbody>\n",
       "</table>\n",
       "</div>"
      ],
      "text/plain": [
       "               0   1   2   3   4\n",
       "lesion_id      0   0   1   1   2\n",
       "image_id       0   1   2   3   4\n",
       "dx             0   0   0   0   0\n",
       "dx_type        0   0   0   0   0\n",
       "sex            0   0   0   0   0\n",
       "localization   0   0   0   0   1\n",
       "age           80  80  80  80  75"
      ]
     },
     "execution_count": 2,
     "metadata": {},
     "output_type": "execute_result"
    }
   ],
   "source": [
    "skin_met = pd.read_csv('skin_met.csv')\n",
    "skin_met.head().T"
   ]
  },
  {
   "cell_type": "markdown",
   "id": "cf11f7a4",
   "metadata": {},
   "source": [
    "#### Data types\n",
    "Are data types matching? (e.g is age stored as an integer and not as a string?)"
   ]
  },
  {
   "cell_type": "code",
   "execution_count": 3,
   "id": "91a505a9",
   "metadata": {},
   "outputs": [
    {
     "data": {
      "text/plain": [
       "lesion_id       int64\n",
       "image_id        int64\n",
       "dx              int64\n",
       "dx_type         int64\n",
       "sex             int64\n",
       "localization    int64\n",
       "age             int64\n",
       "dtype: object"
      ]
     },
     "execution_count": 3,
     "metadata": {},
     "output_type": "execute_result"
    }
   ],
   "source": [
    "skin_met.dtypes"
   ]
  },
  {
   "cell_type": "markdown",
   "id": "4ac5381d",
   "metadata": {},
   "source": [
    "#### Ranges\n",
    "Does the value distribution of values in a column make sense? Use stats (e.g. min, max, mean, standard\n",
    "deviation) and visualizations (e.g. box-plot, histogram) for help. "
   ]
  },
  {
   "cell_type": "code",
   "execution_count": 4,
   "id": "3c93cce5",
   "metadata": {
    "scrolled": false
   },
   "outputs": [
    {
     "data": {
      "text/html": [
       "<div>\n",
       "<style scoped>\n",
       "    .dataframe tbody tr th:only-of-type {\n",
       "        vertical-align: middle;\n",
       "    }\n",
       "\n",
       "    .dataframe tbody tr th {\n",
       "        vertical-align: top;\n",
       "    }\n",
       "\n",
       "    .dataframe thead th {\n",
       "        text-align: right;\n",
       "    }\n",
       "</style>\n",
       "<table border=\"1\" class=\"dataframe\">\n",
       "  <thead>\n",
       "    <tr style=\"text-align: right;\">\n",
       "      <th></th>\n",
       "      <th>count</th>\n",
       "      <th>mean</th>\n",
       "      <th>std</th>\n",
       "      <th>min</th>\n",
       "      <th>25%</th>\n",
       "      <th>50%</th>\n",
       "      <th>75%</th>\n",
       "      <th>max</th>\n",
       "    </tr>\n",
       "  </thead>\n",
       "  <tbody>\n",
       "    <tr>\n",
       "      <th>lesion_id</th>\n",
       "      <td>10015.0</td>\n",
       "      <td>3774.381628</td>\n",
       "      <td>2318.866296</td>\n",
       "      <td>0.0</td>\n",
       "      <td>1534.5</td>\n",
       "      <td>3865.0</td>\n",
       "      <td>5936.5</td>\n",
       "      <td>7469.0</td>\n",
       "    </tr>\n",
       "    <tr>\n",
       "      <th>image_id</th>\n",
       "      <td>10015.0</td>\n",
       "      <td>5007.000000</td>\n",
       "      <td>2891.225807</td>\n",
       "      <td>0.0</td>\n",
       "      <td>2503.5</td>\n",
       "      <td>5007.0</td>\n",
       "      <td>7510.5</td>\n",
       "      <td>10014.0</td>\n",
       "    </tr>\n",
       "    <tr>\n",
       "      <th>dx</th>\n",
       "      <td>10015.0</td>\n",
       "      <td>1.535097</td>\n",
       "      <td>1.429923</td>\n",
       "      <td>0.0</td>\n",
       "      <td>1.0</td>\n",
       "      <td>1.0</td>\n",
       "      <td>1.0</td>\n",
       "      <td>6.0</td>\n",
       "    </tr>\n",
       "    <tr>\n",
       "      <th>dx_type</th>\n",
       "      <td>10015.0</td>\n",
       "      <td>1.213380</td>\n",
       "      <td>1.405040</td>\n",
       "      <td>0.0</td>\n",
       "      <td>0.0</td>\n",
       "      <td>0.0</td>\n",
       "      <td>3.0</td>\n",
       "      <td>3.0</td>\n",
       "    </tr>\n",
       "    <tr>\n",
       "      <th>sex</th>\n",
       "      <td>10015.0</td>\n",
       "      <td>0.465901</td>\n",
       "      <td>0.510143</td>\n",
       "      <td>0.0</td>\n",
       "      <td>0.0</td>\n",
       "      <td>0.0</td>\n",
       "      <td>1.0</td>\n",
       "      <td>2.0</td>\n",
       "    </tr>\n",
       "    <tr>\n",
       "      <th>localization</th>\n",
       "      <td>10015.0</td>\n",
       "      <td>5.776635</td>\n",
       "      <td>2.966381</td>\n",
       "      <td>0.0</td>\n",
       "      <td>3.0</td>\n",
       "      <td>6.0</td>\n",
       "      <td>9.0</td>\n",
       "      <td>14.0</td>\n",
       "    </tr>\n",
       "    <tr>\n",
       "      <th>age</th>\n",
       "      <td>10015.0</td>\n",
       "      <td>51.858912</td>\n",
       "      <td>16.920377</td>\n",
       "      <td>0.0</td>\n",
       "      <td>40.0</td>\n",
       "      <td>50.0</td>\n",
       "      <td>65.0</td>\n",
       "      <td>85.0</td>\n",
       "    </tr>\n",
       "  </tbody>\n",
       "</table>\n",
       "</div>"
      ],
      "text/plain": [
       "                count         mean          std  min     25%     50%     75%  \\\n",
       "lesion_id     10015.0  3774.381628  2318.866296  0.0  1534.5  3865.0  5936.5   \n",
       "image_id      10015.0  5007.000000  2891.225807  0.0  2503.5  5007.0  7510.5   \n",
       "dx            10015.0     1.535097     1.429923  0.0     1.0     1.0     1.0   \n",
       "dx_type       10015.0     1.213380     1.405040  0.0     0.0     0.0     3.0   \n",
       "sex           10015.0     0.465901     0.510143  0.0     0.0     0.0     1.0   \n",
       "localization  10015.0     5.776635     2.966381  0.0     3.0     6.0     9.0   \n",
       "age           10015.0    51.858912    16.920377  0.0    40.0    50.0    65.0   \n",
       "\n",
       "                  max  \n",
       "lesion_id      7469.0  \n",
       "image_id      10014.0  \n",
       "dx                6.0  \n",
       "dx_type           3.0  \n",
       "sex               2.0  \n",
       "localization     14.0  \n",
       "age              85.0  "
      ]
     },
     "execution_count": 4,
     "metadata": {},
     "output_type": "execute_result"
    }
   ],
   "source": [
    "skin_met.describe().T"
   ]
  },
  {
   "cell_type": "markdown",
   "id": "7bc57ac3",
   "metadata": {},
   "source": [
    "#### lesion_id and image_id are not useful in the above data frame. "
   ]
  },
  {
   "cell_type": "code",
   "execution_count": 5,
   "id": "a486e016",
   "metadata": {},
   "outputs": [
    {
     "data": {
      "image/png": "[encoded data removed]",
      "text/plain": [
       "<Figure size 432x288 with 1 Axes>"
      ]
     },
     "metadata": {
      "needs_background": "light"
     },
     "output_type": "display_data"
    }
   ],
   "source": [
    "sns.histplot(skin_met.age);"
   ]
  },
  {
   "cell_type": "code",
   "execution_count": 6,
   "id": "6c7aab26",
   "metadata": {},
   "outputs": [
    {
     "data": {
      "image/png": "[encoded data removed]",
      "text/plain": [
       "<Figure size 432x288 with 1 Axes>"
      ]
     },
     "metadata": {
      "needs_background": "light"
     },
     "output_type": "display_data"
    }
   ],
   "source": [
    "sns.histplot(skin_met.localization);"
   ]
  },
  {
   "cell_type": "code",
   "execution_count": 7,
   "id": "63302639",
   "metadata": {
    "scrolled": true
   },
   "outputs": [
    {
     "data": {
      "image/png": "[encoded data removed]",
      "text/plain": [
       "<Figure size 432x288 with 1 Axes>"
      ]
     },
     "metadata": {
      "needs_background": "light"
     },
     "output_type": "display_data"
    }
   ],
   "source": [
    "sns.histplot(skin_met.sex);"
   ]
  },
  {
   "cell_type": "markdown",
   "id": "823e7c78",
   "metadata": {},
   "source": [
    "Note: Male = 0, Female = 1"
   ]
  },
  {
   "cell_type": "code",
   "execution_count": 8,
   "id": "c95eb078",
   "metadata": {
    "scrolled": true
   },
   "outputs": [
    {
     "data": {
      "image/png": "[encoded data removed]",
      "text/plain": [
       "<Figure size 432x288 with 1 Axes>"
      ]
     },
     "metadata": {
      "needs_background": "light"
     },
     "output_type": "display_data"
    }
   ],
   "source": [
    "sns.histplot(skin_met.dx_type);"
   ]
  },
  {
   "cell_type": "code",
   "execution_count": 9,
   "id": "4ca3884d",
   "metadata": {},
   "outputs": [
    {
     "data": {
      "image/png": "[encoded data removed]",
      "text/plain": [
       "<Figure size 432x288 with 1 Axes>"
      ]
     },
     "metadata": {
      "needs_background": "light"
     },
     "output_type": "display_data"
    }
   ],
   "source": [
    "sns.histplot(skin_met.dx);"
   ]
  },
  {
   "cell_type": "markdown",
   "id": "3720d419",
   "metadata": {},
   "source": [
    "#### Emptiness\n",
    "Are all values non-null where mandatory? E.g. client IDs"
   ]
  },
  {
   "cell_type": "code",
   "execution_count": 10,
   "id": "6b42b853",
   "metadata": {},
   "outputs": [
    {
     "name": "stdout",
     "output_type": "stream",
     "text": [
      "Missing values: 0\n"
     ]
    }
   ],
   "source": [
    "#Check for missing values\n",
    "print(\"Missing values:\",skin_met.isna().sum().sum())"
   ]
  },
  {
   "cell_type": "markdown",
   "id": "5f8e782f",
   "metadata": {},
   "source": [
    "Have a look at the high cardinality features"
   ]
  },
  {
   "cell_type": "code",
   "execution_count": 11,
   "id": "cafe5aee",
   "metadata": {
    "scrolled": true
   },
   "outputs": [
    {
     "data": {
      "text/plain": [
       "image_id        10015\n",
       "lesion_id        7470\n",
       "age                19\n",
       "localization       15\n",
       "dx                  7\n",
       "dx_type             4\n",
       "sex                 3\n",
       "dtype: int64"
      ]
     },
     "execution_count": 11,
     "metadata": {},
     "output_type": "execute_result"
    }
   ],
   "source": [
    "# Find high cardinality features\n",
    "high_cardinality = (skin_met\n",
    "     .select_dtypes(include=['int64'])\n",
    "     .apply(lambda x: x.nunique(), axis=0) # columns\n",
    "     .sort_values(ascending=False)\n",
    ")\n",
    "high_cardinality"
   ]
  },
  {
   "cell_type": "markdown",
   "id": "4c6a2571",
   "metadata": {},
   "source": [
    "#### * Uniqueness\n",
    "Are duplicates present where undesired? E.g. client IDs"
   ]
  },
  {
   "cell_type": "code",
   "execution_count": 13,
   "id": "e6355c96",
   "metadata": {},
   "outputs": [
    {
     "name": "stdout",
     "output_type": "stream",
     "text": [
      "Data has 10015 rows. Number of unique rows is lesion_id        7470\n",
      "image_id        10015\n",
      "dx                  7\n",
      "dx_type             4\n",
      "sex                 3\n",
      "localization       15\n",
      "age                19\n",
      "dtype: int64.\n"
     ]
    }
   ],
   "source": [
    "print(f'Data has {skin_met.shape[0]} rows. Number of unique rows is {skin_met.nunique()}.')"
   ]
  },
  {
   "cell_type": "markdown",
   "id": "3bd1567f",
   "metadata": {},
   "source": [
    "#### * Set Memberships\n",
    "Are only allowed values chosen for categorical or ordinal fields? E.g. Female, Male, Unknown: -\n",
    "#### All good"
   ]
  },
  {
   "cell_type": "markdown",
   "id": "80baf134",
   "metadata": {},
   "source": [
    "* Foreign Memberships\n",
    "Are only allowed values chosen a field?\n",
    "#### NA\n",
    "\n",
    "\n",
    "* Regular Expressions\n",
    "Some files need to stick to a pattern expressed by a regular expression. E.g. a lower-case character\n",
    "followed by 6 digits.\n",
    "#### NA\n",
    "\n",
    "\n",
    "* Cross-field validation\n",
    "Some fields can impact validity of other fields. E.g. a male person can’t be pregnant.\n",
    "#### NA"
   ]
  },
  {
   "cell_type": "markdown",
   "id": "9b80ea94",
   "metadata": {},
   "source": [
    "### Drop unnecessary and redundant columns"
   ]
  },
  {
   "cell_type": "code",
   "execution_count": 14,
   "id": "7a417416",
   "metadata": {},
   "outputs": [
    {
     "data": {
      "text/html": [
       "<div>\n",
       "<style scoped>\n",
       "    .dataframe tbody tr th:only-of-type {\n",
       "        vertical-align: middle;\n",
       "    }\n",
       "\n",
       "    .dataframe tbody tr th {\n",
       "        vertical-align: top;\n",
       "    }\n",
       "\n",
       "    .dataframe thead th {\n",
       "        text-align: right;\n",
       "    }\n",
       "</style>\n",
       "<table border=\"1\" class=\"dataframe\">\n",
       "  <thead>\n",
       "    <tr style=\"text-align: right;\">\n",
       "      <th></th>\n",
       "      <th>sex</th>\n",
       "      <th>localization</th>\n",
       "      <th>age</th>\n",
       "    </tr>\n",
       "  </thead>\n",
       "  <tbody>\n",
       "    <tr>\n",
       "      <th>0</th>\n",
       "      <td>0</td>\n",
       "      <td>0</td>\n",
       "      <td>80</td>\n",
       "    </tr>\n",
       "    <tr>\n",
       "      <th>1</th>\n",
       "      <td>0</td>\n",
       "      <td>0</td>\n",
       "      <td>80</td>\n",
       "    </tr>\n",
       "    <tr>\n",
       "      <th>2</th>\n",
       "      <td>0</td>\n",
       "      <td>0</td>\n",
       "      <td>80</td>\n",
       "    </tr>\n",
       "    <tr>\n",
       "      <th>3</th>\n",
       "      <td>0</td>\n",
       "      <td>0</td>\n",
       "      <td>80</td>\n",
       "    </tr>\n",
       "    <tr>\n",
       "      <th>4</th>\n",
       "      <td>0</td>\n",
       "      <td>1</td>\n",
       "      <td>75</td>\n",
       "    </tr>\n",
       "  </tbody>\n",
       "</table>\n",
       "</div>"
      ],
      "text/plain": [
       "   sex  localization  age\n",
       "0    0             0   80\n",
       "1    0             0   80\n",
       "2    0             0   80\n",
       "3    0             0   80\n",
       "4    0             1   75"
      ]
     },
     "execution_count": 14,
     "metadata": {},
     "output_type": "execute_result"
    }
   ],
   "source": [
    "#Drop redundant and unnecessary columns\n",
    "skin_met.drop(columns=['lesion_id','image_id','dx','dx_type'],inplace=True)\n",
    "skin_met.head()"
   ]
  },
  {
   "cell_type": "markdown",
   "id": "d15af557",
   "metadata": {},
   "source": [
    "### Save clean data"
   ]
  },
  {
   "cell_type": "code",
   "execution_count": 15,
   "id": "3079bb6d",
   "metadata": {},
   "outputs": [],
   "source": [
    "skin_met.to_csv('skin_met_cleaned.csv',index=False)"
   ]
  },
  {
   "cell_type": "code",
   "execution_count": 16,
   "id": "c7976762",
   "metadata": {},
   "outputs": [
    {
     "data": {
      "text/html": [
       "<div>\n",
       "<style scoped>\n",
       "    .dataframe tbody tr th:only-of-type {\n",
       "        vertical-align: middle;\n",
       "    }\n",
       "\n",
       "    .dataframe tbody tr th {\n",
       "        vertical-align: top;\n",
       "    }\n",
       "\n",
       "    .dataframe thead th {\n",
       "        text-align: right;\n",
       "    }\n",
       "</style>\n",
       "<table border=\"1\" class=\"dataframe\">\n",
       "  <thead>\n",
       "    <tr style=\"text-align: right;\">\n",
       "      <th></th>\n",
       "      <th>sex</th>\n",
       "      <th>localization</th>\n",
       "      <th>age</th>\n",
       "    </tr>\n",
       "  </thead>\n",
       "  <tbody>\n",
       "    <tr>\n",
       "      <th>0</th>\n",
       "      <td>0</td>\n",
       "      <td>0</td>\n",
       "      <td>80</td>\n",
       "    </tr>\n",
       "    <tr>\n",
       "      <th>1</th>\n",
       "      <td>0</td>\n",
       "      <td>0</td>\n",
       "      <td>80</td>\n",
       "    </tr>\n",
       "    <tr>\n",
       "      <th>2</th>\n",
       "      <td>0</td>\n",
       "      <td>0</td>\n",
       "      <td>80</td>\n",
       "    </tr>\n",
       "    <tr>\n",
       "      <th>3</th>\n",
       "      <td>0</td>\n",
       "      <td>0</td>\n",
       "      <td>80</td>\n",
       "    </tr>\n",
       "    <tr>\n",
       "      <th>4</th>\n",
       "      <td>0</td>\n",
       "      <td>1</td>\n",
       "      <td>75</td>\n",
       "    </tr>\n",
       "  </tbody>\n",
       "</table>\n",
       "</div>"
      ],
      "text/plain": [
       "   sex  localization  age\n",
       "0    0             0   80\n",
       "1    0             0   80\n",
       "2    0             0   80\n",
       "3    0             0   80\n",
       "4    0             1   75"
      ]
     },
     "execution_count": 16,
     "metadata": {},
     "output_type": "execute_result"
    }
   ],
   "source": [
    "skin_met = pd.read_csv('skin_met_cleaned.csv')\n",
    "skin_met.head()"
   ]
  },
  {
   "cell_type": "markdown",
   "id": "ab864bbb",
   "metadata": {},
   "source": [
    "### Join hmnist dataset with the metadata and save to new csv file"
   ]
  },
  {
   "cell_type": "code",
   "execution_count": 24,
   "id": "3f287a9c",
   "metadata": {},
   "outputs": [
    {
     "data": {
      "text/html": [
       "<div>\n",
       "<style scoped>\n",
       "    .dataframe tbody tr th:only-of-type {\n",
       "        vertical-align: middle;\n",
       "    }\n",
       "\n",
       "    .dataframe tbody tr th {\n",
       "        vertical-align: top;\n",
       "    }\n",
       "\n",
       "    .dataframe thead th {\n",
       "        text-align: right;\n",
       "    }\n",
       "</style>\n",
       "<table border=\"1\" class=\"dataframe\">\n",
       "  <thead>\n",
       "    <tr style=\"text-align: right;\">\n",
       "      <th></th>\n",
       "      <th>0</th>\n",
       "      <th>1</th>\n",
       "      <th>2</th>\n",
       "      <th>3</th>\n",
       "      <th>4</th>\n",
       "    </tr>\n",
       "  </thead>\n",
       "  <tbody>\n",
       "    <tr>\n",
       "      <th>pixel0000</th>\n",
       "      <td>192</td>\n",
       "      <td>25</td>\n",
       "      <td>192</td>\n",
       "      <td>38</td>\n",
       "      <td>158</td>\n",
       "    </tr>\n",
       "    <tr>\n",
       "      <th>pixel0001</th>\n",
       "      <td>153</td>\n",
       "      <td>14</td>\n",
       "      <td>138</td>\n",
       "      <td>19</td>\n",
       "      <td>113</td>\n",
       "    </tr>\n",
       "    <tr>\n",
       "      <th>pixel0002</th>\n",
       "      <td>193</td>\n",
       "      <td>30</td>\n",
       "      <td>153</td>\n",
       "      <td>30</td>\n",
       "      <td>139</td>\n",
       "    </tr>\n",
       "    <tr>\n",
       "      <th>pixel0003</th>\n",
       "      <td>195</td>\n",
       "      <td>68</td>\n",
       "      <td>200</td>\n",
       "      <td>95</td>\n",
       "      <td>194</td>\n",
       "    </tr>\n",
       "    <tr>\n",
       "      <th>pixel0004</th>\n",
       "      <td>155</td>\n",
       "      <td>48</td>\n",
       "      <td>145</td>\n",
       "      <td>59</td>\n",
       "      <td>144</td>\n",
       "    </tr>\n",
       "    <tr>\n",
       "      <th>...</th>\n",
       "      <td>...</td>\n",
       "      <td>...</td>\n",
       "      <td>...</td>\n",
       "      <td>...</td>\n",
       "      <td>...</td>\n",
       "    </tr>\n",
       "    <tr>\n",
       "      <th>pixel2348</th>\n",
       "      <td>166</td>\n",
       "      <td>28</td>\n",
       "      <td>142</td>\n",
       "      <td>17</td>\n",
       "      <td>149</td>\n",
       "    </tr>\n",
       "    <tr>\n",
       "      <th>pixel2349</th>\n",
       "      <td>185</td>\n",
       "      <td>25</td>\n",
       "      <td>136</td>\n",
       "      <td>25</td>\n",
       "      <td>109</td>\n",
       "    </tr>\n",
       "    <tr>\n",
       "      <th>pixel2350</th>\n",
       "      <td>154</td>\n",
       "      <td>14</td>\n",
       "      <td>104</td>\n",
       "      <td>12</td>\n",
       "      <td>78</td>\n",
       "    </tr>\n",
       "    <tr>\n",
       "      <th>pixel2351</th>\n",
       "      <td>177</td>\n",
       "      <td>27</td>\n",
       "      <td>117</td>\n",
       "      <td>15</td>\n",
       "      <td>92</td>\n",
       "    </tr>\n",
       "    <tr>\n",
       "      <th>label</th>\n",
       "      <td>2</td>\n",
       "      <td>2</td>\n",
       "      <td>2</td>\n",
       "      <td>2</td>\n",
       "      <td>2</td>\n",
       "    </tr>\n",
       "  </tbody>\n",
       "</table>\n",
       "<p>2353 rows × 5 columns</p>\n",
       "</div>"
      ],
      "text/plain": [
       "             0   1    2   3    4\n",
       "pixel0000  192  25  192  38  158\n",
       "pixel0001  153  14  138  19  113\n",
       "pixel0002  193  30  153  30  139\n",
       "pixel0003  195  68  200  95  194\n",
       "pixel0004  155  48  145  59  144\n",
       "...        ...  ..  ...  ..  ...\n",
       "pixel2348  166  28  142  17  149\n",
       "pixel2349  185  25  136  25  109\n",
       "pixel2350  154  14  104  12   78\n",
       "pixel2351  177  27  117  15   92\n",
       "label        2   2    2   2    2\n",
       "\n",
       "[2353 rows x 5 columns]"
      ]
     },
     "execution_count": 24,
     "metadata": {},
     "output_type": "execute_result"
    }
   ],
   "source": [
    "data = pd.read_csv(\"hmnist_28_28_RGB[1].csv\")\n",
    "data.head().T"
   ]
  },
  {
   "cell_type": "code",
   "execution_count": 25,
   "id": "e7c5892d",
   "metadata": {},
   "outputs": [
    {
     "data": {
      "text/html": [
       "<div>\n",
       "<style scoped>\n",
       "    .dataframe tbody tr th:only-of-type {\n",
       "        vertical-align: middle;\n",
       "    }\n",
       "\n",
       "    .dataframe tbody tr th {\n",
       "        vertical-align: top;\n",
       "    }\n",
       "\n",
       "    .dataframe thead th {\n",
       "        text-align: right;\n",
       "    }\n",
       "</style>\n",
       "<table border=\"1\" class=\"dataframe\">\n",
       "  <thead>\n",
       "    <tr style=\"text-align: right;\">\n",
       "      <th></th>\n",
       "      <th>0</th>\n",
       "      <th>1</th>\n",
       "      <th>2</th>\n",
       "      <th>3</th>\n",
       "      <th>4</th>\n",
       "    </tr>\n",
       "  </thead>\n",
       "  <tbody>\n",
       "    <tr>\n",
       "      <th>pixel0000</th>\n",
       "      <td>192</td>\n",
       "      <td>25</td>\n",
       "      <td>192</td>\n",
       "      <td>38</td>\n",
       "      <td>158</td>\n",
       "    </tr>\n",
       "    <tr>\n",
       "      <th>pixel0001</th>\n",
       "      <td>153</td>\n",
       "      <td>14</td>\n",
       "      <td>138</td>\n",
       "      <td>19</td>\n",
       "      <td>113</td>\n",
       "    </tr>\n",
       "    <tr>\n",
       "      <th>pixel0002</th>\n",
       "      <td>193</td>\n",
       "      <td>30</td>\n",
       "      <td>153</td>\n",
       "      <td>30</td>\n",
       "      <td>139</td>\n",
       "    </tr>\n",
       "    <tr>\n",
       "      <th>pixel0003</th>\n",
       "      <td>195</td>\n",
       "      <td>68</td>\n",
       "      <td>200</td>\n",
       "      <td>95</td>\n",
       "      <td>194</td>\n",
       "    </tr>\n",
       "    <tr>\n",
       "      <th>pixel0004</th>\n",
       "      <td>155</td>\n",
       "      <td>48</td>\n",
       "      <td>145</td>\n",
       "      <td>59</td>\n",
       "      <td>144</td>\n",
       "    </tr>\n",
       "    <tr>\n",
       "      <th>...</th>\n",
       "      <td>...</td>\n",
       "      <td>...</td>\n",
       "      <td>...</td>\n",
       "      <td>...</td>\n",
       "      <td>...</td>\n",
       "    </tr>\n",
       "    <tr>\n",
       "      <th>pixel2351</th>\n",
       "      <td>177</td>\n",
       "      <td>27</td>\n",
       "      <td>117</td>\n",
       "      <td>15</td>\n",
       "      <td>92</td>\n",
       "    </tr>\n",
       "    <tr>\n",
       "      <th>label</th>\n",
       "      <td>2</td>\n",
       "      <td>2</td>\n",
       "      <td>2</td>\n",
       "      <td>2</td>\n",
       "      <td>2</td>\n",
       "    </tr>\n",
       "    <tr>\n",
       "      <th>sex</th>\n",
       "      <td>0</td>\n",
       "      <td>0</td>\n",
       "      <td>0</td>\n",
       "      <td>0</td>\n",
       "      <td>0</td>\n",
       "    </tr>\n",
       "    <tr>\n",
       "      <th>localization</th>\n",
       "      <td>0</td>\n",
       "      <td>0</td>\n",
       "      <td>0</td>\n",
       "      <td>0</td>\n",
       "      <td>1</td>\n",
       "    </tr>\n",
       "    <tr>\n",
       "      <th>age</th>\n",
       "      <td>80</td>\n",
       "      <td>80</td>\n",
       "      <td>80</td>\n",
       "      <td>80</td>\n",
       "      <td>75</td>\n",
       "    </tr>\n",
       "  </tbody>\n",
       "</table>\n",
       "<p>2356 rows × 5 columns</p>\n",
       "</div>"
      ],
      "text/plain": [
       "                0   1    2   3    4\n",
       "pixel0000     192  25  192  38  158\n",
       "pixel0001     153  14  138  19  113\n",
       "pixel0002     193  30  153  30  139\n",
       "pixel0003     195  68  200  95  194\n",
       "pixel0004     155  48  145  59  144\n",
       "...           ...  ..  ...  ..  ...\n",
       "pixel2351     177  27  117  15   92\n",
       "label           2   2    2   2    2\n",
       "sex             0   0    0   0    0\n",
       "localization    0   0    0   0    1\n",
       "age            80  80   80  80   75\n",
       "\n",
       "[2356 rows x 5 columns]"
      ]
     },
     "execution_count": 25,
     "metadata": {},
     "output_type": "execute_result"
    }
   ],
   "source": [
    "data_joined = data.join(skin_met)\n",
    "data_joined.head().T"
   ]
  },
  {
   "cell_type": "code",
   "execution_count": 26,
   "id": "19a90cfc",
   "metadata": {},
   "outputs": [],
   "source": [
    "data_joined.to_csv('skin_ham_met_joined.csv',index=False)"
   ]
  },
  {
   "cell_type": "code",
   "execution_count": 27,
   "id": "074c922d",
   "metadata": {},
   "outputs": [
    {
     "data": {
      "text/html": [
       "<div>\n",
       "<style scoped>\n",
       "    .dataframe tbody tr th:only-of-type {\n",
       "        vertical-align: middle;\n",
       "    }\n",
       "\n",
       "    .dataframe tbody tr th {\n",
       "        vertical-align: top;\n",
       "    }\n",
       "\n",
       "    .dataframe thead th {\n",
       "        text-align: right;\n",
       "    }\n",
       "</style>\n",
       "<table border=\"1\" class=\"dataframe\">\n",
       "  <thead>\n",
       "    <tr style=\"text-align: right;\">\n",
       "      <th></th>\n",
       "      <th>0</th>\n",
       "      <th>1</th>\n",
       "      <th>2</th>\n",
       "      <th>3</th>\n",
       "      <th>4</th>\n",
       "    </tr>\n",
       "  </thead>\n",
       "  <tbody>\n",
       "    <tr>\n",
       "      <th>pixel0000</th>\n",
       "      <td>192</td>\n",
       "      <td>25</td>\n",
       "      <td>192</td>\n",
       "      <td>38</td>\n",
       "      <td>158</td>\n",
       "    </tr>\n",
       "    <tr>\n",
       "      <th>pixel0001</th>\n",
       "      <td>153</td>\n",
       "      <td>14</td>\n",
       "      <td>138</td>\n",
       "      <td>19</td>\n",
       "      <td>113</td>\n",
       "    </tr>\n",
       "    <tr>\n",
       "      <th>pixel0002</th>\n",
       "      <td>193</td>\n",
       "      <td>30</td>\n",
       "      <td>153</td>\n",
       "      <td>30</td>\n",
       "      <td>139</td>\n",
       "    </tr>\n",
       "    <tr>\n",
       "      <th>pixel0003</th>\n",
       "      <td>195</td>\n",
       "      <td>68</td>\n",
       "      <td>200</td>\n",
       "      <td>95</td>\n",
       "      <td>194</td>\n",
       "    </tr>\n",
       "    <tr>\n",
       "      <th>pixel0004</th>\n",
       "      <td>155</td>\n",
       "      <td>48</td>\n",
       "      <td>145</td>\n",
       "      <td>59</td>\n",
       "      <td>144</td>\n",
       "    </tr>\n",
       "    <tr>\n",
       "      <th>...</th>\n",
       "      <td>...</td>\n",
       "      <td>...</td>\n",
       "      <td>...</td>\n",
       "      <td>...</td>\n",
       "      <td>...</td>\n",
       "    </tr>\n",
       "    <tr>\n",
       "      <th>pixel2351</th>\n",
       "      <td>177</td>\n",
       "      <td>27</td>\n",
       "      <td>117</td>\n",
       "      <td>15</td>\n",
       "      <td>92</td>\n",
       "    </tr>\n",
       "    <tr>\n",
       "      <th>label</th>\n",
       "      <td>2</td>\n",
       "      <td>2</td>\n",
       "      <td>2</td>\n",
       "      <td>2</td>\n",
       "      <td>2</td>\n",
       "    </tr>\n",
       "    <tr>\n",
       "      <th>sex</th>\n",
       "      <td>0</td>\n",
       "      <td>0</td>\n",
       "      <td>0</td>\n",
       "      <td>0</td>\n",
       "      <td>0</td>\n",
       "    </tr>\n",
       "    <tr>\n",
       "      <th>localization</th>\n",
       "      <td>0</td>\n",
       "      <td>0</td>\n",
       "      <td>0</td>\n",
       "      <td>0</td>\n",
       "      <td>1</td>\n",
       "    </tr>\n",
       "    <tr>\n",
       "      <th>age</th>\n",
       "      <td>80</td>\n",
       "      <td>80</td>\n",
       "      <td>80</td>\n",
       "      <td>80</td>\n",
       "      <td>75</td>\n",
       "    </tr>\n",
       "  </tbody>\n",
       "</table>\n",
       "<p>2356 rows × 5 columns</p>\n",
       "</div>"
      ],
      "text/plain": [
       "                0   1    2   3    4\n",
       "pixel0000     192  25  192  38  158\n",
       "pixel0001     153  14  138  19  113\n",
       "pixel0002     193  30  153  30  139\n",
       "pixel0003     195  68  200  95  194\n",
       "pixel0004     155  48  145  59  144\n",
       "...           ...  ..  ...  ..  ...\n",
       "pixel2351     177  27  117  15   92\n",
       "label           2   2    2   2    2\n",
       "sex             0   0    0   0    0\n",
       "localization    0   0    0   0    1\n",
       "age            80  80   80  80   75\n",
       "\n",
       "[2356 rows x 5 columns]"
      ]
     },
     "execution_count": 27,
     "metadata": {},
     "output_type": "execute_result"
    }
   ],
   "source": [
    "skindf = pd.read_csv('skin_ham_met_joined.csv')\n",
    "skindf.head().T"
   ]
  },
  {
   "cell_type": "code",
   "execution_count": 28,
   "id": "a6cbef95",
   "metadata": {},
   "outputs": [
    {
     "data": {
      "text/html": [
       "<div>\n",
       "<style scoped>\n",
       "    .dataframe tbody tr th:only-of-type {\n",
       "        vertical-align: middle;\n",
       "    }\n",
       "\n",
       "    .dataframe tbody tr th {\n",
       "        vertical-align: top;\n",
       "    }\n",
       "\n",
       "    .dataframe thead th {\n",
       "        text-align: right;\n",
       "    }\n",
       "</style>\n",
       "<table border=\"1\" class=\"dataframe\">\n",
       "  <thead>\n",
       "    <tr style=\"text-align: right;\">\n",
       "      <th></th>\n",
       "      <th>0</th>\n",
       "      <th>1</th>\n",
       "      <th>2</th>\n",
       "      <th>3</th>\n",
       "      <th>4</th>\n",
       "    </tr>\n",
       "  </thead>\n",
       "  <tbody>\n",
       "    <tr>\n",
       "      <th>pixel0000</th>\n",
       "      <td>192</td>\n",
       "      <td>25</td>\n",
       "      <td>192</td>\n",
       "      <td>38</td>\n",
       "      <td>158</td>\n",
       "    </tr>\n",
       "    <tr>\n",
       "      <th>pixel0001</th>\n",
       "      <td>153</td>\n",
       "      <td>14</td>\n",
       "      <td>138</td>\n",
       "      <td>19</td>\n",
       "      <td>113</td>\n",
       "    </tr>\n",
       "    <tr>\n",
       "      <th>pixel0002</th>\n",
       "      <td>193</td>\n",
       "      <td>30</td>\n",
       "      <td>153</td>\n",
       "      <td>30</td>\n",
       "      <td>139</td>\n",
       "    </tr>\n",
       "    <tr>\n",
       "      <th>pixel0003</th>\n",
       "      <td>195</td>\n",
       "      <td>68</td>\n",
       "      <td>200</td>\n",
       "      <td>95</td>\n",
       "      <td>194</td>\n",
       "    </tr>\n",
       "    <tr>\n",
       "      <th>pixel0004</th>\n",
       "      <td>155</td>\n",
       "      <td>48</td>\n",
       "      <td>145</td>\n",
       "      <td>59</td>\n",
       "      <td>144</td>\n",
       "    </tr>\n",
       "    <tr>\n",
       "      <th>...</th>\n",
       "      <td>...</td>\n",
       "      <td>...</td>\n",
       "      <td>...</td>\n",
       "      <td>...</td>\n",
       "      <td>...</td>\n",
       "    </tr>\n",
       "    <tr>\n",
       "      <th>pixel2351</th>\n",
       "      <td>177</td>\n",
       "      <td>27</td>\n",
       "      <td>117</td>\n",
       "      <td>15</td>\n",
       "      <td>92</td>\n",
       "    </tr>\n",
       "    <tr>\n",
       "      <th>label</th>\n",
       "      <td>2</td>\n",
       "      <td>2</td>\n",
       "      <td>2</td>\n",
       "      <td>2</td>\n",
       "      <td>2</td>\n",
       "    </tr>\n",
       "    <tr>\n",
       "      <th>sex</th>\n",
       "      <td>0</td>\n",
       "      <td>0</td>\n",
       "      <td>0</td>\n",
       "      <td>0</td>\n",
       "      <td>0</td>\n",
       "    </tr>\n",
       "    <tr>\n",
       "      <th>localization</th>\n",
       "      <td>0</td>\n",
       "      <td>0</td>\n",
       "      <td>0</td>\n",
       "      <td>0</td>\n",
       "      <td>1</td>\n",
       "    </tr>\n",
       "    <tr>\n",
       "      <th>age</th>\n",
       "      <td>80</td>\n",
       "      <td>80</td>\n",
       "      <td>80</td>\n",
       "      <td>80</td>\n",
       "      <td>75</td>\n",
       "    </tr>\n",
       "  </tbody>\n",
       "</table>\n",
       "<p>2356 rows × 5 columns</p>\n",
       "</div>"
      ],
      "text/plain": [
       "                0   1    2   3    4\n",
       "pixel0000     192  25  192  38  158\n",
       "pixel0001     153  14  138  19  113\n",
       "pixel0002     193  30  153  30  139\n",
       "pixel0003     195  68  200  95  194\n",
       "pixel0004     155  48  145  59  144\n",
       "...           ...  ..  ...  ..  ...\n",
       "pixel2351     177  27  117  15   92\n",
       "label           2   2    2   2    2\n",
       "sex             0   0    0   0    0\n",
       "localization    0   0    0   0    1\n",
       "age            80  80   80  80   75\n",
       "\n",
       "[2356 rows x 5 columns]"
      ]
     },
     "execution_count": 28,
     "metadata": {},
     "output_type": "execute_result"
    }
   ],
   "source": [
    "skindf.to_csv('skindf.csv', index=False)\n",
    "\n",
    "skindf=pd.read_csv('skindf.csv')\n",
    "skindf.head().T"
   ]
  },
  {
   "cell_type": "code",
   "execution_count": 29,
   "id": "87e268e5",
   "metadata": {},
   "outputs": [
    {
     "data": {
      "text/plain": [
       "(10015, 2356)"
      ]
     },
     "execution_count": 29,
     "metadata": {},
     "output_type": "execute_result"
    }
   ],
   "source": [
    "skindf.shape"
   ]
  },
  {
   "cell_type": "code",
   "execution_count": null,
   "id": "4897ba90",
   "metadata": {},
   "outputs": [],
   "source": []
  }
 ],
 "metadata": {
  "kernelspec": {
   "display_name": "Python 3",
   "language": "python",
   "name": "python3"
  },
  "language_info": {
   "codemirror_mode": {
    "name": "ipython",
    "version": 3
   },
   "file_extension": ".py",
   "mimetype": "text/x-python",
   "name": "python",
   "nbconvert_exporter": "python",
   "pygments_lexer": "ipython3",
   "version": "3.7.4"
  }
 },
 "nbformat": 4,
 "nbformat_minor": 5
}
